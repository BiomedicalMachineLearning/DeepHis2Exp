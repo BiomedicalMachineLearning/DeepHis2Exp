{
 "cells": [
  {
   "cell_type": "markdown",
   "metadata": {},
   "source": [
    "# Top predictable genes"
   ]
  },
  {
   "cell_type": "code",
   "execution_count": null,
   "metadata": {},
   "outputs": [],
   "source": [
    "import torch\n",
    "# Predictions can be the output of model and observations can be the raw gene expression from adata.\n",
    "num_slides = 10\n",
    "predictions = {\"slide\"+str(i): torch.randn(1000, 300) for i in range(num_slides)}\n",
    "observations = {\"slide\"+str(i): torch.randn(1000, 300) for i in range(num_slides)}\n",
    "\n",
    "from scipy.stats import pearsonr, spearmanr\n",
    "pcc_dic, p_v_dic = {}, {}\n",
    "for i in range(len(predictions)):\n",
    "    # Select single slide\n",
    "    prediction, observation = predictions[list(predictions.keys())[i]], observations[list(predictions.keys())[i]]\n",
    "\n",
    "    # The hypothesis is the correlation between predictions and observations is positive (greater than zero)\n",
    "    pcc = [pearsonr(prediction.numpy()[:,g], observation.numpy()[:,g], alternative=\"greater\")[0] for g in range(observation.shape[1])]\n",
    "    p_v = [pearsonr(prediction.numpy()[:,g], observation.numpy()[:,g], alternative=\"greater\")[1] for g in range(observation.shape[1])]\n",
    "    pcc_dic[\"slide\"+str(i)] = pcc\n",
    "    p_v_dic[\"slide\"+str(i)] = p_v\n"
   ]
  },
  {
   "cell_type": "code",
   "execution_count": null,
   "metadata": {},
   "outputs": [],
   "source": [
    "!pip install scanpy\n",
    "import scanpy as sc\n",
    "import numpy as np\n",
    "\n",
    "pred_adata_dic, obs_adata_dic = {}, {}\n",
    "# Store useful information in anndata\n",
    "for slide in list(predictions.keys()):\n",
    "    pred_adata_dic[slide] = sc.AnnData(predictions[slide].numpy())\n",
    "    pred_adata_dic[slide].var[\"PCC\"] = pcc_dic[slide]\n",
    "    pred_adata_dic[slide].var[\"P_value\"] = p_v_dic[slide]\n",
    "    pred_adata_dic[slide].var[\"Slide\"] = slide\n",
    "    pred_adata_dic[slide].var[\"Gene_names\"] = [\"gene\"+str(i) for i in range(predictions[slide].numpy().shape[1])]\n",
    "    # Count cells with expression above the threshold for each gene\n",
    "    n_cells_by_counts = np.sum(observations[slide].numpy() >= 1, axis=0)\n",
    "    pred_adata_dic[slide].var['n_cells_by_counts'] = n_cells_by_counts\n",
    "    # Percent of positive spots within slide\n",
    "    pred_adata_dic[slide].var['Abundance'] = n_cells_by_counts / pred_adata_dic[slide].n_obs\n"
   ]
  },
  {
   "cell_type": "code",
   "execution_count": null,
   "metadata": {},
   "outputs": [],
   "source": [
    "import pandas as pd\n",
    "df = pd.concat([pred_adata_dic[slide].var for slide in list(predictions.keys())])\n",
    "df\n"
   ]
  },
  {
   "cell_type": "code",
   "execution_count": null,
   "metadata": {},
   "outputs": [],
   "source": [
    "import seaborn as sns\n",
    "import matplotlib.pyplot as plt\n",
    "\n",
    "predictable_genes = df[df[\"P_value\"]<0.05]\n",
    "plt.figure(figsize=(18, 6)) \n",
    "sns.boxplot(predictable_genes, x = \"Gene_names\", y = \"PCC\")\n"
   ]
  },
  {
   "cell_type": "code",
   "execution_count": null,
   "metadata": {},
   "outputs": [],
   "source": [
    "# Group by Gene_names and calculate mean, variance, and standard deviation for each gene\n",
    "summary_df = predictable_genes.groupby('Gene_names')['PCC'].agg(['mean', 'var', 'std']).reset_index()\n",
    "\n",
    "# Rename columns for clarity\n",
    "summary_df.columns = ['Gene_names', 'PCC_mean', 'PCC_variance', 'PCC_std']\n",
    "\n",
    "# Calculate high and low bounds\n",
    "summary_df['High_bound'] = summary_df['PCC_mean'] + summary_df['PCC_std']\n",
    "summary_df['Low_bound'] = summary_df['PCC_mean'] - summary_df['PCC_std']\n",
    "summary_df\n"
   ]
  },
  {
   "cell_type": "code",
   "execution_count": null,
   "metadata": {},
   "outputs": [],
   "source": [
    "# Find the predictable genes with high pcc and low variance.\n",
    "# We can filter genes by ranks or threshold.\n",
    "topk = 50\n",
    "low_var_genes = summary_df.sort_values(by='PCC_variance', ascending=True)[\"Gene_names\"][:topk]\n",
    "high_acc_genes = summary_df.sort_values(by='PCC_mean', ascending=False)[\"Gene_names\"][:topk]\n",
    "overlap_genes = list(set(low_var_genes).intersection(high_acc_genes))\n",
    "\n",
    "# Convert the result back to a list (if needed)\n",
    "print(\"Overlap elements:\", overlap_genes)"
   ]
  }
 ],
 "metadata": {
  "language_info": {
   "name": "python"
  }
 },
 "nbformat": 4,
 "nbformat_minor": 2
}
