{
 "cells": [
  {
   "cell_type": "code",
   "execution_count": 5,
   "metadata": {},
   "outputs": [
    {
     "data": {
      "text/html": [
       "<div>\n",
       "<style scoped>\n",
       "    .dataframe tbody tr th:only-of-type {\n",
       "        vertical-align: middle;\n",
       "    }\n",
       "\n",
       "    .dataframe tbody tr th {\n",
       "        vertical-align: top;\n",
       "    }\n",
       "\n",
       "    .dataframe thead th {\n",
       "        text-align: right;\n",
       "    }\n",
       "</style>\n",
       "<table border=\"1\" class=\"dataframe\">\n",
       "  <thead>\n",
       "    <tr style=\"text-align: right;\">\n",
       "      <th></th>\n",
       "      <th>0</th>\n",
       "      <th>1</th>\n",
       "      <th>2</th>\n",
       "      <th>3</th>\n",
       "      <th>geometry</th>\n",
       "    </tr>\n",
       "  </thead>\n",
       "  <tbody>\n",
       "    <tr>\n",
       "      <th>0</th>\n",
       "      <td>0.795022</td>\n",
       "      <td>0.917594</td>\n",
       "      <td>0.739225</td>\n",
       "      <td>0.914600</td>\n",
       "      <td>POINT (0.00000 2.00000)</td>\n",
       "    </tr>\n",
       "    <tr>\n",
       "      <th>1</th>\n",
       "      <td>0.892427</td>\n",
       "      <td>0.846817</td>\n",
       "      <td>0.955910</td>\n",
       "      <td>0.188620</td>\n",
       "      <td>POINT (2.00000 3.00000)</td>\n",
       "    </tr>\n",
       "    <tr>\n",
       "      <th>2</th>\n",
       "      <td>0.042565</td>\n",
       "      <td>0.823697</td>\n",
       "      <td>0.551146</td>\n",
       "      <td>0.436727</td>\n",
       "      <td>POINT (1.00000 2.00000)</td>\n",
       "    </tr>\n",
       "    <tr>\n",
       "      <th>3</th>\n",
       "      <td>0.622213</td>\n",
       "      <td>0.560312</td>\n",
       "      <td>0.157464</td>\n",
       "      <td>0.576156</td>\n",
       "      <td>POINT (4.00000 2.00000)</td>\n",
       "    </tr>\n",
       "  </tbody>\n",
       "</table>\n",
       "</div>"
      ],
      "text/plain": [
       "          0         1         2         3                 geometry\n",
       "0  0.795022  0.917594  0.739225  0.914600  POINT (0.00000 2.00000)\n",
       "1  0.892427  0.846817  0.955910  0.188620  POINT (2.00000 3.00000)\n",
       "2  0.042565  0.823697  0.551146  0.436727  POINT (1.00000 2.00000)\n",
       "3  0.622213  0.560312  0.157464  0.576156  POINT (4.00000 2.00000)"
      ]
     },
     "execution_count": 5,
     "metadata": {},
     "output_type": "execute_result"
    }
   ],
   "source": [
    "import splot\n",
    "import geopandas as gpd\n",
    "import pandas as pd\n",
    "import numpy as np\n",
    "from libpysal.weights.spatial_lag import lag_spatial as slag\n",
    "from libpysal.weights.contiguity import Queen\n",
    "\n",
    "# Assume the adata1 is the observed gene expression, and adata2 is the predicted gene expression\n",
    "adata1 = pd.DataFrame(np.random.rand(4,4))\n",
    "adata2 = pd.DataFrame(np.random.rand(4,4))\n",
    "\n",
    "# Assume the coords is the spatial coordinates of the spots\n",
    "coords = np.array([[0,2],[2,3],[1,2],[4,2]])\n",
    "\n",
    "# Assume the x and y are the observed and predicted gene expression\n",
    "x = adata1.iloc[0, :]\n",
    "y = adata2.iloc[0, :]\n",
    "\n",
    "# This is just compute geometry from coordinates\n",
    "gpd_adata = gpd.GeoDataFrame(adata1, geometry=gpd.points_from_xy(coords[:,0], coords[:,1]))\n",
    "gpd_adata\n"
   ]
  },
  {
   "cell_type": "code",
   "execution_count": 6,
   "metadata": {},
   "outputs": [
    {
     "name": "stdout",
     "output_type": "stream",
     "text": [
      "original weight matrix:\n",
      " [[0. 0. 1. 0.]\n",
      " [0. 0. 1. 1.]\n",
      " [1. 1. 0. 0.]\n",
      " [0. 1. 0. 0.]]\n",
      "{0: [1.0], 1: [1.0, 1.0], 2: [1.0, 1.0], 3: [1.0]}\n",
      "\n",
      "transformed weight matrix:\n",
      " [[0.  0.  1.  0. ]\n",
      " [0.  0.  0.5 0.5]\n",
      " [0.5 0.5 0.  0. ]\n",
      " [0.  1.  0.  0. ]]\n",
      "{0: [1.0], 1: [0.5, 0.5], 2: [0.5, 0.5], 3: [1.0]}\n"
     ]
    },
    {
     "name": "stderr",
     "output_type": "stream",
     "text": [
      "/tmp/ipykernel_481433/1628162136.py:2: FutureWarning: `use_index` defaults to False but will default to True in future. Set True/False directly to control this behavior and silence this warning\n",
      "  w = Queen.from_dataframe(gpd_adata)\n"
     ]
    }
   ],
   "source": [
    "# Here is how to compute the weights\n",
    "w = Queen.from_dataframe(gpd_adata)\n",
    "print(\"original weight matrix:\\n\", w.sparse.toarray())\n",
    "print(w.weights)\n",
    "print()\n",
    "w.transform = \"r\"\n",
    "\n",
    "# We can see the weights\n",
    "print(\"transformed weight matrix:\\n\", w.sparse.toarray())\n",
    "print(w.weights)\n"
   ]
  },
  {
   "cell_type": "code",
   "execution_count": 7,
   "metadata": {},
   "outputs": [
    {
     "data": {
      "text/plain": [
       "0.018689501898518052"
      ]
     },
     "execution_count": 7,
     "metadata": {},
     "output_type": "execute_result"
    }
   ],
   "source": [
    "# z-score\n",
    "zy = (y - y.mean()) / y.std(ddof=1)\n",
    "zx = (x - x.mean()) / x.std(ddof=1)\n",
    "\n",
    "n = x.shape[0]\n",
    "den = n - 1.0 \n",
    "wzy = w.sparse * zy\n",
    "num = (zx * wzy.T).sum()\n",
    "Moran_I = num / den\n",
    "Moran_I\n"
   ]
  }
 ],
 "metadata": {
  "kernelspec": {
   "display_name": "torch2py38",
   "language": "python",
   "name": "python3"
  },
  "language_info": {
   "codemirror_mode": {
    "name": "ipython",
    "version": 3
   },
   "file_extension": ".py",
   "mimetype": "text/x-python",
   "name": "python",
   "nbconvert_exporter": "python",
   "pygments_lexer": "ipython3",
   "version": "3.8.17"
  }
 },
 "nbformat": 4,
 "nbformat_minor": 2
}
