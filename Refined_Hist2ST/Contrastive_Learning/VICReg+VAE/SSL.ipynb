{
 "cells": [
  {
   "cell_type": "code",
   "execution_count": 1,
   "id": "060c75ee",
   "metadata": {},
   "outputs": [],
   "source": [
    "import warnings\n",
    "warnings.filterwarnings(\"ignore\")\n",
    "import torch\n",
    "import torch.nn as nn\n",
    "import torch.nn.functional as F\n",
    "import numpy as np\n",
    "import pandas as pd\n",
    "import scanpy as sc\n",
    "import torchvision\n",
    "import pytorch_lightning as pl\n",
    "from pytorch_lightning import seed_everything\n",
    "from pytorch_lightning.callbacks.early_stopping import EarlyStopping\n",
    "from torch.utils.data import DataLoader\n",
    "\n",
    "\n",
    "from Modules import *\n",
    "from predict import *\n"
   ]
  },
  {
   "cell_type": "code",
   "execution_count": 13,
   "id": "37827adb",
   "metadata": {},
   "outputs": [],
   "source": [
    "class CLR(pl.LightningModule):\n",
    "    def __init__(self, learning_rate = 1e-3, alpha=25, beta=25, gamma=1):\n",
    "        super(CLR, self).__init__()\n",
    "        self.learning_rate = learning_rate\n",
    "        self.alpha, self.beta, self.gamma = alpha, beta, gamma\n",
    "        self.img_encoder = VICReg()\n",
    "        self.exp_encoder = VariationalEncoder()\n",
    "        self.loss = 0\n",
    "        \n",
    "\n",
    "    def forward(self, img, exp):\n",
    "        img_emb = self.img_encoder(img)\n",
    "        exp_emb = self.exp_encoder(exp)\n",
    "        self.loss = VICReg_Loss(img_emb, exp_emb, self.alpha, self.beta, self.gamma)\n",
    "        return self.loss\n",
    "    \n",
    "    def configure_optimizers(self):\n",
    "        optim=torch.optim.Adam(self.parameters(), lr=self.learning_rate)\n",
    "        optim_dict = {'optimizer': optim}\n",
    "        return optim_dict\n",
    "    \n",
    "    \"\"\"Training steps\"\"\"\n",
    "    def training_step(self, batch, batch_idx):\n",
    "        device = 'cuda' if torch.cuda.is_available() else 'cpu'\n",
    "        patch, center, exp, label, adj, oris, sfs, *_ = batch\n",
    "        \n",
    "        # resize the tile to 224\n",
    "        transforms = torch.nn.Sequential(torchvision.transforms.Resize((224, 224)),)\n",
    "        patch = transforms(patch.squeeze(0))\n",
    "        \n",
    "        \"\"\"Model inference\"\"\"\n",
    "        loss = self(patch, exp)\n",
    "        self.log('Loss', loss, on_epoch=True, prog_bar=True, logger=True) \n",
    "        return loss\n",
    "        \n",
    "    def test_step(self, batch, batch_idx):\n",
    "        device = 'cuda' if torch.cuda.is_available() else 'cpu'\n",
    "        patch, center, exp, label, adj, oris, sfs, *_ = batch\n",
    "        \n",
    "        # resize the tile to 224\n",
    "        transforms = torch.nn.Sequential(torchvision.transforms.Resize((224, 224)),)\n",
    "        patch = transforms(patch.squeeze(0))\n",
    "        \n",
    "        \"\"\"Model inference\"\"\"\n",
    "        loss = self(patch, exp)\n",
    "        self.log('Loss', loss, on_epoch=True, prog_bar=True, logger=True)\n"
   ]
  },
  {
   "cell_type": "code",
   "execution_count": null,
   "id": "dcb4a1f1",
   "metadata": {},
   "outputs": [
    {
     "name": "stderr",
     "output_type": "stream",
     "text": [
      "[rank: 0] Global seed set to 42\n"
     ]
    },
    {
     "name": "stdout",
     "output_type": "stream",
     "text": [
      "test sample: ['A1']\n",
      "validation samples: ['A6', 'C2', 'C6']\n",
      "Loading imgs...\n",
      "Loading metadata...\n"
     ]
    },
    {
     "name": "stderr",
     "output_type": "stream",
     "text": [
      "Using cache found in /home/s4654864/.cache/torch/hub/facebookresearch_vicreg_main\n",
      "GPU available: False, used: False\n",
      "TPU available: False, using: 0 TPU cores\n",
      "IPU available: False, using: 0 IPUs\n",
      "HPU available: False, using: 0 HPUs\n",
      "\n",
      "  | Name        | Type               | Params\n",
      "---------------------------------------------------\n",
      "0 | img_encoder | VICReg             | 23.5 M\n",
      "1 | exp_encoder | VariationalEncoder | 5.0 M \n",
      "---------------------------------------------------\n",
      "5.0 M     Trainable params\n",
      "23.5 M    Non-trainable params\n",
      "28.5 M    Total params\n",
      "114.045   Total estimated model params size (MB)\n",
      "SLURM auto-requeueing enabled. Setting signal handlers.\n"
     ]
    },
    {
     "name": "stdout",
     "output_type": "stream",
     "text": [
      "Epoch 36:   0%|          | 0/1 [00:00<?, ?it/s, loss=2.39e+03, Loss_step=2.11e+3, Loss_epoch=2.11e+3]        "
     ]
    }
   ],
   "source": [
    "# folds=[0, 6, 12, 18, 24, 27, 31]\n",
    "\"\"\"Training loops\"\"\"\n",
    "seed = 42\n",
    "epochs = 100\n",
    "fold = 0\n",
    "\n",
    "\"\"\"Load dataset\"\"\"\n",
    "seed_everything(seed)\n",
    "trainset = pk_load(mode='train',fold=fold, )\n",
    "testset = pk_load(mode='test',fold=fold, )\n",
    "train_loader = DataLoader(trainset, batch_size=1, num_workers=0, shuffle=True)\n",
    "test_loader = DataLoader(testset, batch_size=1, num_workers=0, shuffle=False)\n",
    "\n",
    "\"\"\"Define model\"\"\"\n",
    "model = CLR()\n",
    "\n",
    "\"\"\"Setup trainer\"\"\"\n",
    "logger = pl.loggers.CSVLogger(\"logs\", name=f\"Earlystop_gamma{gamma}_{fold}\")\n",
    "trainer = pl.Trainer(accelerator='auto',callbacks=[EarlyStopping(monitor='Loss',mode='min')], max_epochs=epochs,logger=False)\n",
    "trainer.fit(model, test_loader)\n",
    "trainer.test(model, test_loader)\n",
    "\n",
    "\"\"\" Save model and clean memory \"\"\"\n",
    "torch.save(model.state_dict(),f\"./model/Earlystop/VICReg+VAE-seed{seed}-epochs{epochs}.ckpt\")\n",
    "gc.collect()"
   ]
  },
  {
   "cell_type": "code",
   "execution_count": null,
   "id": "ad8dbf0f",
   "metadata": {},
   "outputs": [],
   "source": []
  }
 ],
 "metadata": {
  "kernelspec": {
   "display_name": "Python 3 (ipykernel)",
   "language": "python",
   "name": "python3"
  },
  "language_info": {
   "codemirror_mode": {
    "name": "ipython",
    "version": 3
   },
   "file_extension": ".py",
   "mimetype": "text/x-python",
   "name": "python",
   "nbconvert_exporter": "python",
   "pygments_lexer": "ipython3",
   "version": "3.8.16"
  }
 },
 "nbformat": 4,
 "nbformat_minor": 5
}
