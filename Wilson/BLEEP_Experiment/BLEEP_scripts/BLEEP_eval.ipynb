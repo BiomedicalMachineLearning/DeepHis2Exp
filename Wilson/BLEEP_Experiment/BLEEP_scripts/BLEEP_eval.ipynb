{
 "cells": [
  {
   "cell_type": "code",
   "execution_count": null,
   "metadata": {},
   "outputs": [],
   "source": [
    "import sys\n",
    "import os\n",
    "\n",
    "# Add the folder paths to sys.path\n",
    "sys.path.append(os.path.abspath('/scratch/user/s4647285/DeepHis2Exp/Models/BLEEP'))\n",
    "sys.path.append(os.path.abspath('/scratch/user/s4647285/DeepHis2Exp/Wilson/BLEEP_Experiment'))\n",
    "\n",
    "import bleep as bl\n",
    "import BLEEP_pfizer_dataloader as bpd"
   ]
  },
  {
   "cell_type": "code",
   "execution_count": null,
   "metadata": {},
   "outputs": [],
   "source": [
    "CKPT_PATH = '/scratch/user/s4647285/DeepHis2Exp/Wilson/BLEEP_Experiment/BLEEP_Model_1.ckpt/lightning_logs/version_9995117/checkpoints/epoch=149-step=10500.ckpt'"
   ]
  },
  {
   "cell_type": "code",
   "execution_count": null,
   "metadata": {},
   "outputs": [],
   "source": [
    "import pandas as pd\n",
    "vis_sample_list = [\"VLP78_A\",  \"VLP78_D\",  \"VLP79_A\",  \"VLP79_D\",  \"VLP80_A\", \"VLP80_D\",  \"VLP81_A\",  \"VLP82_A\",  \"VLP82_D\",  \"VLP83_A\",  \"VLP83_D\"]\n",
    "# Load the gene list\n",
    "file_path = \"/QRISdata/Q1851/Wilson/Pfizer/PROCESSED_DATA/samples_markers_intersection.csv\"\n",
    "gene_list_df = pd.read_csv(file_path, header = None)\n",
    "gene_list = gene_list_df.to_numpy().flatten()"
   ]
  },
  {
   "cell_type": "code",
   "execution_count": null,
   "metadata": {},
   "outputs": [],
   "source": [
    "dataloaders = bpd.BLEEP_Pfizer_data_loader(sample_list = vis_sample_list, batch_size = 1, shuffle = True, desired_genes = gene_list, subset_size = 10)"
   ]
  },
  {
   "cell_type": "code",
   "execution_count": null,
   "metadata": {},
   "outputs": [],
   "source": [
    "train_dataloader = dataloaders[0]\n",
    "test_dataloader = dataloaders[1]\n",
    "val_dataloader = dataloaders[2]"
   ]
  },
  {
   "cell_type": "code",
   "execution_count": null,
   "metadata": {},
   "outputs": [],
   "source": [
    "import pytorch_lightning as pl\n",
    "model = bl.BLEEP.load_from_checkpoint(CKPT_PATH)"
   ]
  },
  {
   "cell_type": "code",
   "execution_count": null,
   "metadata": {},
   "outputs": [],
   "source": [
    "model.eval()"
   ]
  },
  {
   "cell_type": "code",
   "execution_count": null,
   "metadata": {},
   "outputs": [],
   "source": [
    "trainer = pl.Trainer(inference_mode=True)"
   ]
  },
  {
   "cell_type": "code",
   "execution_count": null,
   "metadata": {},
   "outputs": [],
   "source": [
    "prediction = bl.bleep_inference(model = model, trainer = trainer, tr_loader = train_dataloader, te_loader = test_dataloader)"
   ]
  },
  {
   "cell_type": "code",
   "execution_count": null,
   "metadata": {},
   "outputs": [],
   "source": [
    "te_exp = prediction[0] #te_exp\n",
    "matched_spot_expression_pred = prediction[1] #matched_spot_expression_pred"
   ]
  },
  {
   "cell_type": "code",
   "execution_count": null,
   "metadata": {},
   "outputs": [],
   "source": [
    "len(prediction[0]), len(prediction[1]), len(prediction[2]), len(prediction[3])"
   ]
  },
  {
   "cell_type": "code",
   "execution_count": null,
   "metadata": {},
   "outputs": [],
   "source": [
    "sample_names = []\n",
    "for name in prediction[3]: #name attached to each spot\n",
    "    sample_names.append(name[0].astype(str))"
   ]
  },
  {
   "cell_type": "code",
   "execution_count": null,
   "metadata": {},
   "outputs": [],
   "source": [
    "x = []\n",
    "y = []\n",
    "for coords in prediction[2]: #splite the coordinates in each spot\n",
    "    x.append(coords[0])\n",
    "    y.append(coords[1])"
   ]
  },
  {
   "cell_type": "code",
   "execution_count": null,
   "metadata": {},
   "outputs": [],
   "source": [
    "import pandas as pd\n",
    "# Convert numpy array to dataframe\n",
    "df_ground_truth = pd.DataFrame(te_exp, columns=gene_list, index=sample_names)\n",
    "df_ground_truth['x'] = x\n",
    "df_ground_truth['y'] = y\n",
    "# Display the dataframe\n",
    "print(df_ground_truth.index.value_counts())\n",
    "print(\"Check the length with the number of spot to be sure we have the right sample\")"
   ]
  },
  {
   "cell_type": "code",
   "execution_count": null,
   "metadata": {},
   "outputs": [],
   "source": [
    "print(df_ground_truth.head())"
   ]
  },
  {
   "cell_type": "code",
   "execution_count": null,
   "metadata": {},
   "outputs": [],
   "source": [
    "import pandas as pd\n",
    "# Convert numpy array to dataframe\n",
    "df_pred = pd.DataFrame(matched_spot_expression_pred, columns=gene_list, index = sample_names)\n",
    "df_pred['x'] = x\n",
    "df_pred['y'] = y\n",
    "# Display the dataframe\n",
    "print(df_ground_truth.index.value_counts())\n",
    "print(df_pred.head())"
   ]
  },
  {
   "cell_type": "code",
   "execution_count": null,
   "metadata": {},
   "outputs": [],
   "source": [
    "import numpy as np\n",
    "test_sample_dict = {}\n",
    "test_sample_names = np.unique(sample_names)\n",
    "for name in test_sample_names:\n",
    "    test_sample_dict[name] = df_pred.loc[name]"
   ]
  },
  {
   "cell_type": "code",
   "execution_count": null,
   "metadata": {},
   "outputs": [],
   "source": [
    "ground_truth_test_sample_dict = {}\n",
    "test_sample_names = np.unique(sample_names)\n",
    "for name in test_sample_names:\n",
    "    ground_truth_test_sample_dict[name] = df_ground_truth.loc[name]"
   ]
  },
  {
   "cell_type": "code",
   "execution_count": null,
   "metadata": {},
   "outputs": [],
   "source": [
    "import matplotlib.pyplot as plt\n",
    "import seaborn as sns\n",
    "# Calculate Pearson correlation coefficients\n",
    "correlation_matrix = df_ground_truth.corrwith(df_pred, method='pearson')\n",
    "\n",
    "# Plotting the correlation coefficients\n",
    "plt.figure(figsize=(10, 6))\n",
    "sns.barplot(x=correlation_matrix.index, y=correlation_matrix.values, palette='viridis')\n",
    "plt.title('Pearson Correlation between Ground Truth and Prediction')\n",
    "plt.xlabel('Genes')\n",
    "plt.ylabel('Correlation Coefficient')\n",
    "plt.xticks(rotation=45, ha='right')\n",
    "plt.tight_layout()\n",
    "plt.show()"
   ]
  },
  {
   "cell_type": "code",
   "execution_count": null,
   "metadata": {},
   "outputs": [],
   "source": [
    "correlation_matrix.nlargest(52)"
   ]
  },
  {
   "cell_type": "code",
   "execution_count": null,
   "metadata": {},
   "outputs": [],
   "source": [
    "import PIL.Image as Image\n",
    "\n",
    "def plot_exp_with_image(df = test_sample_dict,  sample_name = 'VLP79_D', gene_name = 'ETS1', prediction = True):\n",
    "    df_subset = df[sample_name]\n",
    "    df_plot = df_subset.loc[:, [gene_name, 'x', 'y']]\n",
    "    df_plot\n",
    "    image_path = f\"/QRISdata/Q1851/Wilson/Pfizer/PROCESSED_DATA/{sample_name}/{sample_name}.tif\"\n",
    "\n",
    "    # Load the image\n",
    "    im = Image.open(image_path).convert('RGB')\n",
    "\n",
    "    # Plot scatter plot with gene_name as color\n",
    "    plt.figure(figsize=(8, 6))  # Adjust the figure size as needed\n",
    "    plt.imshow(im)\n",
    "    plt.axis('off')  # Turn off axis labels\n",
    "\n",
    "    # Plot scatter plot on top of the image\n",
    "    plt.scatter(df_subset['x'], df_subset['y'], c=df_subset[gene_name], cmap='viridis',vmin = 0, vmax = 1, s=2, alpha=0.7)\n",
    "    plt.colorbar(label='gene_name')\n",
    "    plt.xlabel('X Coordinate')\n",
    "    plt.ylabel('Y Coordinate')\n",
    "    if prediction:\n",
    "        plt.title(f\"{sample_name} with predicted {gene_name} expression \")\n",
    "    else:\n",
    "        plt.title(f\"{sample_name} with ground truth {gene_name} expression \")\n",
    "    plt.show()\n"
   ]
  },
  {
   "cell_type": "code",
   "execution_count": null,
   "metadata": {},
   "outputs": [],
   "source": [
    "plot_exp_with_image()\n",
    "plot_exp_with_image(df = ground_truth_test_sample_dict,sample_name = 'VLP79_D', gene_name = 'ETS1', prediction=False )"
   ]
  },
  {
   "cell_type": "code",
   "execution_count": null,
   "metadata": {},
   "outputs": [],
   "source": [
    "plot_exp_with_image(df = test_sample_dict,sample_name = 'VLP80_D', gene_name = 'ETS1', prediction=True )\n",
    "plot_exp_with_image(df = ground_truth_test_sample_dict,sample_name = 'VLP80_D', gene_name = 'ETS1', prediction=False )"
   ]
  },
  {
   "cell_type": "code",
   "execution_count": null,
   "metadata": {},
   "outputs": [],
   "source": [
    "plot_exp_with_image(df = test_sample_dict,sample_name = 'VLP80_A', gene_name = 'ETS1', prediction=True )\n",
    "plot_exp_with_image(df = ground_truth_test_sample_dict,sample_name = 'VLP80_A', gene_name = 'ETS1', prediction=False )"
   ]
  },
  {
   "cell_type": "code",
   "execution_count": null,
   "metadata": {},
   "outputs": [],
   "source": [
    "plot_exp_with_image(df = test_sample_dict,sample_name = 'VLP80_A', gene_name = 'C1S', prediction=True )\n",
    "plot_exp_with_image(df = ground_truth_test_sample_dict,sample_name = 'VLP80_A', gene_name = 'C1S', prediction=False )"
   ]
  },
  {
   "cell_type": "code",
   "execution_count": null,
   "metadata": {},
   "outputs": [],
   "source": [
    "plot_exp_with_image(df = test_sample_dict,sample_name = 'VLP80_D', gene_name = 'C1S', prediction=True )\n",
    "plot_exp_with_image(df = ground_truth_test_sample_dict,sample_name = 'VLP80_D', gene_name = 'C1S', prediction=False )"
   ]
  },
  {
   "cell_type": "code",
   "execution_count": null,
   "metadata": {},
   "outputs": [],
   "source": [
    "plot_exp_with_image(df = test_sample_dict,sample_name = 'VLP79_D', gene_name = 'C1S', prediction=True )\n",
    "plot_exp_with_image(df = ground_truth_test_sample_dict,sample_name = 'VLP79_D', gene_name = 'C1S', prediction=False )"
   ]
  },
  {
   "cell_type": "code",
   "execution_count": null,
   "metadata": {},
   "outputs": [],
   "source": [
    "plot_exp_with_image(df = test_sample_dict,sample_name = 'VLP79_D', gene_name = 'IKZF1', prediction=True )\n",
    "plot_exp_with_image(df = ground_truth_test_sample_dict,sample_name = 'VLP79_D', gene_name = 'IKZF1', prediction=False )"
   ]
  },
  {
   "cell_type": "code",
   "execution_count": null,
   "metadata": {},
   "outputs": [],
   "source": [
    "plot_exp_with_image(df = test_sample_dict,sample_name = 'VLP80_D', gene_name = 'IKZF1', prediction=True )\n",
    "plot_exp_with_image(df = ground_truth_test_sample_dict,sample_name = 'VLP80_D', gene_name = 'IKZF1', prediction=False )"
   ]
  },
  {
   "cell_type": "code",
   "execution_count": null,
   "metadata": {},
   "outputs": [],
   "source": [
    "plot_exp_with_image(df = test_sample_dict,sample_name = 'VLP80_A', gene_name = 'IKZF1', prediction=True )\n",
    "plot_exp_with_image(df = ground_truth_test_sample_dict,sample_name = 'VLP80_A', gene_name = 'IKZF1', prediction=False )"
   ]
  },
  {
   "cell_type": "code",
   "execution_count": null,
   "metadata": {},
   "outputs": [],
   "source": [
    "import matplotlib.pyplot as plt\n",
    "import numpy as np\n",
    "\n",
    "# Get the top 5 genes\n",
    "top5_genes = correlation_matrix.nlargest(5).index\n",
    "\n",
    "# Create a plot for each of the top 5 genes\n",
    "for gene in top5_genes:\n",
    "    plt.figure(figsize=(10, 6))\n",
    "    plt.title(f'Dot Plot for Gene: {gene}')\n",
    "    plt.xlabel('Spots')\n",
    "    plt.ylabel('Expression Values')\n",
    "    \n",
    "    # Assuming your DataFrames have the same number of rows as te_exp\n",
    "    num_spots = len(df_ground_truth)\n",
    "    \n",
    "    # Set x-ticks\n",
    "    plt.xticks(ticks=np.arange(0, num_spots, step=num_spots//10), \n",
    "               labels=np.arange(1, num_spots+1, step=num_spots//10))\n",
    "\n",
    "    # Dot plot for ground truth\n",
    "    plt.scatter(np.arange(num_spots), df_ground_truth[gene], \n",
    "                c='blue', alpha=0.6, edgecolors='w', linewidth=0.5, \n",
    "                label='Ground Truth')\n",
    "\n",
    "    # Dot plot for prediction\n",
    "    plt.scatter(np.arange(num_spots), df_pred[gene], \n",
    "                c='red', alpha=0.6, edgecolors='w', linewidth=0.5, \n",
    "                label='Prediction')\n",
    "\n",
    "    plt.legend()\n",
    "    plt.tight_layout()\n",
    "    plt.show()"
   ]
  }
 ],
 "metadata": {
  "kernelspec": {
   "display_name": "DL",
   "language": "python",
   "name": "python3"
  },
  "language_info": {
   "codemirror_mode": {
    "name": "ipython",
    "version": 3
   },
   "file_extension": ".py",
   "mimetype": "text/x-python",
   "name": "python",
   "nbconvert_exporter": "python",
   "pygments_lexer": "ipython3",
   "version": "3.10.14"
  }
 },
 "nbformat": 4,
 "nbformat_minor": 2
}
