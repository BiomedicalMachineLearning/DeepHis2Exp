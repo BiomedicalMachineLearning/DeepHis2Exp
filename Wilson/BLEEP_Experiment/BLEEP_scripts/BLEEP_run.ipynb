{
 "cells": [
  {
   "cell_type": "code",
   "execution_count": null,
   "metadata": {},
   "outputs": [],
   "source": [
    "import sys\n",
    "import os\n",
    "\n",
    "# Add the folder paths to sys.path\n",
    "sys.path.append(os.path.abspath('/scratch/user/s4647285/DeepHis2Exp/Models/BLEEP'))\n",
    "sys.path.append(os.path.abspath('/scratch/user/s4647285/DeepHis2Exp/Dataloader'))\n",
    "sys.path.append(os.path.abspath(\"/scratch/user/s4647285/DeepHis2Exp/Wilson/BLEEP_Experiment\"))\n",
    "\n",
    "import torch\n",
    "import pytorch_lightning as pl\n",
    "import bleep as bl\n",
    "import scanpy as sc\n",
    "import stlearn as st\n",
    "import pandas as pd\n",
    "import BLEEP_pfizer_dataloader as bpd\n"
   ]
  },
  {
   "cell_type": "code",
   "execution_count": null,
   "metadata": {},
   "outputs": [],
   "source": [
    "INPUT_PATH = \"/QRISdata/Q1851/Wilson/Pfizer/PROCESSED_DATA/\" "
   ]
  },
  {
   "cell_type": "code",
   "execution_count": null,
   "metadata": {},
   "outputs": [],
   "source": [
    "# Load the gene list\n",
    "file_path = \"/QRISdata/Q1851/Wilson/Pfizer/PROCESSED_DATA/samples_markers_intersection.csv\"\n",
    "gene_list_df = pd.read_csv(file_path, header = None)\n",
    "gene_list = gene_list_df.to_numpy().flatten()\n",
    "print(\"The gene list is loaded\")\n",
    "\n",
    "#load sample list \n",
    "vis_sample_list = [\"VLP78_A\",  \"VLP78_D\",  \"VLP79_A\",  \"VLP79_D\",  \"VLP80_A\",  \"VLP80_D\",  \"VLP81_A\",  \"VLP82_A\",  \"VLP82_D\",  \"VLP83_A\",  \"VLP83_D\"]\n",
    "\n",
    "batch_size = 1\n",
    "\n",
    "dataloaders = bpd.BLEEP_Pfizer_data_loader(sample_list = vis_sample_list, batch_size = batch_size, shuffle = True, desired_genes = gene_list, subset_size = 10)\n",
    "\n",
    "train_dataloader = dataloaders[0]\n",
    "test_dataloader = dataloaders[1]\n",
    "val_dataloader = dataloaders[2]\n",
    "# specify number of epochs\n",
    "print(\"The data is loaded\")\n"
   ]
  },
  {
   "cell_type": "code",
   "execution_count": null,
   "metadata": {},
   "outputs": [],
   "source": [
    "num_epoch = 150\n",
    "print(\"The model has the maximum of\", num_epoch, \"epochs\")"
   ]
  },
  {
   "cell_type": "code",
   "execution_count": null,
   "metadata": {},
   "outputs": [],
   "source": [
    "#create an instance of the model\n",
    "model = bl.BLEEP(n_genes = len(gene_list))\n",
    "\n",
    "#train\n",
    "trainer = pl.Trainer(max_epochs=num_epoch, check_val_every_n_epoch=5, default_root_dir = \"/scratch/user/s4647285/DeepHis2Exp/Wilson/BLEEP_Experiment/BLEEP_Model_1_rerun.ckpt\")\n",
    "trainer.fit(model, train_dataloaders = train_dataloader, val_dataloaders = val_dataloader)\n"
   ]
  },
  {
   "cell_type": "code",
   "execution_count": null,
   "metadata": {},
   "outputs": [],
   "source": [
    "train_loss_np = []\n",
    "\n",
    "for loss in model.train_loss:\n",
    "    train_loss_np.append(loss.cpu().detach().numpy())\n",
    "    \n",
    "import matplotlib.pyplot as plt\n",
    "\n",
    "plt.plot(train_loss_np)\n",
    "plt.title('Training Loss per Epoch')\n",
    "plt.xlabel('Epoch')\n",
    "plt.ylabel('Loss')\n",
    "plt.show()"
   ]
  },
  {
   "cell_type": "code",
   "execution_count": null,
   "metadata": {},
   "outputs": [],
   "source": [
    "val_loss_np = []\n",
    "\n",
    "for loss in model.val_loss:\n",
    "    val_loss_np.append(loss.cpu().detach().numpy())\n",
    "    \n",
    "import matplotlib.pyplot as plt\n",
    "\n",
    "plt.plot(val_loss_np)\n",
    "plt.title('Training Loss per Epoch')\n",
    "plt.xlabel('Epoch')\n",
    "plt.ylabel('Loss')\n",
    "plt.show()"
   ]
  },
  {
   "cell_type": "code",
   "execution_count": null,
   "metadata": {},
   "outputs": [],
   "source": [
    "#test\n",
    "trainer.test(model, test_dataloader)"
   ]
  }
 ],
 "metadata": {
  "kernelspec": {
   "display_name": "DL",
   "language": "python",
   "name": "python3"
  },
  "language_info": {
   "codemirror_mode": {
    "name": "ipython",
    "version": 3
   },
   "file_extension": ".py",
   "mimetype": "text/x-python",
   "name": "python",
   "nbconvert_exporter": "python",
   "pygments_lexer": "ipython3",
   "version": "3.10.14"
  }
 },
 "nbformat": 4,
 "nbformat_minor": 2
}
