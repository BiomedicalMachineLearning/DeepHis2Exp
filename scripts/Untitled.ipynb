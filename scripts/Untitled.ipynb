{
 "cells": [
  {
   "cell_type": "code",
   "execution_count": 1,
   "id": "f07cd0a6-e44c-41e6-aa28-1971817e15c2",
   "metadata": {
    "tags": []
   },
   "outputs": [
    {
     "ename": "ModuleNotFoundError",
     "evalue": "No module named 'stlearn'",
     "output_type": "error",
     "traceback": [
      "\u001b[0;31m---------------------------------------------------------------------------\u001b[0m",
      "\u001b[0;31mModuleNotFoundError\u001b[0m                       Traceback (most recent call last)",
      "Cell \u001b[0;32mIn[1], line 3\u001b[0m\n\u001b[1;32m      1\u001b[0m \u001b[38;5;28;01mimport\u001b[39;00m \u001b[38;5;21;01msys\u001b[39;00m\n\u001b[1;32m      2\u001b[0m \u001b[38;5;28;01mimport\u001b[39;00m \u001b[38;5;21;01mtime\u001b[39;00m\n\u001b[0;32m----> 3\u001b[0m \u001b[38;5;28;01mimport\u001b[39;00m \u001b[38;5;21;01mstlearn\u001b[39;00m \u001b[38;5;28;01mas\u001b[39;00m \u001b[38;5;21;01mst\u001b[39;00m\n\u001b[1;32m      4\u001b[0m st\u001b[38;5;241m.\u001b[39msettings\u001b[38;5;241m.\u001b[39mset_figure_params(dpi\u001b[38;5;241m=\u001b[39m\u001b[38;5;241m300\u001b[39m)\n\u001b[1;32m      5\u001b[0m \u001b[38;5;28;01mfrom\u001b[39;00m \u001b[38;5;21;01mpathlib\u001b[39;00m \u001b[38;5;28;01mimport\u001b[39;00m Path\n",
      "\u001b[0;31mModuleNotFoundError\u001b[0m: No module named 'stlearn'"
     ]
    }
   ],
   "source": [
    "import sys\n",
    "import time\n",
    "import stlearn as st\n",
    "st.settings.set_figure_params(dpi=300)\n",
    "from pathlib import Path\n",
    "import pandas as pd\n",
    "import matplotlib.pyplot as plt\n",
    "import matplotlib\n",
    "import sys\n",
    "file = Path(\"../models/STimage/stimage\").resolve()\n",
    "parent= file.parent\n",
    "sys.path.append(str(parent))\n",
    "from PIL import Image\n",
    "from stimage._utils import gene_plot, Read10X, ReadOldST, tiling, ensembl_to_id\n",
    "from stimage._model import CNN_NB_multiple_genes, negative_binomial_layer, negative_binomial_loss\n",
    "from stimage._data_generator import DataGenerator\n",
    "import tensorflow as tf\n",
    "import seaborn as sns\n",
    "sns.set_style(\"white\")\n",
    "import matplotlib.pyplot as plt\n",
    "from scipy import stats\n",
    "import numpy as np\n",
    "# import geopandas as gpd\n",
    "from sklearn.neighbors import KDTree\n",
    "from anndata import read_h5ad\n",
    "from tensorflow.keras import backend as K\n",
    "import scanpy as sc\n",
    "\n",
    "import matplotlib.pyplot as plt\n",
    "from libpysal.weights.contiguity import Queen\n",
    "from libpysal import examples\n",
    "import numpy as np\n",
    "import pandas as pd\n",
    "import geopandas as gpd\n",
    "import os\n",
    "import splot\n",
    "from splot.esda import moran_scatterplot, lisa_cluster\n",
    "from esda.moran import Moran, Moran_Local\n",
    "from esda.moran import Moran_BV, Moran_Local_BV\n",
    "from splot.esda import plot_moran_bv_simulation, plot_moran_bv, plot_local_autocorrelation\n",
    "import pickle\n",
    "from scipy import stats\n",
    "\n",
    "def plot_correlation(df, attr_1, attr_2):\n",
    "    r = stats.pearsonr(df[attr_1], \n",
    "                       df[attr_2])[0] **2\n",
    "\n",
    "    g = sns.lmplot(data=df,\n",
    "        x=attr_1, y=attr_2,\n",
    "        height=5, legend=True\n",
    "    )\n",
    "    # g.set(ylim=(0, 360), xlim=(0,360))\n",
    "\n",
    "    g.set_axis_labels(attr_1, attr_2)\n",
    "    plt.annotate(r'$R^2:{0:.2f}$'.format(r),\n",
    "                (max(df[attr_1])*0.9, max(df[attr_2])*0.9))\n",
    "    return g\n",
    "\n",
    "\n",
    "def calculate_correlation(attr_1, attr_2):\n",
    "    r = stats.pearsonr(attr_1, \n",
    "                       attr_2)[0]\n",
    "    return r\n",
    "\n",
    "def calculate_correlation_2(attr_1, attr_2):\n",
    "    r = stats.spearmanr(attr_1, \n",
    "                       attr_2)[0]\n",
    "    return r\n",
    "\n",
    "\n",
    "DATA_PATH = Path(\"../data/pfizer\")\n",
    "OUT_PATH = Path(\"../trained_models\")\n",
    "\n",
    "adata_all = read_h5ad(DATA_PATH / \"all_adata.h5ad\")\n",
    "# adata_all.obs['tile_path'] = adata_all.obs['tile_path'].apply(lambda x: x.replace('/clusterdata/uqxtan9/Q1851/Xiao/Working_project/','../data/'))\n",
    "\n",
    "# adata_all = ensembl_to_id(adata_all)\n",
    "\n",
    "samples = adata_all.obs[\"library_id\"].unique().tolist()\n",
    "\n",
    "# gene_list=[\"COX6C\",\"TTLL12\", \"PABPC1\", \"GNAS\", \"HSP90AB1\", \n",
    "#            \"TFF3\", \"ATP1A1\", \"B2M\", \"FASN\", \"SPARC\", \"CD74\", \"CD63\", \"CD24\", \"CD81\"]\n",
    "\n",
    "# gene_list_path = \"./gene_list.pkl\"\n",
    "# with open(gene_list_path, 'rb') as f:\n",
    "#     gene_list = pickle.load(f)\n",
    "\n",
    "from read_stimage_genes import read_gene_set_hvg\n",
    "gene_list = read_gene_set_hvg(\"../data/pfizer/\", out=\"list\")\n",
    "\n",
    "df = pd.DataFrame()\n",
    "\n",
    "i = int(sys.argv[1])\n",
    "test_sample = samples[i]\n",
    "n_genes = len(gene_list)\n",
    "print(\"test sample\", test_sample)\n",
    "\n",
    "print(\"number of genes: \", n_genes)\n",
    "\n",
    "adata_all_train_valid = adata_all[adata_all.obs[\"library_id\"].isin(\n",
    "    adata_all.obs.library_id.cat.remove_categories(test_sample).unique())]\n",
    "\n",
    "training_index = adata_all_train_valid.obs.sample(frac=0.7, random_state=1).index\n",
    "training_dataset = adata_all_train_valid[training_index,].copy()\n",
    "\n",
    "valid_index = adata_all_train_valid.obs.index.isin(training_index)\n",
    "valid_dataset = adata_all_train_valid[~valid_index,].copy()\n",
    "\n",
    "test_index = adata_all.obs.library_id == test_sample\n",
    "test_dataset_1 = adata_all[test_index,].copy()\n",
    "\n",
    "print(\"num obs\")\n",
    "print(test_dataset_1.num_obs)\n"
   ]
  },
  {
   "cell_type": "code",
   "execution_count": 5,
   "id": "2e2a5f49-2009-4088-a55e-1b4a22901df1",
   "metadata": {
    "tags": []
   },
   "outputs": [],
   "source": [
    "from anndata import read_h5ad\n",
    "import matplotlib.pyplot as plt\n",
    "from scipy import stats\n",
    "import numpy as np\n",
    "import sys\n",
    "import time\n",
    "from pathlib import Path\n",
    "import pandas as pd\n",
    "import matplotlib.pyplot as plt\n",
    "import matplotlib\n",
    "import sys\n",
    "file = Path(\"../models/STimage/stimage\").resolve()\n"
   ]
  },
  {
   "cell_type": "code",
   "execution_count": 7,
   "id": "a4969052-6f4f-4b29-8ca6-84faae45d187",
   "metadata": {
    "tags": []
   },
   "outputs": [
    {
     "name": "stdout",
     "output_type": "stream",
     "text": [
      "test sample VLP79_D\n",
      "number of genes:  1000\n"
     ]
    }
   ],
   "source": [
    "DATA_PATH = Path(\"../data/pfizer\")\n",
    "OUT_PATH = Path(\"../trained_models\")\n",
    "\n",
    "adata_all = read_h5ad(DATA_PATH / \"all_adata.h5ad\")\n",
    "# adata_all.obs['tile_path'] = adata_all.obs['tile_path'].apply(lambda x: x.replace('/clusterdata/uqxtan9/Q1851/Xiao/Working_project/','../data/'))\n",
    "\n",
    "# adata_all = ensembl_to_id(adata_all)\n",
    "\n",
    "samples = adata_all.obs[\"library_id\"].unique().tolist()\n",
    "\n",
    "# gene_list=[\"COX6C\",\"TTLL12\", \"PABPC1\", \"GNAS\", \"HSP90AB1\", \n",
    "#            \"TFF3\", \"ATP1A1\", \"B2M\", \"FASN\", \"SPARC\", \"CD74\", \"CD63\", \"CD24\", \"CD81\"]\n",
    "\n",
    "# gene_list_path = \"./gene_list.pkl\"\n",
    "# with open(gene_list_path, 'rb') as f:\n",
    "#     gene_list = pickle.load(f)\n",
    "\n",
    "from read_stimage_genes import read_gene_set_hvg\n",
    "gene_list = read_gene_set_hvg(\"../data/pfizer/\", out=\"list\")\n",
    "\n",
    "df = pd.DataFrame()\n",
    "\n",
    "i = 1\n",
    "test_sample = samples[i]\n",
    "n_genes = len(gene_list)\n",
    "print(\"test sample\", test_sample)\n",
    "\n",
    "print(\"number of genes: \", n_genes)\n",
    "\n",
    "adata_all_train_valid = adata_all[adata_all.obs[\"library_id\"].isin(\n",
    "    adata_all.obs.library_id.cat.remove_categories(test_sample).unique())]\n",
    "\n",
    "training_index = adata_all_train_valid.obs.sample(frac=0.7, random_state=1).index\n",
    "training_dataset = adata_all_train_valid[training_index,].copy()\n",
    "\n",
    "valid_index = adata_all_train_valid.obs.index.isin(training_index)\n",
    "valid_dataset = adata_all_train_valid[~valid_index,].copy()\n",
    "\n",
    "test_index = adata_all.obs.library_id == test_sample\n",
    "test_dataset_1 = adata_all[test_index,].copy()\n"
   ]
  },
  {
   "cell_type": "code",
   "execution_count": 11,
   "id": "f17e1af6-1a61-4276-9dc2-65e9dcc7514f",
   "metadata": {
    "tags": []
   },
   "outputs": [
    {
     "data": {
      "text/plain": [
       "View of AnnData object with n_obs × n_vars = 35954 × 18085\n",
       "    obs: 'in_tissue', 'array_row', 'array_col', 'sum_counts', 'imagecol', 'imagerow', 'tile_tissue_mask_path', 'tissue_area', 'tile_path', 'library_id'\n",
       "    var: 'gene_ids', 'feature_types', 'genome'\n",
       "    uns: 'spatial'\n",
       "    obsm: 'spatial'"
      ]
     },
     "execution_count": 11,
     "metadata": {},
     "output_type": "execute_result"
    }
   ],
   "source": [
    "adata_all_train_valid"
   ]
  },
  {
   "cell_type": "code",
   "execution_count": 9,
   "id": "561dedde-560e-49d1-9ba0-08a92eeaf5a7",
   "metadata": {
    "tags": []
   },
   "outputs": [
    {
     "data": {
      "text/plain": [
       "AACACTTGGCAAGGAA-1-VLP79_A    VLP79_A\n",
       "AACAGGATTCATAGTT-1-VLP79_A    VLP79_A\n",
       "AACAGGTTCACCGAAG-1-VLP79_A    VLP79_A\n",
       "AACAGTCCACGCGGTG-1-VLP79_A    VLP79_A\n",
       "AACATAGTCTATCTAC-1-VLP79_A    VLP79_A\n",
       "                               ...   \n",
       "TGTTGGAACGAGGTCA-1-VLP78_A    VLP78_A\n",
       "TGTTGGAAGCTCGGTA-1-VLP78_A    VLP78_A\n",
       "TGTTGGATGGACTTCT-1-VLP78_A    VLP78_A\n",
       "TGTTGGCCAGACCTAC-1-VLP78_A    VLP78_A\n",
       "TGTTGGCCTACACGTG-1-VLP78_A    VLP78_A\n",
       "Name: library_id, Length: 35954, dtype: category\n",
       "Categories (9, object): ['VLP79_A', 'VLP80_A', 'VLP80_D', 'VLP81_A', ..., 'VLP82_D', 'VLP83_A', 'VLP83_D', 'VLP78_A']"
      ]
     },
     "execution_count": 9,
     "metadata": {},
     "output_type": "execute_result"
    }
   ],
   "source": [
    "adata_all_train_valid.obs['library_id']"
   ]
  },
  {
   "cell_type": "code",
   "execution_count": 15,
   "id": "98616a44-df35-4276-bc6d-ba6bb41c4371",
   "metadata": {
    "tags": []
   },
   "outputs": [
    {
     "data": {
      "text/plain": [
       "AnnData object with n_obs × n_vars = 25168 × 18085\n",
       "    obs: 'in_tissue', 'array_row', 'array_col', 'sum_counts', 'imagecol', 'imagerow', 'tile_tissue_mask_path', 'tissue_area', 'tile_path', 'library_id'\n",
       "    var: 'gene_ids', 'feature_types', 'genome'\n",
       "    uns: 'spatial'\n",
       "    obsm: 'spatial'"
      ]
     },
     "execution_count": 15,
     "metadata": {},
     "output_type": "execute_result"
    }
   ],
   "source": [
    "training_dataset"
   ]
  },
  {
   "cell_type": "code",
   "execution_count": 16,
   "id": "2689f835-0208-4e71-9a85-f556d8796a24",
   "metadata": {
    "tags": []
   },
   "outputs": [
    {
     "data": {
      "text/plain": [
       "AnnData object with n_obs × n_vars = 10786 × 18085\n",
       "    obs: 'in_tissue', 'array_row', 'array_col', 'sum_counts', 'imagecol', 'imagerow', 'tile_tissue_mask_path', 'tissue_area', 'tile_path', 'library_id'\n",
       "    var: 'gene_ids', 'feature_types', 'genome'\n",
       "    uns: 'spatial'\n",
       "    obsm: 'spatial'"
      ]
     },
     "execution_count": 16,
     "metadata": {},
     "output_type": "execute_result"
    }
   ],
   "source": [
    "valid_dataset"
   ]
  },
  {
   "cell_type": "code",
   "execution_count": 14,
   "id": "b9be4d9c-4a56-476a-a5f2-11d8595054a2",
   "metadata": {
    "tags": []
   },
   "outputs": [
    {
     "data": {
      "text/plain": [
       "AACACGTGCATCGCAC-1-VLP79_D    VLP79_D\n",
       "AACAGGAAGAGCATAG-1-VLP79_D    VLP79_D\n",
       "AACAGGATTCATAGTT-1-VLP79_D    VLP79_D\n",
       "AACAGGTTATTGCACC-1-VLP79_D    VLP79_D\n",
       "AACAGGTTCACCGAAG-1-VLP79_D    VLP79_D\n",
       "                               ...   \n",
       "TGTTGGAACCTTCCGC-1-VLP79_D    VLP79_D\n",
       "TGTTGGAACGAGGTCA-1-VLP79_D    VLP79_D\n",
       "TGTTGGATGGACTTCT-1-VLP79_D    VLP79_D\n",
       "TGTTGGCCAGACCTAC-1-VLP79_D    VLP79_D\n",
       "TGTTGGCCTACACGTG-1-VLP79_D    VLP79_D\n",
       "Name: library_id, Length: 3135, dtype: category\n",
       "Categories (1, object): ['VLP79_D']"
      ]
     },
     "execution_count": 14,
     "metadata": {},
     "output_type": "execute_result"
    }
   ],
   "source": [
    "test_dataset_1.obs['library_id']"
   ]
  },
  {
   "cell_type": "code",
   "execution_count": null,
   "id": "c6ccea4b-5439-4d5c-a6af-defeab518676",
   "metadata": {},
   "outputs": [],
   "source": []
  }
 ],
 "metadata": {
  "kernelspec": {
   "display_name": "Python 3 (ipykernel)",
   "language": "python",
   "name": "python3"
  },
  "language_info": {
   "codemirror_mode": {
    "name": "ipython",
    "version": 3
   },
   "file_extension": ".py",
   "mimetype": "text/x-python",
   "name": "python",
   "nbconvert_exporter": "python",
   "pygments_lexer": "ipython3",
   "version": "3.8.16"
  }
 },
 "nbformat": 4,
 "nbformat_minor": 5
}
