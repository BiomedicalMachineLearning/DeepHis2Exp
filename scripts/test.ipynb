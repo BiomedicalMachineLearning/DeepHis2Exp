{
 "cells": [
  {
   "cell_type": "code",
   "execution_count": 1,
   "id": "020fe173-e878-42c4-aed6-30e44f007680",
   "metadata": {
    "tags": []
   },
   "outputs": [],
   "source": [
    "import scanpy as sc\n",
    "import pandas as pd"
   ]
  },
  {
   "cell_type": "code",
   "execution_count": 2,
   "id": "b4171ae2-f6e3-441e-b5f7-bc30ac3ef15b",
   "metadata": {
    "tags": []
   },
   "outputs": [],
   "source": [
    "data_path = \"../data/1142243F/\"\n",
    "\n",
    "# adata = sc.read_10x_mtx(data_path + \"filtered_count_matrix\")"
   ]
  },
  {
   "cell_type": "code",
   "execution_count": 3,
   "id": "19d4173d-51a7-4bf0-9e59-29caad0c6844",
   "metadata": {},
   "outputs": [
    {
     "data": {
      "text/html": [
       "<div>\n",
       "<style scoped>\n",
       "    .dataframe tbody tr th:only-of-type {\n",
       "        vertical-align: middle;\n",
       "    }\n",
       "\n",
       "    .dataframe tbody tr th {\n",
       "        vertical-align: top;\n",
       "    }\n",
       "\n",
       "    .dataframe thead th {\n",
       "        text-align: right;\n",
       "    }\n",
       "</style>\n",
       "<table border=\"1\" class=\"dataframe\">\n",
       "  <thead>\n",
       "    <tr style=\"text-align: right;\">\n",
       "      <th></th>\n",
       "      <th>0</th>\n",
       "      <th>1</th>\n",
       "      <th>2</th>\n",
       "    </tr>\n",
       "  </thead>\n",
       "  <tbody>\n",
       "    <tr>\n",
       "      <th>0</th>\n",
       "      <td>ENSG00000243485</td>\n",
       "      <td>MIR1302-2HG</td>\n",
       "      <td>Gene Expression</td>\n",
       "    </tr>\n",
       "    <tr>\n",
       "      <th>1</th>\n",
       "      <td>ENSG00000237613</td>\n",
       "      <td>FAM138A</td>\n",
       "      <td>Gene Expression</td>\n",
       "    </tr>\n",
       "    <tr>\n",
       "      <th>2</th>\n",
       "      <td>ENSG00000186092</td>\n",
       "      <td>OR4F5</td>\n",
       "      <td>Gene Expression</td>\n",
       "    </tr>\n",
       "    <tr>\n",
       "      <th>3</th>\n",
       "      <td>ENSG00000238009</td>\n",
       "      <td>AL627309.1</td>\n",
       "      <td>Gene Expression</td>\n",
       "    </tr>\n",
       "    <tr>\n",
       "      <th>4</th>\n",
       "      <td>ENSG00000239945</td>\n",
       "      <td>AL627309.3</td>\n",
       "      <td>Gene Expression</td>\n",
       "    </tr>\n",
       "    <tr>\n",
       "      <th>...</th>\n",
       "      <td>...</td>\n",
       "      <td>...</td>\n",
       "      <td>...</td>\n",
       "    </tr>\n",
       "    <tr>\n",
       "      <th>36596</th>\n",
       "      <td>ENSG00000277836</td>\n",
       "      <td>AC141272.1</td>\n",
       "      <td>Gene Expression</td>\n",
       "    </tr>\n",
       "    <tr>\n",
       "      <th>36597</th>\n",
       "      <td>ENSG00000278633</td>\n",
       "      <td>AC023491.2</td>\n",
       "      <td>Gene Expression</td>\n",
       "    </tr>\n",
       "    <tr>\n",
       "      <th>36598</th>\n",
       "      <td>ENSG00000276017</td>\n",
       "      <td>AC007325.1</td>\n",
       "      <td>Gene Expression</td>\n",
       "    </tr>\n",
       "    <tr>\n",
       "      <th>36599</th>\n",
       "      <td>ENSG00000278817</td>\n",
       "      <td>AC007325.4</td>\n",
       "      <td>Gene Expression</td>\n",
       "    </tr>\n",
       "    <tr>\n",
       "      <th>36600</th>\n",
       "      <td>ENSG00000277196</td>\n",
       "      <td>AC007325.2</td>\n",
       "      <td>Gene Expression</td>\n",
       "    </tr>\n",
       "  </tbody>\n",
       "</table>\n",
       "<p>36601 rows × 3 columns</p>\n",
       "</div>"
      ],
      "text/plain": [
       "                     0            1                2\n",
       "0      ENSG00000243485  MIR1302-2HG  Gene Expression\n",
       "1      ENSG00000237613      FAM138A  Gene Expression\n",
       "2      ENSG00000186092        OR4F5  Gene Expression\n",
       "3      ENSG00000238009   AL627309.1  Gene Expression\n",
       "4      ENSG00000239945   AL627309.3  Gene Expression\n",
       "...                ...          ...              ...\n",
       "36596  ENSG00000277836   AC141272.1  Gene Expression\n",
       "36597  ENSG00000278633   AC023491.2  Gene Expression\n",
       "36598  ENSG00000276017   AC007325.1  Gene Expression\n",
       "36599  ENSG00000278817   AC007325.4  Gene Expression\n",
       "36600  ENSG00000277196   AC007325.2  Gene Expression\n",
       "\n",
       "[36601 rows x 3 columns]"
      ]
     },
     "execution_count": 3,
     "metadata": {},
     "output_type": "execute_result"
    }
   ],
   "source": [
    "genes = pd.read_csv(data_path + \"raw_feature_bc_matrix/\" + 'features.tsv.gz', header=None, sep='\\t')\n",
    "genes"
   ]
  },
  {
   "cell_type": "markdown",
   "id": "0749b929-efe8-4ed6-9d97-cd8d85fc08fe",
   "metadata": {},
   "source": [
    "# The filtered features.tsv doesn't contain the right information (missing spot ID's) - cannot be read"
   ]
  },
  {
   "cell_type": "code",
   "execution_count": 25,
   "id": "6704c565-e207-4a89-9092-92ce88a43019",
   "metadata": {
    "tags": []
   },
   "outputs": [
    {
     "data": {
      "text/html": [
       "<div>\n",
       "<style scoped>\n",
       "    .dataframe tbody tr th:only-of-type {\n",
       "        vertical-align: middle;\n",
       "    }\n",
       "\n",
       "    .dataframe tbody tr th {\n",
       "        vertical-align: top;\n",
       "    }\n",
       "\n",
       "    .dataframe thead th {\n",
       "        text-align: right;\n",
       "    }\n",
       "</style>\n",
       "<table border=\"1\" class=\"dataframe\">\n",
       "  <thead>\n",
       "    <tr style=\"text-align: right;\">\n",
       "      <th></th>\n",
       "      <th>0</th>\n",
       "    </tr>\n",
       "  </thead>\n",
       "  <tbody>\n",
       "    <tr>\n",
       "      <th>0</th>\n",
       "      <td>AL627309.1</td>\n",
       "    </tr>\n",
       "    <tr>\n",
       "      <th>1</th>\n",
       "      <td>AL627309.3</td>\n",
       "    </tr>\n",
       "    <tr>\n",
       "      <th>2</th>\n",
       "      <td>AL627309.5</td>\n",
       "    </tr>\n",
       "    <tr>\n",
       "      <th>3</th>\n",
       "      <td>AP006222.2</td>\n",
       "    </tr>\n",
       "    <tr>\n",
       "      <th>4</th>\n",
       "      <td>AL732372.1</td>\n",
       "    </tr>\n",
       "    <tr>\n",
       "      <th>...</th>\n",
       "      <td>...</td>\n",
       "    </tr>\n",
       "    <tr>\n",
       "      <th>28397</th>\n",
       "      <td>AC136352.3</td>\n",
       "    </tr>\n",
       "    <tr>\n",
       "      <th>28398</th>\n",
       "      <td>AC136616.1</td>\n",
       "    </tr>\n",
       "    <tr>\n",
       "      <th>28399</th>\n",
       "      <td>AC007325.1</td>\n",
       "    </tr>\n",
       "    <tr>\n",
       "      <th>28400</th>\n",
       "      <td>AC007325.4</td>\n",
       "    </tr>\n",
       "    <tr>\n",
       "      <th>28401</th>\n",
       "      <td>AC007325.2</td>\n",
       "    </tr>\n",
       "  </tbody>\n",
       "</table>\n",
       "<p>28402 rows × 1 columns</p>\n",
       "</div>"
      ],
      "text/plain": [
       "                0\n",
       "0      AL627309.1\n",
       "1      AL627309.3\n",
       "2      AL627309.5\n",
       "3      AP006222.2\n",
       "4      AL732372.1\n",
       "...           ...\n",
       "28397  AC136352.3\n",
       "28398  AC136616.1\n",
       "28399  AC007325.1\n",
       "28400  AC007325.4\n",
       "28401  AC007325.2\n",
       "\n",
       "[28402 rows x 1 columns]"
      ]
     },
     "execution_count": 25,
     "metadata": {},
     "output_type": "execute_result"
    }
   ],
   "source": [
    "genes"
   ]
  },
  {
   "cell_type": "code",
   "execution_count": 2,
   "id": "7115aa5f-f86c-4b21-a4f3-321398d2af55",
   "metadata": {
    "tags": []
   },
   "outputs": [],
   "source": [
    "\"\"\"Reading and Writing\n",
    "\"\"\"\n",
    "from pathlib import Path, PurePath\n",
    "from typing import Union, Dict, Optional, Tuple, BinaryIO\n",
    "\n",
    "import h5py\n",
    "import json\n",
    "import numpy as np\n",
    "import pandas as pd\n",
    "from matplotlib.image import imread\n",
    "import anndata\n",
    "from anndata import (\n",
    "    AnnData,\n",
    "    read_csv,\n",
    "    read_text,\n",
    "    read_excel,\n",
    "    read_mtx,\n",
    "    read_loom,\n",
    "    read_hdf,\n",
    ")\n",
    "from anndata import read as read_h5ad\n",
    "from scanpy import read_10x_mtx\n",
    "# from ._settings import settings\n",
    "# from ._compat import Literal\n",
    "# from ._utils import Empty, _empty\n",
    "# from . import logging as logg\n"
   ]
  },
  {
   "cell_type": "code",
   "execution_count": 3,
   "id": "344bc881-3639-437a-be1c-3ce9cf693571",
   "metadata": {},
   "outputs": [],
   "source": [
    "def read_visium_mod(\n",
    "    path: Union[str, Path],\n",
    "    genome: Optional[str] = None,\n",
    "    *,\n",
    "    count_dir: str = \"raw_feature_bc_matrix\",\n",
    "    library_id: str = None,\n",
    "    load_images: Optional[bool] = True,\n",
    "    source_image_path: Optional[Union[str, Path]] = None,\n",
    ") -> AnnData:\n",
    "    \"\"\"\\\n",
    "    Read 10x-Genomics-formatted visum dataset.\n",
    "    In addition to reading regular 10x output,\n",
    "    this looks for the `spatial` folder and loads images,\n",
    "    coordinates and scale factors.\n",
    "    Based on the `Space Ranger output docs`_.\n",
    "    See :func:`~scanpy.pl.spatial` for a compatible plotting function.\n",
    "    .. _Space Ranger output docs: https://support.10xgenomics.com/spatial-gene-expression/software/pipelines/latest/output/overview\n",
    "    Parameters\n",
    "    ----------\n",
    "    path\n",
    "        Path to directory for visium datafiles.\n",
    "    genome\n",
    "        Filter expression to genes within this genome.\n",
    "    count_file\n",
    "        Which file in the passed directory to use as the count file. Typically would be one of:\n",
    "        'filtered_feature_bc_matrix.h5' or 'raw_feature_bc_matrix.h5'.\n",
    "    library_id\n",
    "        Identifier for the visium library. Can be modified when concatenating multiple adata objects.\n",
    "    source_image_path\n",
    "        Path to the high-resolution tissue image. Path will be included in\n",
    "        `.uns[\"spatial\"][library_id][\"metadata\"][\"source_image_path\"]`.\n",
    "    Returns\n",
    "    -------\n",
    "    Annotated data matrix, where observations/cells are named by their\n",
    "    barcode and variables/genes by gene name. Stores the following information:\n",
    "    :attr:`~anndata.AnnData.X`\n",
    "        The data matrix is stored\n",
    "    :attr:`~anndata.AnnData.obs_names`\n",
    "        Cell names\n",
    "    :attr:`~anndata.AnnData.var_names`\n",
    "        Gene names\n",
    "    :attr:`~anndata.AnnData.var`\\\\ `['gene_ids']`\n",
    "        Gene IDs\n",
    "    :attr:`~anndata.AnnData.var`\\\\ `['feature_types']`\n",
    "        Feature types\n",
    "    :attr:`~anndata.AnnData.uns`\\\\ `['spatial']`\n",
    "        Dict of spaceranger output files with 'library_id' as key\n",
    "    :attr:`~anndata.AnnData.uns`\\\\ `['spatial'][library_id]['images']`\n",
    "        Dict of images (`'hires'` and `'lowres'`)\n",
    "    :attr:`~anndata.AnnData.uns`\\\\ `['spatial'][library_id]['scalefactors']`\n",
    "        Scale factors for the spots\n",
    "    :attr:`~anndata.AnnData.uns`\\\\ `['spatial'][library_id]['metadata']`\n",
    "        Files metadata: 'chemistry_description', 'software_version', 'source_image_path'\n",
    "    :attr:`~anndata.AnnData.obsm`\\\\ `['spatial']`\n",
    "        Spatial spot coordinates, usable as `basis` by :func:`~scanpy.pl.embedding`.\n",
    "    \"\"\"\n",
    "    path = Path(path)\n",
    "    adata = read_10x_mtx(path / count_dir)\n",
    "\n",
    "    adata.uns[\"spatial\"] = dict()\n",
    "\n",
    "    from h5py import File\n",
    "\n",
    "    # with File(path / count_file, mode=\"r\") as f:\n",
    "    #     attrs = dict(f.attrs)\n",
    "    # if library_id is None:\n",
    "    #     library_id = str(attrs.pop(\"library_ids\")[0], \"utf-8\")\n",
    "\n",
    "    adata.uns[\"spatial\"][library_id] = dict()\n",
    "\n",
    "    if load_images:\n",
    "        files = dict(\n",
    "            tissue_positions_file=path / 'spatial/tissue_positions_list.csv',\n",
    "            scalefactors_json_file=path / 'spatial/scalefactors_json.json',\n",
    "            hires_image=path / 'spatial/tissue_hires_image.png',\n",
    "            lowres_image=path / 'spatial/tissue_lowres_image.png',\n",
    "        )\n",
    "\n",
    "        # check if files exists, continue if images are missing\n",
    "        for f in files.values():\n",
    "            if not f.exists():\n",
    "                if any(x in str(f) for x in [\"hires_image\", \"lowres_image\"]):\n",
    "                    logg.warning(\n",
    "                        f\"You seem to be missing an image file.\\n\"\n",
    "                        f\"Could not find '{f}'.\"\n",
    "                    )\n",
    "                else:\n",
    "                    raise OSError(f\"Could not find '{f}'\")\n",
    "\n",
    "        adata.uns[\"spatial\"][library_id]['images'] = dict()\n",
    "        for res in ['hires', 'lowres']:\n",
    "            try:\n",
    "                adata.uns[\"spatial\"][library_id]['images'][res] = imread(\n",
    "                    str(files[f'{res}_image'])\n",
    "                )\n",
    "            except Exception:\n",
    "                raise OSError(f\"Could not find '{res}_image'\")\n",
    "\n",
    "        # read json scalefactors\n",
    "        adata.uns[\"spatial\"][library_id]['scalefactors'] = json.loads(\n",
    "            files['scalefactors_json_file'].read_bytes()\n",
    "        )\n",
    "\n",
    "        # adata.uns[\"spatial\"][library_id][\"metadata\"] = {\n",
    "        #     k: (str(attrs[k], \"utf-8\") if isinstance(attrs[k], bytes) else attrs[k])\n",
    "        #     for k in (\"chemistry_description\", \"software_version\")\n",
    "        #     if k in attrs\n",
    "        # }\n",
    "\n",
    "        # read coordinates\n",
    "        positions = pd.read_csv(files['tissue_positions_file'], header=None)\n",
    "        positions.columns = [\n",
    "            'barcode',\n",
    "            'in_tissue',\n",
    "            'array_row',\n",
    "            'array_col',\n",
    "            'pxl_col_in_fullres',\n",
    "            'pxl_row_in_fullres',\n",
    "        ]\n",
    "        positions.index = positions['barcode']\n",
    "\n",
    "        adata.obs = adata.obs.join(positions, how=\"left\")\n",
    "\n",
    "        adata.obsm['spatial'] = adata.obs[\n",
    "            ['pxl_row_in_fullres', 'pxl_col_in_fullres']\n",
    "        ].to_numpy()\n",
    "        adata.obs.drop(\n",
    "            columns=['barcode', 'pxl_row_in_fullres', 'pxl_col_in_fullres'],\n",
    "            inplace=True,\n",
    "        )\n",
    "\n",
    "        # put image path in uns\n",
    "        if source_image_path is not None:\n",
    "            # get an absolute path\n",
    "            source_image_path = str(Path(source_image_path).resolve())\n",
    "            adata.uns[\"spatial\"][library_id][\"metadata\"] = {}\n",
    "            adata.uns[\"spatial\"][library_id][\"metadata\"][\"source_image_path\"] = str(\n",
    "                source_image_path\n",
    "            )\n",
    "\n",
    "    return adata\n"
   ]
  },
  {
   "cell_type": "code",
   "execution_count": 4,
   "id": "9911731a-1ceb-4d10-83d8-cfea63737eef",
   "metadata": {
    "tags": []
   },
   "outputs": [
    {
     "name": "stderr",
     "output_type": "stream",
     "text": [
      "/scratch/imb/uqjxie6/software/stimage5/lib/python3.8/site-packages/anndata/_core/anndata.py:1830: UserWarning: Variable names are not unique. To make them unique, call `.var_names_make_unique`.\n",
      "  utils.warn_names_duplicates(\"var\")\n"
     ]
    }
   ],
   "source": [
    "data_path = \"../data/Breast_Cancer_10x/block1\"\n",
    "\n",
    "from scanpy import read_visium\n",
    "adata1 = read_visium(data_path, source_image_path = data_path + \"/image.tif\")"
   ]
  },
  {
   "cell_type": "code",
   "execution_count": 28,
   "id": "d355ea9e-b8b5-4b90-ae1a-139b66cdd88a",
   "metadata": {
    "tags": []
   },
   "outputs": [
    {
     "data": {
      "text/plain": [
       "dict_keys(['V1_Breast_Cancer_Block_A_Section_1'])"
      ]
     },
     "execution_count": 28,
     "metadata": {},
     "output_type": "execute_result"
    }
   ],
   "source": [
    " adata.uns['spatial'].keys()"
   ]
  },
  {
   "cell_type": "code",
   "execution_count": 5,
   "id": "ae994126-74b7-48c2-807c-c4f437b5ead8",
   "metadata": {},
   "outputs": [],
   "source": [
    "data_path = \"../data/Alex_NatGen/1142243F\"\n",
    "adata2  = read_visium_mod(data_path, library_id = '1142243F', source_image_path = data_path + \"/1142243F.tif\")"
   ]
  },
  {
   "cell_type": "code",
   "execution_count": 9,
   "id": "0e119ec1-60e5-4313-ad43-f2e3d39d55af",
   "metadata": {
    "tags": []
   },
   "outputs": [
    {
     "name": "stdout",
     "output_type": "stream",
     "text": [
      "\u001b[0m\u001b[01;35m1142243F.tif\u001b[0m            metadata.csv            \u001b[01;34mspatial\u001b[0m/\n",
      "\u001b[01;34mfiltered_count_matrix\u001b[0m/  \u001b[01;34mraw_feature_bc_matrix\u001b[0m/\n"
     ]
    }
   ],
   "source": [
    "%ls ../data/Alex_NatGen/1142243F"
   ]
  },
  {
   "cell_type": "code",
   "execution_count": 13,
   "id": "0ffd3cc5-cc6a-4208-9762-4832a57a8f96",
   "metadata": {
    "tags": []
   },
   "outputs": [
    {
     "data": {
      "text/plain": [
       "AnnData object with n_obs × n_vars = 4992 × 36601\n",
       "    obs: 'in_tissue', 'array_row', 'array_col'\n",
       "    var: 'gene_ids', 'feature_types'\n",
       "    uns: 'spatial'\n",
       "    obsm: 'spatial'"
      ]
     },
     "execution_count": 13,
     "metadata": {},
     "output_type": "execute_result"
    }
   ],
   "source": [
    "adata2"
   ]
  },
  {
   "cell_type": "code",
   "execution_count": 14,
   "id": "8c60d25b-988f-42b1-ad9d-b68e6a5e3de4",
   "metadata": {
    "tags": []
   },
   "outputs": [
    {
     "data": {
      "text/plain": [
       "AnnData object with n_obs × n_vars = 4992 × 36601\n",
       "    obs: 'in_tissue', 'array_row', 'array_col'\n",
       "    var: 'gene_ids', 'feature_types'\n",
       "    uns: 'spatial'\n",
       "    obsm: 'spatial'"
      ]
     },
     "execution_count": 14,
     "metadata": {},
     "output_type": "execute_result"
    }
   ],
   "source": [
    "adata2"
   ]
  },
  {
   "cell_type": "code",
   "execution_count": 18,
   "id": "ed25701f-afe7-4057-a4d7-80764ef08d27",
   "metadata": {
    "tags": []
   },
   "outputs": [
    {
     "data": {
      "text/plain": [
       "AAACAACGAATAGTTC-1    0\n",
       "AAACAAGTATCTCCCA-1    1\n",
       "AAACAATCTACTAGCA-1    0\n",
       "AAACACCAATAACTGC-1    1\n",
       "AAACAGAGCGACTCCT-1    1\n",
       "                     ..\n",
       "TTGTTTCACATCCAGG-1    1\n",
       "TTGTTTCATTAGTCTA-1    1\n",
       "TTGTTTCCATACAACT-1    1\n",
       "TTGTTTGTATTACACG-1    1\n",
       "TTGTTTGTGTAAATTC-1    1\n",
       "Name: in_tissue, Length: 4992, dtype: int64"
      ]
     },
     "execution_count": 18,
     "metadata": {},
     "output_type": "execute_result"
    }
   ],
   "source": [
    "adata2.obs.in_tissue"
   ]
  },
  {
   "cell_type": "code",
   "execution_count": 21,
   "id": "8bbe9f54-20a8-4b1f-bd2e-e4ddc083ea07",
   "metadata": {
    "tags": []
   },
   "outputs": [
    {
     "data": {
      "text/plain": [
       "array([[17428, 15937],\n",
       "       [ 6092, 18054],\n",
       "       [16351,  7383],\n",
       "       ...,\n",
       "       [ 7593, 18294],\n",
       "       [ 7190, 14730],\n",
       "       [10484,  5709]])"
      ]
     },
     "execution_count": 21,
     "metadata": {},
     "output_type": "execute_result"
    }
   ],
   "source": [
    "adata1.obsm['spatial']"
   ]
  },
  {
   "cell_type": "code",
   "execution_count": 24,
   "id": "61fcef91-d940-4231-8481-07c8e919c2e1",
   "metadata": {
    "tags": []
   },
   "outputs": [
    {
     "data": {
      "text/plain": [
       "{'images': {'hires': array([[[0.7411765 , 0.7490196 , 0.7372549 ],\n",
       "          [0.74509805, 0.7529412 , 0.7372549 ],\n",
       "          [0.7411765 , 0.7490196 , 0.7411765 ],\n",
       "          ...,\n",
       "          [0.7490196 , 0.7529412 , 0.7372549 ],\n",
       "          [0.7411765 , 0.7490196 , 0.7294118 ],\n",
       "          [0.74509805, 0.75686276, 0.7411765 ]],\n",
       "  \n",
       "         [[0.74509805, 0.7490196 , 0.7372549 ],\n",
       "          [0.7411765 , 0.7529412 , 0.7372549 ],\n",
       "          [0.74509805, 0.7529412 , 0.7372549 ],\n",
       "          ...,\n",
       "          [0.7490196 , 0.7529412 , 0.7372549 ],\n",
       "          [0.7411765 , 0.7490196 , 0.7372549 ],\n",
       "          [0.74509805, 0.75686276, 0.7372549 ]],\n",
       "  \n",
       "         [[0.74509805, 0.7529412 , 0.7372549 ],\n",
       "          [0.74509805, 0.7529412 , 0.7372549 ],\n",
       "          [0.74509805, 0.7529412 , 0.7372549 ],\n",
       "          ...,\n",
       "          [0.7490196 , 0.7529412 , 0.7372549 ],\n",
       "          [0.7490196 , 0.7529412 , 0.7372549 ],\n",
       "          [0.74509805, 0.7529412 , 0.7411765 ]],\n",
       "  \n",
       "         ...,\n",
       "  \n",
       "         [[0.7411765 , 0.7490196 , 0.7411765 ],\n",
       "          [0.7411765 , 0.7490196 , 0.7372549 ],\n",
       "          [0.7411765 , 0.7490196 , 0.7372549 ],\n",
       "          ...,\n",
       "          [0.73333335, 0.74509805, 0.73333335],\n",
       "          [0.73333335, 0.7411765 , 0.7294118 ],\n",
       "          [0.73333335, 0.7411765 , 0.7294118 ]],\n",
       "  \n",
       "         [[0.7372549 , 0.7490196 , 0.7372549 ],\n",
       "          [0.7411765 , 0.74509805, 0.7372549 ],\n",
       "          [0.7411765 , 0.7490196 , 0.7372549 ],\n",
       "          ...,\n",
       "          [0.73333335, 0.74509805, 0.7294118 ],\n",
       "          [0.73333335, 0.7411765 , 0.7294118 ],\n",
       "          [0.73333335, 0.74509805, 0.7294118 ]],\n",
       "  \n",
       "         [[0.7372549 , 0.74509805, 0.7372549 ],\n",
       "          [0.7372549 , 0.74509805, 0.7372549 ],\n",
       "          [0.7372549 , 0.7490196 , 0.7411765 ],\n",
       "          ...,\n",
       "          [0.7372549 , 0.74509805, 0.7294118 ],\n",
       "          [0.73333335, 0.74509805, 0.7294118 ],\n",
       "          [0.73333335, 0.7411765 , 0.7294118 ]]], dtype=float32),\n",
       "  'lowres': array([[[0.74509805, 0.7529412 , 0.7372549 ],\n",
       "          [0.74509805, 0.7529412 , 0.7372549 ],\n",
       "          [0.74509805, 0.7529412 , 0.73333335],\n",
       "          ...,\n",
       "          [0.74509805, 0.7529412 , 0.73333335],\n",
       "          [0.74509805, 0.7529412 , 0.73333335],\n",
       "          [0.74509805, 0.7529412 , 0.7372549 ]],\n",
       "  \n",
       "         [[0.7411765 , 0.7529412 , 0.7372549 ],\n",
       "          [0.74509805, 0.7529412 , 0.7411765 ],\n",
       "          [0.74509805, 0.7529412 , 0.7372549 ],\n",
       "          ...,\n",
       "          [0.74509805, 0.75686276, 0.7372549 ],\n",
       "          [0.74509805, 0.7529412 , 0.73333335],\n",
       "          [0.74509805, 0.7490196 , 0.73333335]],\n",
       "  \n",
       "         [[0.74509805, 0.7529412 , 0.7411765 ],\n",
       "          [0.74509805, 0.7529412 , 0.7411765 ],\n",
       "          [0.74509805, 0.7529412 , 0.7372549 ],\n",
       "          ...,\n",
       "          [0.74509805, 0.75686276, 0.7372549 ],\n",
       "          [0.74509805, 0.7529412 , 0.7372549 ],\n",
       "          [0.74509805, 0.7529412 , 0.7411765 ]],\n",
       "  \n",
       "         ...,\n",
       "  \n",
       "         [[0.74509805, 0.7490196 , 0.7372549 ],\n",
       "          [0.7411765 , 0.7529412 , 0.7411765 ],\n",
       "          [0.7411765 , 0.7529412 , 0.7372549 ],\n",
       "          ...,\n",
       "          [0.7411765 , 0.7490196 , 0.7372549 ],\n",
       "          [0.7372549 , 0.7490196 , 0.7372549 ],\n",
       "          [0.7372549 , 0.7490196 , 0.73333335]],\n",
       "  \n",
       "         [[0.7411765 , 0.7490196 , 0.7372549 ],\n",
       "          [0.7411765 , 0.7529412 , 0.7372549 ],\n",
       "          [0.7411765 , 0.7529412 , 0.7372549 ],\n",
       "          ...,\n",
       "          [0.7411765 , 0.7490196 , 0.7411765 ],\n",
       "          [0.7372549 , 0.7490196 , 0.7372549 ],\n",
       "          [0.73333335, 0.74509805, 0.73333335]],\n",
       "  \n",
       "         [[0.7411765 , 0.7490196 , 0.7372549 ],\n",
       "          [0.7411765 , 0.7529412 , 0.7411765 ],\n",
       "          [0.7411765 , 0.7529412 , 0.7372549 ],\n",
       "          ...,\n",
       "          [0.7411765 , 0.7490196 , 0.7372549 ],\n",
       "          [0.7372549 , 0.7490196 , 0.7372549 ],\n",
       "          [0.73333335, 0.74509805, 0.7294118 ]]], dtype=float32)},\n",
       " 'scalefactors': {'spot_diameter_fullres': 177.48170171293427,\n",
       "  'tissue_hires_scalef': 0.08250825,\n",
       "  'fiducial_diameter_fullres': 286.70121045935537,\n",
       "  'tissue_lowres_scalef': 0.024752475},\n",
       " 'metadata': {'chemistry_description': \"Spatial 3' v1\",\n",
       "  'software_version': 'spaceranger-1.1.0'}}"
      ]
     },
     "execution_count": 24,
     "metadata": {},
     "output_type": "execute_result"
    }
   ],
   "source": [
    "adata1.uns['spatial']['V1_Breast_Cancer_Block_A_Section_1']"
   ]
  },
  {
   "cell_type": "code",
   "execution_count": 26,
   "id": "c1ea4849-31df-4416-855f-4543cc90c52e",
   "metadata": {
    "tags": []
   },
   "outputs": [],
   "source": [
    "import squidpy as sp"
   ]
  },
  {
   "cell_type": "code",
   "execution_count": 28,
   "id": "9ae025c5-81f6-4030-909c-2d02a3c2d0ac",
   "metadata": {
    "tags": []
   },
   "outputs": [
    {
     "data": {
      "text/html": [
       "ImageContainer object with 1 layer:<p style='text-indent: 25px; margin-top: 0px; margin-bottom: 0px;'><strong>hires</strong>: <em>y</em> (2000), <em>x</em> (2000), <em>z</em> (1), <em>channels</em> (3)</p>"
      ],
      "text/plain": [
       "ImageContainer[shape=(2000, 2000), layers=['hires']]"
      ]
     },
     "execution_count": 61,
     "metadata": {},
     "output_type": "execute_result"
    }
   ],
   "source": [
    "sp.im.ImageContainer.from_adata(adata1)"
   ]
  },
  {
   "cell_type": "code",
   "execution_count": 30,
   "id": "0b10be0b-4ded-4284-a4ee-9503c1ca1ab2",
   "metadata": {
    "tags": []
   },
   "outputs": [
    {
     "ename": "KeyError",
     "evalue": "'1142243F'",
     "output_type": "error",
     "traceback": [
      "\u001b[0;31m---------------------------------------------------------------------------\u001b[0m",
      "\u001b[0;31mKeyError\u001b[0m                                  Traceback (most recent call last)",
      "Cell \u001b[0;32mIn[63], line 1\u001b[0m\n\u001b[0;32m----> 1\u001b[0m \u001b[43madata1\u001b[49m\u001b[38;5;241;43m.\u001b[39;49m\u001b[43muns\u001b[49m\u001b[43m[\u001b[49m\u001b[38;5;124;43m'\u001b[39;49m\u001b[38;5;124;43mspatial\u001b[39;49m\u001b[38;5;124;43m'\u001b[39;49m\u001b[43m]\u001b[49m\u001b[43m[\u001b[49m\u001b[38;5;124;43m'\u001b[39;49m\u001b[38;5;124;43m1142243F\u001b[39;49m\u001b[38;5;124;43m'\u001b[39;49m\u001b[43m]\u001b[49m[\u001b[38;5;124m\"\u001b[39m\u001b[38;5;124mmetadata\u001b[39m\u001b[38;5;124m\"\u001b[39m][\u001b[38;5;124m\"\u001b[39m\u001b[38;5;124msource_image_path\u001b[39m\u001b[38;5;124m\"\u001b[39m]\n",
      "\u001b[0;31mKeyError\u001b[0m: '1142243F'"
     ]
    }
   ],
   "source": [
    "adata2.uns['spatial']['1142243F']"
   ]
  },
  {
   "cell_type": "code",
   "execution_count": 31,
   "id": "0c7ee6af-5048-4bd8-bf69-424ffe68cbac",
   "metadata": {
    "tags": []
   },
   "outputs": [
    {
     "data": {
      "text/plain": [
       "Index(['AAACAAGTATCTCCCA-1', 'AAACACCAATAACTGC-1', 'AAACAGAGCGACTCCT-1',\n",
       "       'AAACAGGGTCTATATT-1', 'AAACAGTGTTCCTGGG-1', 'AAACATTTCCCGGATT-1',\n",
       "       'AAACCCGAACGAAATC-1', 'AAACCGGGTAGGTACC-1', 'AAACCTAAGCAGCCGG-1',\n",
       "       'AAACCTCATGAAGTTG-1',\n",
       "       ...\n",
       "       'TTGTGGTAGGAGGGAT-1', 'TTGTGGTGGTACTAAG-1', 'TTGTGTATGCCACCAA-1',\n",
       "       'TTGTTAGCAAATTCGA-1', 'TTGTTCAGTGTGCTAC-1', 'TTGTTGTGTGTCAAGA-1',\n",
       "       'TTGTTTCACATCCAGG-1', 'TTGTTTCATTAGTCTA-1', 'TTGTTTCCATACAACT-1',\n",
       "       'TTGTTTGTGTAAATTC-1'],\n",
       "      dtype='object', length=3798)"
      ]
     },
     "execution_count": 31,
     "metadata": {},
     "output_type": "execute_result"
    }
   ],
   "source": [
    "adata1.obs_names"
   ]
  },
  {
   "cell_type": "code",
   "execution_count": 55,
   "id": "6641d1e0-6aea-434f-81c5-283479cc34c0",
   "metadata": {
    "tags": []
   },
   "outputs": [
    {
     "data": {
      "text/plain": [
       "<Axes: xlabel='array_row', ylabel='array_col'>"
      ]
     },
     "execution_count": 55,
     "metadata": {},
     "output_type": "execute_result"
    },
    {
     "data": {
      "image/png": "[encoded data removed]",
      "text/plain": [
       "<Figure size 640x480 with 1 Axes>"
      ]
     },
     "metadata": {},
     "output_type": "display_data"
    }
   ],
   "source": [
    "adata1.obs.plot.scatter(x='array_row', y='array_col')"
   ]
  },
  {
   "cell_type": "code",
   "execution_count": 38,
   "id": "41f277c2-5a7d-428e-b945-e0bbbf60a5b6",
   "metadata": {
    "tags": []
   },
   "outputs": [
    {
     "data": {
      "text/plain": [
       "<Axes: xlabel='array_row', ylabel='array_col'>"
      ]
     },
     "execution_count": 38,
     "metadata": {},
     "output_type": "execute_result"
    },
    {
     "data": {
      "image/png": "[encoded data removed]",
      "text/plain": [
       "<Figure size 640x480 with 1 Axes>"
      ]
     },
     "metadata": {},
     "output_type": "display_data"
    }
   ],
   "source": [
    "adata2.obs.plot.scatter(x='array_row', y='array_col')"
   ]
  },
  {
   "cell_type": "code",
   "execution_count": 39,
   "id": "c4daf221-861c-44b2-952d-be6aa8f28bd7",
   "metadata": {
    "tags": []
   },
   "outputs": [
    {
     "data": {
      "text/plain": [
       "AnnData object with n_obs × n_vars = 3798 × 36601\n",
       "    obs: 'in_tissue', 'array_row', 'array_col'\n",
       "    var: 'gene_ids', 'feature_types', 'genome'\n",
       "    uns: 'spatial'\n",
       "    obsm: 'spatial'"
      ]
     },
     "execution_count": 39,
     "metadata": {},
     "output_type": "execute_result"
    }
   ],
   "source": [
    "adata1"
   ]
  },
  {
   "cell_type": "code",
   "execution_count": 56,
   "id": "e4be9c18-19e2-456d-9ecc-612a75fb58a8",
   "metadata": {
    "tags": []
   },
   "outputs": [
    {
     "data": {
      "text/plain": [
       "<matplotlib.collections.PathCollection at 0x7fa1509d17c0>"
      ]
     },
     "execution_count": 56,
     "metadata": {},
     "output_type": "execute_result"
    },
    {
     "data": {
      "image/png": "[encoded data removed]",
      "text/plain": [
       "<Figure size 640x480 with 1 Axes>"
      ]
     },
     "metadata": {},
     "output_type": "display_data"
    }
   ],
   "source": [
    "import matplotlib.pyplot as plt\n",
    "p = adata1.obsm['spatial']\n",
    "plt.scatter(p[:,1], p[:,0])"
   ]
  },
  {
   "cell_type": "code",
   "execution_count": 59,
   "id": "31315b5e-3e99-4752-be2c-2ee6e4d92535",
   "metadata": {
    "tags": []
   },
   "outputs": [
    {
     "data": {
      "text/html": [
       "ImageContainer object with 1 layer:<p style='text-indent: 25px; margin-top: 0px; margin-bottom: 0px;'><strong>hires</strong>: <em>y</em> (2000), <em>x</em> (2000), <em>z</em> (1), <em>channels</em> (3)</p>"
      ],
      "text/plain": [
       "ImageContainer[shape=(2000, 2000), layers=['hires']]"
      ]
     },
     "execution_count": 59,
     "metadata": {},
     "output_type": "execute_result"
    }
   ],
   "source": [
    "sp.im.ImageContainer.from_adata(adata1)"
   ]
  },
  {
   "cell_type": "code",
   "execution_count": 57,
   "id": "fb01cffa-8c85-47a1-acee-93ece5e70e96",
   "metadata": {
    "tags": []
   },
   "outputs": [
    {
     "data": {
      "text/plain": [
       "array([15937, 18054,  7383, ..., 18294, 14730,  5709])"
      ]
     },
     "execution_count": 57,
     "metadata": {},
     "output_type": "execute_result"
    }
   ],
   "source": [
    "p[:,1]"
   ]
  },
  {
   "cell_type": "code",
   "execution_count": 58,
   "id": "94ed2620-cdf6-45c9-87a1-b6e91e9d133d",
   "metadata": {
    "tags": []
   },
   "outputs": [
    {
     "data": {
      "text/plain": [
       "array([[17428, 15937],\n",
       "       [ 6092, 18054],\n",
       "       [16351,  7383],\n",
       "       ...,\n",
       "       [ 7593, 18294],\n",
       "       [ 7190, 14730],\n",
       "       [10484,  5709]])"
      ]
     },
     "execution_count": 58,
     "metadata": {},
     "output_type": "execute_result"
    }
   ],
   "source": [
    "p"
   ]
  },
  {
   "cell_type": "code",
   "execution_count": 44,
   "id": "2a0cfa81-b5a1-4766-8d18-bfea317a91fb",
   "metadata": {
    "tags": []
   },
   "outputs": [
    {
     "data": {
      "text/html": [
       "<div>\n",
       "<style scoped>\n",
       "    .dataframe tbody tr th:only-of-type {\n",
       "        vertical-align: middle;\n",
       "    }\n",
       "\n",
       "    .dataframe tbody tr th {\n",
       "        vertical-align: top;\n",
       "    }\n",
       "\n",
       "    .dataframe thead th {\n",
       "        text-align: right;\n",
       "    }\n",
       "</style>\n",
       "<table border=\"1\" class=\"dataframe\">\n",
       "  <thead>\n",
       "    <tr style=\"text-align: right;\">\n",
       "      <th></th>\n",
       "      <th>in_tissue</th>\n",
       "      <th>array_row</th>\n",
       "      <th>array_col</th>\n",
       "    </tr>\n",
       "  </thead>\n",
       "  <tbody>\n",
       "    <tr>\n",
       "      <th>AAACAAGTATCTCCCA-1</th>\n",
       "      <td>1</td>\n",
       "      <td>50</td>\n",
       "      <td>102</td>\n",
       "    </tr>\n",
       "    <tr>\n",
       "      <th>AAACACCAATAACTGC-1</th>\n",
       "      <td>1</td>\n",
       "      <td>59</td>\n",
       "      <td>19</td>\n",
       "    </tr>\n",
       "    <tr>\n",
       "      <th>AAACAGAGCGACTCCT-1</th>\n",
       "      <td>1</td>\n",
       "      <td>14</td>\n",
       "      <td>94</td>\n",
       "    </tr>\n",
       "    <tr>\n",
       "      <th>AAACAGGGTCTATATT-1</th>\n",
       "      <td>1</td>\n",
       "      <td>47</td>\n",
       "      <td>13</td>\n",
       "    </tr>\n",
       "    <tr>\n",
       "      <th>AAACAGTGTTCCTGGG-1</th>\n",
       "      <td>1</td>\n",
       "      <td>73</td>\n",
       "      <td>43</td>\n",
       "    </tr>\n",
       "    <tr>\n",
       "      <th>...</th>\n",
       "      <td>...</td>\n",
       "      <td>...</td>\n",
       "      <td>...</td>\n",
       "    </tr>\n",
       "    <tr>\n",
       "      <th>TTGTTGTGTGTCAAGA-1</th>\n",
       "      <td>1</td>\n",
       "      <td>31</td>\n",
       "      <td>77</td>\n",
       "    </tr>\n",
       "    <tr>\n",
       "      <th>TTGTTTCACATCCAGG-1</th>\n",
       "      <td>1</td>\n",
       "      <td>58</td>\n",
       "      <td>42</td>\n",
       "    </tr>\n",
       "    <tr>\n",
       "      <th>TTGTTTCATTAGTCTA-1</th>\n",
       "      <td>1</td>\n",
       "      <td>60</td>\n",
       "      <td>30</td>\n",
       "    </tr>\n",
       "    <tr>\n",
       "      <th>TTGTTTCCATACAACT-1</th>\n",
       "      <td>1</td>\n",
       "      <td>45</td>\n",
       "      <td>27</td>\n",
       "    </tr>\n",
       "    <tr>\n",
       "      <th>TTGTTTGTGTAAATTC-1</th>\n",
       "      <td>1</td>\n",
       "      <td>7</td>\n",
       "      <td>51</td>\n",
       "    </tr>\n",
       "  </tbody>\n",
       "</table>\n",
       "<p>3798 rows × 3 columns</p>\n",
       "</div>"
      ],
      "text/plain": [
       "                    in_tissue  array_row  array_col\n",
       "AAACAAGTATCTCCCA-1          1         50        102\n",
       "AAACACCAATAACTGC-1          1         59         19\n",
       "AAACAGAGCGACTCCT-1          1         14         94\n",
       "AAACAGGGTCTATATT-1          1         47         13\n",
       "AAACAGTGTTCCTGGG-1          1         73         43\n",
       "...                       ...        ...        ...\n",
       "TTGTTGTGTGTCAAGA-1          1         31         77\n",
       "TTGTTTCACATCCAGG-1          1         58         42\n",
       "TTGTTTCATTAGTCTA-1          1         60         30\n",
       "TTGTTTCCATACAACT-1          1         45         27\n",
       "TTGTTTGTGTAAATTC-1          1          7         51\n",
       "\n",
       "[3798 rows x 3 columns]"
      ]
     },
     "execution_count": 44,
     "metadata": {},
     "output_type": "execute_result"
    }
   ],
   "source": [
    "adata1.obs"
   ]
  },
  {
   "cell_type": "code",
   "execution_count": 66,
   "id": "a4a6f301-2b59-447d-8717-c075fe371d74",
   "metadata": {
    "tags": []
   },
   "outputs": [
    {
     "data": {
      "text/plain": [
       "'/scratch/imb/uqjxie6/benchmmarking/DeepHis2Exp/data/Breast_Cancer_10x/block1/image.tif'"
      ]
     },
     "execution_count": 66,
     "metadata": {},
     "output_type": "execute_result"
    }
   ],
   "source": [
    "adata1.uns[\"spatial\"]['V1_Breast_Cancer_Block_A_Section_1'][\"metadata\"][\"source_image_path\"]"
   ]
  },
  {
   "cell_type": "code",
   "execution_count": 80,
   "id": "684e23c9-aa12-43b6-a8ac-cbc824dc5e0e",
   "metadata": {
    "tags": []
   },
   "outputs": [],
   "source": [
    "# adata1.uns[\"spatial\"]"
   ]
  },
  {
   "cell_type": "code",
   "execution_count": 77,
   "id": "8db3a7a9-9116-4620-ac43-6f6b360837d1",
   "metadata": {
    "tags": []
   },
   "outputs": [],
   "source": [
    "from PIL import Image\n",
    "\n",
    "def read_tiff(path):\n",
    "    Image.MAX_IMAGE_PIXELS = 933120000\n",
    "    im = Image.open(path)\n",
    "    imarray = np.array(im)\n",
    "    # I = plt.imread(path)\n",
    "    return im\n",
    "\n",
    "o, oo = read_tiff(adata1.uns[\"spatial\"]['V1_Breast_Cancer_Block_A_Section_1'][\"metadata\"][\"source_image_path\"])"
   ]
  },
  {
   "cell_type": "code",
   "execution_count": 72,
   "id": "922ef0b2-7232-42d0-90ab-6a4b51ebd162",
   "metadata": {
    "tags": []
   },
   "outputs": [
    {
     "data": {
      "text/plain": [
       "'/scratch/imb/uqjxie6/benchmmarking/DeepHis2Exp/data/Breast_Cancer_10x/block1/image.tif'"
      ]
     },
     "execution_count": 72,
     "metadata": {},
     "output_type": "execute_result"
    }
   ],
   "source": [
    "adata1.uns[\"spatial\"]['V1_Breast_Cancer_Block_A_Section_1'][\"metadata\"][\"source_image_path\"]"
   ]
  },
  {
   "cell_type": "code",
   "execution_count": 78,
   "id": "f62fa1b6-ae27-4052-bceb-f163ba33eaa3",
   "metadata": {
    "tags": []
   },
   "outputs": [
    {
     "data": {
      "text/plain": [
       "(24240, 24240, 3)"
      ]
     },
     "execution_count": 78,
     "metadata": {},
     "output_type": "execute_result"
    }
   ],
   "source": [
    "oo.shape"
   ]
  },
  {
   "cell_type": "code",
   "execution_count": 81,
   "id": "f03de68b-9ae4-4023-852f-98f62dd3ad7b",
   "metadata": {
    "tags": []
   },
   "outputs": [
    {
     "data": {
      "text/plain": [
       "AnnData object with n_obs × n_vars = 3798 × 36601\n",
       "    obs: 'in_tissue', 'array_row', 'array_col'\n",
       "    var: 'gene_ids', 'feature_types', 'genome'\n",
       "    uns: 'spatial'\n",
       "    obsm: 'spatial'"
      ]
     },
     "execution_count": 81,
     "metadata": {},
     "output_type": "execute_result"
    }
   ],
   "source": [
    "adata1"
   ]
  },
  {
   "cell_type": "code",
   "execution_count": 82,
   "id": "5898e6fe-3266-4b9f-9717-2a5333faafa4",
   "metadata": {
    "tags": []
   },
   "outputs": [
    {
     "data": {
      "text/plain": [
       "AnnData object with n_obs × n_vars = 4992 × 36601\n",
       "    obs: 'in_tissue', 'array_row', 'array_col'\n",
       "    var: 'gene_ids', 'feature_types'\n",
       "    uns: 'spatial'\n",
       "    obsm: 'spatial'"
      ]
     },
     "execution_count": 82,
     "metadata": {},
     "output_type": "execute_result"
    }
   ],
   "source": [
    "adata2"
   ]
  },
  {
   "cell_type": "code",
   "execution_count": 6,
   "id": "663ce249-5da2-4bcb-9c76-d481d2d82774",
   "metadata": {
    "tags": []
   },
   "outputs": [],
   "source": [
    "adata_dict = {'V1_Breast_Cancer_Block_A_Section_1': adata1,\n",
    "             '1142243F': adata2}"
   ]
  },
  {
   "cell_type": "code",
   "execution_count": 87,
   "id": "9fb3b60e-5e01-43d1-83ea-a74f510e232d",
   "metadata": {
    "tags": []
   },
   "outputs": [
    {
     "ename": "NameError",
     "evalue": "name 'ds' is not defined",
     "output_type": "error",
     "traceback": [
      "\u001b[0;31m---------------------------------------------------------------------------\u001b[0m",
      "\u001b[0;31mNameError\u001b[0m                                 Traceback (most recent call last)",
      "Cell \u001b[0;32mIn[87], line 1\u001b[0m\n\u001b[0;32m----> 1\u001b[0m \u001b[43mds\u001b[49m\u001b[38;5;241m.\u001b[39mnames\n",
      "\u001b[0;31mNameError\u001b[0m: name 'ds' is not defined"
     ]
    }
   ],
   "source": [
    "ds.names"
   ]
  },
  {
   "cell_type": "code",
   "execution_count": 92,
   "id": "cec9ef52-106b-4cdf-b3ae-121a67ea45e5",
   "metadata": {
    "tags": []
   },
   "outputs": [
    {
     "data": {
      "text/plain": [
       "'/scratch/imb/uqjxie6/benchmmarking/DeepHis2Exp/data/Breast_Cancer_10x/block1/image.tif'"
      ]
     },
     "execution_count": 92,
     "metadata": {},
     "output_type": "execute_result"
    }
   ],
   "source": [
    "adata_dict['V1_Breast_Cancer_Block_A_Section_1'].uns[\"spatial\"]['V1_Breast_Cancer_Block_A_Section_1'][\"metadata\"][\"source_image_path\"]"
   ]
  },
  {
   "cell_type": "code",
   "execution_count": 103,
   "id": "f808eb11-fbc1-42c6-b81c-6149bb1a86a2",
   "metadata": {
    "tags": []
   },
   "outputs": [
    {
     "data": {
      "text/html": [
       "<div>\n",
       "<style scoped>\n",
       "    .dataframe tbody tr th:only-of-type {\n",
       "        vertical-align: middle;\n",
       "    }\n",
       "\n",
       "    .dataframe tbody tr th {\n",
       "        vertical-align: top;\n",
       "    }\n",
       "\n",
       "    .dataframe thead th {\n",
       "        text-align: right;\n",
       "    }\n",
       "</style>\n",
       "<table border=\"1\" class=\"dataframe\">\n",
       "  <thead>\n",
       "    <tr style=\"text-align: right;\">\n",
       "      <th></th>\n",
       "      <th>FAM138A</th>\n",
       "      <th>OR4F5</th>\n",
       "      <th>AL627309.1</th>\n",
       "    </tr>\n",
       "  </thead>\n",
       "  <tbody>\n",
       "    <tr>\n",
       "      <th>AAACAAGTATCTCCCA-1</th>\n",
       "      <td>0.0</td>\n",
       "      <td>0.0</td>\n",
       "      <td>0.0</td>\n",
       "    </tr>\n",
       "    <tr>\n",
       "      <th>AAACACCAATAACTGC-1</th>\n",
       "      <td>0.0</td>\n",
       "      <td>0.0</td>\n",
       "      <td>0.0</td>\n",
       "    </tr>\n",
       "    <tr>\n",
       "      <th>AAACAGAGCGACTCCT-1</th>\n",
       "      <td>0.0</td>\n",
       "      <td>0.0</td>\n",
       "      <td>0.0</td>\n",
       "    </tr>\n",
       "    <tr>\n",
       "      <th>AAACAGGGTCTATATT-1</th>\n",
       "      <td>0.0</td>\n",
       "      <td>0.0</td>\n",
       "      <td>0.0</td>\n",
       "    </tr>\n",
       "    <tr>\n",
       "      <th>AAACAGTGTTCCTGGG-1</th>\n",
       "      <td>0.0</td>\n",
       "      <td>0.0</td>\n",
       "      <td>0.0</td>\n",
       "    </tr>\n",
       "    <tr>\n",
       "      <th>...</th>\n",
       "      <td>...</td>\n",
       "      <td>...</td>\n",
       "      <td>...</td>\n",
       "    </tr>\n",
       "    <tr>\n",
       "      <th>TTGTTGTGTGTCAAGA-1</th>\n",
       "      <td>0.0</td>\n",
       "      <td>0.0</td>\n",
       "      <td>0.0</td>\n",
       "    </tr>\n",
       "    <tr>\n",
       "      <th>TTGTTTCACATCCAGG-1</th>\n",
       "      <td>0.0</td>\n",
       "      <td>0.0</td>\n",
       "      <td>0.0</td>\n",
       "    </tr>\n",
       "    <tr>\n",
       "      <th>TTGTTTCATTAGTCTA-1</th>\n",
       "      <td>0.0</td>\n",
       "      <td>0.0</td>\n",
       "      <td>0.0</td>\n",
       "    </tr>\n",
       "    <tr>\n",
       "      <th>TTGTTTCCATACAACT-1</th>\n",
       "      <td>0.0</td>\n",
       "      <td>0.0</td>\n",
       "      <td>0.0</td>\n",
       "    </tr>\n",
       "    <tr>\n",
       "      <th>TTGTTTGTGTAAATTC-1</th>\n",
       "      <td>0.0</td>\n",
       "      <td>0.0</td>\n",
       "      <td>0.0</td>\n",
       "    </tr>\n",
       "  </tbody>\n",
       "</table>\n",
       "<p>3798 rows × 3 columns</p>\n",
       "</div>"
      ],
      "text/plain": [
       "                    FAM138A  OR4F5  AL627309.1\n",
       "AAACAAGTATCTCCCA-1      0.0    0.0         0.0\n",
       "AAACACCAATAACTGC-1      0.0    0.0         0.0\n",
       "AAACAGAGCGACTCCT-1      0.0    0.0         0.0\n",
       "AAACAGGGTCTATATT-1      0.0    0.0         0.0\n",
       "AAACAGTGTTCCTGGG-1      0.0    0.0         0.0\n",
       "...                     ...    ...         ...\n",
       "TTGTTGTGTGTCAAGA-1      0.0    0.0         0.0\n",
       "TTGTTTCACATCCAGG-1      0.0    0.0         0.0\n",
       "TTGTTTCATTAGTCTA-1      0.0    0.0         0.0\n",
       "TTGTTTCCATACAACT-1      0.0    0.0         0.0\n",
       "TTGTTTGTGTAAATTC-1      0.0    0.0         0.0\n",
       "\n",
       "[3798 rows x 3 columns]"
      ]
     },
     "execution_count": 103,
     "metadata": {},
     "output_type": "execute_result"
    }
   ],
   "source": [
    "adata1.to_df()[list(['FAM138A', 'OR4F5', 'AL627309.1'])]"
   ]
  },
  {
   "cell_type": "code",
   "execution_count": 106,
   "id": "351fe4d4-cfab-438d-8ce3-957ac9a852d0",
   "metadata": {
    "tags": []
   },
   "outputs": [
    {
     "data": {
      "text/plain": [
       "array([[17428, 15937],\n",
       "       [ 6092, 18054],\n",
       "       [16351,  7383],\n",
       "       ...,\n",
       "       [ 7593, 18294],\n",
       "       [ 7190, 14730],\n",
       "       [10484,  5709]])"
      ]
     },
     "execution_count": 106,
     "metadata": {},
     "output_type": "execute_result"
    }
   ],
   "source": [
    "adata1.obsm['spatial']"
   ]
  },
  {
   "cell_type": "code",
   "execution_count": 108,
   "id": "c61597c4-d500-4b29-972b-d93ed7975cb3",
   "metadata": {
    "tags": []
   },
   "outputs": [
    {
     "data": {
      "text/plain": [
       "array([[17428., 15937.],\n",
       "       [ 6092., 18054.],\n",
       "       [16351.,  7383.],\n",
       "       ...,\n",
       "       [ 7593., 18294.],\n",
       "       [ 7190., 14730.],\n",
       "       [10484.,  5709.]])"
      ]
     },
     "execution_count": 108,
     "metadata": {},
     "output_type": "execute_result"
    }
   ],
   "source": [
    "np.floor(adata_dict['V1_Breast_Cancer_Block_A_Section_1'].obsm[\"spatial\"])"
   ]
  },
  {
   "cell_type": "code",
   "execution_count": 111,
   "id": "57eaa809-9b16-409d-a321-b0c92d4a5893",
   "metadata": {
    "tags": []
   },
   "outputs": [
    {
     "data": {
      "text/plain": [
       "array([[ 50, 102],\n",
       "       [ 59,  19],\n",
       "       [ 14,  94],\n",
       "       ...,\n",
       "       [ 60,  30],\n",
       "       [ 45,  27],\n",
       "       [  7,  51]])"
      ]
     },
     "execution_count": 111,
     "metadata": {},
     "output_type": "execute_result"
    }
   ],
   "source": [
    "adata_dict['V1_Breast_Cancer_Block_A_Section_1'].obs[['array_row', 'array_col']].values"
   ]
  },
  {
   "cell_type": "code",
   "execution_count": 112,
   "id": "1969f84d-37cb-4946-8608-19e3675b31d1",
   "metadata": {
    "tags": []
   },
   "outputs": [
    {
     "data": {
      "text/plain": [
       "3798"
      ]
     },
     "execution_count": 112,
     "metadata": {},
     "output_type": "execute_result"
    }
   ],
   "source": [
    "len(np.floor(adata_dict['V1_Breast_Cancer_Block_A_Section_1'].obsm[\"spatial\"]))"
   ]
  },
  {
   "cell_type": "code",
   "execution_count": 113,
   "id": "40991e2f-9dc1-4b8c-a6a8-99bbead3a0f1",
   "metadata": {
    "tags": []
   },
   "outputs": [
    {
     "data": {
      "text/plain": [
       "3798"
      ]
     },
     "execution_count": 113,
     "metadata": {},
     "output_type": "execute_result"
    }
   ],
   "source": [
    "len(adata_dict['V1_Breast_Cancer_Block_A_Section_1'].obs[['array_row', 'array_col']].values)"
   ]
  },
  {
   "cell_type": "code",
   "execution_count": 114,
   "id": "ffa763c5-f63b-4678-80d5-1e6db5cbed4f",
   "metadata": {
    "tags": []
   },
   "outputs": [
    {
     "data": {
      "text/html": [
       "<div>\n",
       "<style scoped>\n",
       "    .dataframe tbody tr th:only-of-type {\n",
       "        vertical-align: middle;\n",
       "    }\n",
       "\n",
       "    .dataframe tbody tr th {\n",
       "        vertical-align: top;\n",
       "    }\n",
       "\n",
       "    .dataframe thead th {\n",
       "        text-align: right;\n",
       "    }\n",
       "</style>\n",
       "<table border=\"1\" class=\"dataframe\">\n",
       "  <thead>\n",
       "    <tr style=\"text-align: right;\">\n",
       "      <th></th>\n",
       "      <th>in_tissue</th>\n",
       "      <th>array_row</th>\n",
       "      <th>array_col</th>\n",
       "    </tr>\n",
       "  </thead>\n",
       "  <tbody>\n",
       "    <tr>\n",
       "      <th>AAACAAGTATCTCCCA-1</th>\n",
       "      <td>1</td>\n",
       "      <td>50</td>\n",
       "      <td>102</td>\n",
       "    </tr>\n",
       "    <tr>\n",
       "      <th>AAACACCAATAACTGC-1</th>\n",
       "      <td>1</td>\n",
       "      <td>59</td>\n",
       "      <td>19</td>\n",
       "    </tr>\n",
       "    <tr>\n",
       "      <th>AAACAGAGCGACTCCT-1</th>\n",
       "      <td>1</td>\n",
       "      <td>14</td>\n",
       "      <td>94</td>\n",
       "    </tr>\n",
       "    <tr>\n",
       "      <th>AAACAGGGTCTATATT-1</th>\n",
       "      <td>1</td>\n",
       "      <td>47</td>\n",
       "      <td>13</td>\n",
       "    </tr>\n",
       "    <tr>\n",
       "      <th>AAACAGTGTTCCTGGG-1</th>\n",
       "      <td>1</td>\n",
       "      <td>73</td>\n",
       "      <td>43</td>\n",
       "    </tr>\n",
       "    <tr>\n",
       "      <th>...</th>\n",
       "      <td>...</td>\n",
       "      <td>...</td>\n",
       "      <td>...</td>\n",
       "    </tr>\n",
       "    <tr>\n",
       "      <th>TTGTTGTGTGTCAAGA-1</th>\n",
       "      <td>1</td>\n",
       "      <td>31</td>\n",
       "      <td>77</td>\n",
       "    </tr>\n",
       "    <tr>\n",
       "      <th>TTGTTTCACATCCAGG-1</th>\n",
       "      <td>1</td>\n",
       "      <td>58</td>\n",
       "      <td>42</td>\n",
       "    </tr>\n",
       "    <tr>\n",
       "      <th>TTGTTTCATTAGTCTA-1</th>\n",
       "      <td>1</td>\n",
       "      <td>60</td>\n",
       "      <td>30</td>\n",
       "    </tr>\n",
       "    <tr>\n",
       "      <th>TTGTTTCCATACAACT-1</th>\n",
       "      <td>1</td>\n",
       "      <td>45</td>\n",
       "      <td>27</td>\n",
       "    </tr>\n",
       "    <tr>\n",
       "      <th>TTGTTTGTGTAAATTC-1</th>\n",
       "      <td>1</td>\n",
       "      <td>7</td>\n",
       "      <td>51</td>\n",
       "    </tr>\n",
       "  </tbody>\n",
       "</table>\n",
       "<p>3798 rows × 3 columns</p>\n",
       "</div>"
      ],
      "text/plain": [
       "                    in_tissue  array_row  array_col\n",
       "AAACAAGTATCTCCCA-1          1         50        102\n",
       "AAACACCAATAACTGC-1          1         59         19\n",
       "AAACAGAGCGACTCCT-1          1         14         94\n",
       "AAACAGGGTCTATATT-1          1         47         13\n",
       "AAACAGTGTTCCTGGG-1          1         73         43\n",
       "...                       ...        ...        ...\n",
       "TTGTTGTGTGTCAAGA-1          1         31         77\n",
       "TTGTTTCACATCCAGG-1          1         58         42\n",
       "TTGTTTCATTAGTCTA-1          1         60         30\n",
       "TTGTTTCCATACAACT-1          1         45         27\n",
       "TTGTTTGTGTAAATTC-1          1          7         51\n",
       "\n",
       "[3798 rows x 3 columns]"
      ]
     },
     "execution_count": 114,
     "metadata": {},
     "output_type": "execute_result"
    }
   ],
   "source": [
    "adata_dict['V1_Breast_Cancer_Block_A_Section_1'].obs"
   ]
  },
  {
   "cell_type": "code",
   "execution_count": 116,
   "id": "5ffff338-a543-41b9-97a1-a2d58951304f",
   "metadata": {
    "tags": []
   },
   "outputs": [
    {
     "data": {
      "text/plain": [
       "array([[17428, 15937],\n",
       "       [ 6092, 18054],\n",
       "       [16351,  7383],\n",
       "       ...,\n",
       "       [ 7593, 18294],\n",
       "       [ 7190, 14730],\n",
       "       [10484,  5709]])"
      ]
     },
     "execution_count": 116,
     "metadata": {},
     "output_type": "execute_result"
    }
   ],
   "source": [
    "adata_dict['V1_Breast_Cancer_Block_A_Section_1'].obsm['spatial']"
   ]
  },
  {
   "cell_type": "code",
   "execution_count": 119,
   "id": "ee8a9202-07dd-4d72-843e-bc4cfc1f8277",
   "metadata": {
    "tags": []
   },
   "outputs": [],
   "source": [
    "t = adata_dict['V1_Breast_Cancer_Block_A_Section_1'].obs[['array_row', 'array_col']].values"
   ]
  },
  {
   "cell_type": "code",
   "execution_count": 118,
   "id": "4ff7bbc6-d2ab-48fc-b882-34e489fa3955",
   "metadata": {
    "tags": []
   },
   "outputs": [],
   "source": [
    "tt = adata_dict['V1_Breast_Cancer_Block_A_Section_1'].obsm['spatial']"
   ]
  },
  {
   "cell_type": "code",
   "execution_count": 120,
   "id": "ade68ba4-7325-4550-ab7d-a8b82f5f8899",
   "metadata": {
    "tags": []
   },
   "outputs": [
    {
     "data": {
      "text/plain": [
       "array([[ 50, 102],\n",
       "       [ 59,  19],\n",
       "       [ 14,  94],\n",
       "       ...,\n",
       "       [ 60,  30],\n",
       "       [ 45,  27],\n",
       "       [  7,  51]])"
      ]
     },
     "execution_count": 120,
     "metadata": {},
     "output_type": "execute_result"
    }
   ],
   "source": [
    "t"
   ]
  },
  {
   "cell_type": "code",
   "execution_count": 121,
   "id": "6a56a4cf-240b-475b-8c2b-47fab89376f2",
   "metadata": {
    "tags": []
   },
   "outputs": [
    {
     "data": {
      "text/plain": [
       "array([102,  19,  94, ...,  30,  27,  51])"
      ]
     },
     "execution_count": 121,
     "metadata": {},
     "output_type": "execute_result"
    }
   ],
   "source": [
    "t[:,1]"
   ]
  },
  {
   "cell_type": "code",
   "execution_count": 125,
   "id": "b1304be0-a29e-4835-81dc-64998f07457f",
   "metadata": {
    "tags": []
   },
   "outputs": [
    {
     "data": {
      "text/plain": [
       "<matplotlib.collections.PathCollection at 0x7fa09551d6a0>"
      ]
     },
     "execution_count": 125,
     "metadata": {},
     "output_type": "execute_result"
    },
    {
     "data": {
      "image/png": "[encoded data removed]",
      "text/plain": [
       "<Figure size 640x480 with 1 Axes>"
      ]
     },
     "metadata": {},
     "output_type": "display_data"
    }
   ],
   "source": [
    "plt.scatter(t[:3,0], t[:3,1])"
   ]
  },
  {
   "cell_type": "code",
   "execution_count": 127,
   "id": "5bad47ee-2093-47ac-aef9-21f986d206e1",
   "metadata": {
    "tags": []
   },
   "outputs": [
    {
     "data": {
      "text/plain": [
       "<matplotlib.collections.PathCollection at 0x7fa095016ac0>"
      ]
     },
     "execution_count": 127,
     "metadata": {},
     "output_type": "execute_result"
    },
    {
     "data": {
      "image/png": "[encoded data removed]",
      "text/plain": [
       "<Figure size 640x480 with 1 Axes>"
      ]
     },
     "metadata": {},
     "output_type": "display_data"
    }
   ],
   "source": [
    "plt.scatter(tt[:3,1], tt[:3,0])"
   ]
  },
  {
   "cell_type": "code",
   "execution_count": 128,
   "id": "8b1fcc94-7135-4cc7-bba3-aba3622a5fa1",
   "metadata": {
    "tags": []
   },
   "outputs": [
    {
     "data": {
      "text/html": [
       "<div>\n",
       "<style scoped>\n",
       "    .dataframe tbody tr th:only-of-type {\n",
       "        vertical-align: middle;\n",
       "    }\n",
       "\n",
       "    .dataframe tbody tr th {\n",
       "        vertical-align: top;\n",
       "    }\n",
       "\n",
       "    .dataframe thead th {\n",
       "        text-align: right;\n",
       "    }\n",
       "</style>\n",
       "<table border=\"1\" class=\"dataframe\">\n",
       "  <thead>\n",
       "    <tr style=\"text-align: right;\">\n",
       "      <th></th>\n",
       "      <th>array_row</th>\n",
       "      <th>array_col</th>\n",
       "    </tr>\n",
       "  </thead>\n",
       "  <tbody>\n",
       "    <tr>\n",
       "      <th>AAACAAGTATCTCCCA-1</th>\n",
       "      <td>50</td>\n",
       "      <td>102</td>\n",
       "    </tr>\n",
       "    <tr>\n",
       "      <th>AAACACCAATAACTGC-1</th>\n",
       "      <td>59</td>\n",
       "      <td>19</td>\n",
       "    </tr>\n",
       "    <tr>\n",
       "      <th>AAACAGAGCGACTCCT-1</th>\n",
       "      <td>14</td>\n",
       "      <td>94</td>\n",
       "    </tr>\n",
       "    <tr>\n",
       "      <th>AAACAGGGTCTATATT-1</th>\n",
       "      <td>47</td>\n",
       "      <td>13</td>\n",
       "    </tr>\n",
       "    <tr>\n",
       "      <th>AAACAGTGTTCCTGGG-1</th>\n",
       "      <td>73</td>\n",
       "      <td>43</td>\n",
       "    </tr>\n",
       "    <tr>\n",
       "      <th>...</th>\n",
       "      <td>...</td>\n",
       "      <td>...</td>\n",
       "    </tr>\n",
       "    <tr>\n",
       "      <th>TTGTTGTGTGTCAAGA-1</th>\n",
       "      <td>31</td>\n",
       "      <td>77</td>\n",
       "    </tr>\n",
       "    <tr>\n",
       "      <th>TTGTTTCACATCCAGG-1</th>\n",
       "      <td>58</td>\n",
       "      <td>42</td>\n",
       "    </tr>\n",
       "    <tr>\n",
       "      <th>TTGTTTCATTAGTCTA-1</th>\n",
       "      <td>60</td>\n",
       "      <td>30</td>\n",
       "    </tr>\n",
       "    <tr>\n",
       "      <th>TTGTTTCCATACAACT-1</th>\n",
       "      <td>45</td>\n",
       "      <td>27</td>\n",
       "    </tr>\n",
       "    <tr>\n",
       "      <th>TTGTTTGTGTAAATTC-1</th>\n",
       "      <td>7</td>\n",
       "      <td>51</td>\n",
       "    </tr>\n",
       "  </tbody>\n",
       "</table>\n",
       "<p>3798 rows × 2 columns</p>\n",
       "</div>"
      ],
      "text/plain": [
       "                    array_row  array_col\n",
       "AAACAAGTATCTCCCA-1         50        102\n",
       "AAACACCAATAACTGC-1         59         19\n",
       "AAACAGAGCGACTCCT-1         14         94\n",
       "AAACAGGGTCTATATT-1         47         13\n",
       "AAACAGTGTTCCTGGG-1         73         43\n",
       "...                       ...        ...\n",
       "TTGTTGTGTGTCAAGA-1         31         77\n",
       "TTGTTTCACATCCAGG-1         58         42\n",
       "TTGTTTCATTAGTCTA-1         60         30\n",
       "TTGTTTCCATACAACT-1         45         27\n",
       "TTGTTTGTGTAAATTC-1          7         51\n",
       "\n",
       "[3798 rows x 2 columns]"
      ]
     },
     "execution_count": 128,
     "metadata": {},
     "output_type": "execute_result"
    }
   ],
   "source": [
    "adata_dict['V1_Breast_Cancer_Block_A_Section_1'].obs[['array_row', 'array_col']]"
   ]
  },
  {
   "cell_type": "code",
   "execution_count": 130,
   "id": "9877aff9-b32a-4da5-acf2-e0793e3de14f",
   "metadata": {
    "tags": []
   },
   "outputs": [
    {
     "data": {
      "text/plain": [
       "array([[102,  50],\n",
       "       [ 19,  59],\n",
       "       [ 94,  14],\n",
       "       ...,\n",
       "       [ 30,  60],\n",
       "       [ 27,  45],\n",
       "       [ 51,   7]])"
      ]
     },
     "execution_count": 130,
     "metadata": {},
     "output_type": "execute_result"
    }
   ],
   "source": [
    "adata_dict['V1_Breast_Cancer_Block_A_Section_1'].obs[['array_col', 'array_row']].values"
   ]
  },
  {
   "cell_type": "code",
   "execution_count": 134,
   "id": "b243da73-11d1-4cb1-94ce-815c658f854d",
   "metadata": {
    "tags": []
   },
   "outputs": [
    {
     "data": {
      "text/plain": [
       "3798"
      ]
     },
     "execution_count": 134,
     "metadata": {},
     "output_type": "execute_result"
    }
   ],
   "source": [
    "adata_dict['V1_Breast_Cancer_Block_A_Section_1'].n_obs"
   ]
  },
  {
   "cell_type": "code",
   "execution_count": 135,
   "id": "c1e3dcff-ba71-4604-8818-1f02e9b27664",
   "metadata": {
    "tags": []
   },
   "outputs": [
    {
     "data": {
      "text/plain": [
       "3798"
      ]
     },
     "execution_count": 135,
     "metadata": {},
     "output_type": "execute_result"
    }
   ],
   "source": [
    "len(adata_dict['V1_Breast_Cancer_Block_A_Section_1'].to_df())"
   ]
  },
  {
   "cell_type": "code",
   "execution_count": 7,
   "id": "e60b4618-16eb-4a1b-a9bb-e3a962f3f44d",
   "metadata": {
    "tags": []
   },
   "outputs": [],
   "source": [
    "import sys\n",
    "sys.path.append(\"../models/Hist2ST/\")\n",
    "\n",
    "import os\n",
    "import glob\n",
    "import torch\n",
    "import torchvision\n",
    "import numpy as np\n",
    "import scanpy as sc\n",
    "import pandas as pd \n",
    "import scprep as scp\n",
    "import anndata as ad\n",
    "import seaborn as sns\n",
    "import torch.nn as nn\n",
    "import torch.optim as optim\n",
    "import matplotlib.pyplot as plt\n",
    "import torch.nn.functional as F\n",
    "import torchvision.transforms as transforms\n",
    "from PIL import ImageFile, Image\n",
    "from utils import read_tiff, get_data\n",
    "from graph_construction import calcADJ\n",
    "from collections import defaultdict as dfd\n",
    "ImageFile.LOAD_TRUNCATED_IMAGES = True\n",
    "Image.MAX_IMAGE_PIXELS = None\n",
    "\n",
    "\n",
    "def read_tiff(path):\n",
    "    Image.MAX_IMAGE_PIXELS = None\n",
    "    im = Image.open(path)\n",
    "    imarray = np.array(im)\n",
    "    # I = plt.imread(path)\n",
    "    return im\n",
    "\n",
    "\n",
    "class ViT_Anndata(torch.utils.data.Dataset):\n",
    "    \"\"\"Some Information about ViT_SKIN\"\"\"\n",
    "    def __init__(self, adata_dict, gene_list, train=True,r=4,norm=False,fold=0,flatten=True,ori=True,adj=True,prune='NA',neighs=4):\n",
    "        super(ViT_Anndata, self).__init__()\n",
    "\n",
    "        self.r = 224//r\n",
    "\n",
    "        names = list(adata_dict.keys())\n",
    "\n",
    "        self.ori = ori\n",
    "        self.adj = adj\n",
    "        self.norm = norm\n",
    "        self.train = train\n",
    "        self.flatten = flatten\n",
    "        self.adata_dict = adata_dict\n",
    "        self.gene_list = gene_list\n",
    "        samples = names\n",
    "        te_names = [samples[fold]]\n",
    "        tr_names = list(set(samples)-set(te_names))\n",
    "\n",
    "        if train:\n",
    "            self.names = tr_names\n",
    "        else:\n",
    "            self.names = te_names\n",
    "\n",
    "        print(te_names)\n",
    "        print('Loading imgs...')\n",
    "        self.img_dict = {i:torch.Tensor(np.array(self.get_img(i))) for i in self.names}\n",
    "\n",
    "        self.gene_set = list(gene_list)\n",
    "        if self.norm:\n",
    "            self.exp_dict = {\n",
    "                i:sc.pp.scale(scp.transform.log(scp.normalize.library_size_normalize(m.to_df()[self.gene_set].values)))\n",
    "                for i,m in self.adata_dict.items()\n",
    "            }\n",
    "        else:\n",
    "            self.exp_dict = {\n",
    "                i:scp.transform.log(scp.normalize.library_size_normalize(m.to_df()[self.gene_set].values)) \n",
    "                for i,m in self.adata_dict.items()\n",
    "            }\n",
    "        if self.ori:\n",
    "            self.ori_dict = {i:m.to_df()[self.gene_set].values for i,m in self.adata_dict.items()}\n",
    "            self.counts_dict={}\n",
    "            for i,m in self.ori_dict.items():\n",
    "                n_counts=m.sum(1)\n",
    "                sf = n_counts / np.median(n_counts)\n",
    "                self.counts_dict[i]=sf\n",
    "        self.center_dict = {\n",
    "            i:np.floor(m.obsm[\"spatial\"]).astype(int)\n",
    "            for i,m in self.adata_dict.items()\n",
    "        }\n",
    "        self.loc_dict = {i:m.obs[['array_col', 'array_row']].values for i,m in self.adata_dict.items()}\n",
    "        self.adj_dict = {\n",
    "            i:calcADJ(m,neighs,pruneTag=prune)\n",
    "            for i,m in self.loc_dict.items()\n",
    "        }\n",
    "        self.patch_dict=dfd(lambda :None)\n",
    "        self.lengths = [i.n_obs for i in self.adata_dict.values()]\n",
    "        self.cumlen = np.cumsum(self.lengths)\n",
    "        self.id2name = dict(enumerate(self.names))\n",
    "\n",
    "\n",
    "    def filter_helper(self):\n",
    "        a = np.zeros(len(self.gene_list))\n",
    "        n = 0\n",
    "        for i,exp in self.exp_dict.items():\n",
    "            n += exp.shape[0]\n",
    "            exp[exp>0] = 1\n",
    "            for j in range((len(self.gene_list))):\n",
    "                a[j] += np.sum(exp[:,j])\n",
    "\n",
    "\n",
    "    def __getitem__(self, index):\n",
    "        ID=self.id2name[index]\n",
    "        im = self.img_dict[ID].permute(1,0,2)\n",
    "\n",
    "        exps = self.exp_dict[ID]\n",
    "        if self.ori:\n",
    "            oris = self.ori_dict[ID]\n",
    "            sfs = self.counts_dict[ID]\n",
    "        adj=self.adj_dict[ID]\n",
    "        centers = self.center_dict[ID]\n",
    "        loc = self.loc_dict[ID]\n",
    "        patches = self.patch_dict[ID]\n",
    "        positions = torch.LongTensor(loc)\n",
    "        patch_dim = 3 * self.r * self.r * 4\n",
    "        exps = torch.Tensor(exps)\n",
    "        if patches is None:\n",
    "            n_patches = len(centers)\n",
    "            if self.flatten:\n",
    "                patches = torch.zeros((n_patches,patch_dim))\n",
    "            else:\n",
    "                patches = torch.zeros((n_patches,3,2*self.r,2*self.r))\n",
    "\n",
    "            for i in range(n_patches):\n",
    "                center = centers[i]\n",
    "                x, y = center\n",
    "                patch = im[(x-self.r):(x+self.r),(y-self.r):(y+self.r),:]\n",
    "                if self.flatten:\n",
    "                    patches[i] = patch.flatten()\n",
    "                else:\n",
    "                    patches[i]=patch.permute(2,0,1)\n",
    "            self.patch_dict[ID]=patches\n",
    "        data=[patches, positions, exps]\n",
    "        if self.adj:\n",
    "            data.append(adj)\n",
    "        if self.ori:\n",
    "            data+=[torch.Tensor(oris),torch.Tensor(sfs)]\n",
    "        data.append(torch.Tensor(centers))\n",
    "        return data\n",
    "        \n",
    "    def __len__(self):\n",
    "        return len(self.exp_dict)\n",
    "\n",
    "    def get_img(self,name):\n",
    "        path = self.adata_dict[name].uns[\"spatial\"][name][\"metadata\"][\"source_image_path\"]\n",
    "        im = read_tiff(path)\n",
    "        return im"
   ]
  },
  {
   "cell_type": "code",
   "execution_count": 8,
   "id": "7c0e7a5e-12b1-41b6-ae90-ae437d9d9a60",
   "metadata": {
    "tags": []
   },
   "outputs": [
    {
     "name": "stdout",
     "output_type": "stream",
     "text": [
      "['V1_Breast_Cancer_Block_A_Section_1']\n",
      "Loading imgs...\n"
     ]
    }
   ],
   "source": [
    "gene_list = [\"COX6C\",\"TTLL12\", \"PABPC1\", \"GNAS\", \"HSP90AB1\", \n",
    "           \"TFF3\", \"ATP1A1\", \"B2M\", \"FASN\", \"SPARC\", \"CD74\", \"CD63\", \"CD24\", \"CD81\"]\n",
    "ds = ViT_Anndata(adata_dict = adata_dict, gene_list = gene_list,\n",
    "            train='train',fold=0,flatten=False,adj=True,ori=True,prune='NA'\n",
    "        )"
   ]
  },
  {
   "cell_type": "code",
   "execution_count": 9,
   "id": "45aadc25-9ea7-45a0-a1ce-c5c3e4744951",
   "metadata": {
    "tags": []
   },
   "outputs": [
    {
     "data": {
      "text/plain": [
       "['1142243F']"
      ]
     },
     "execution_count": 9,
     "metadata": {},
     "output_type": "execute_result"
    }
   ],
   "source": [
    "ds.names"
   ]
  },
  {
   "cell_type": "code",
   "execution_count": 10,
   "id": "7a945528-8beb-4074-973e-d9dc163844ff",
   "metadata": {
    "tags": []
   },
   "outputs": [],
   "source": [
    "from torch.utils.data import DataLoader\n",
    "train_loader = DataLoader(ds, batch_size=1, num_workers=0, shuffle=True)\n"
   ]
  },
  {
   "cell_type": "code",
   "execution_count": 11,
   "id": "7e39ff96-49c5-4d9d-8adf-f1b1478ac0b4",
   "metadata": {
    "tags": []
   },
   "outputs": [],
   "source": [
    "iterator=iter(train_loader)\n",
    "test = next(iterator)"
   ]
  },
  {
   "cell_type": "code",
   "execution_count": 13,
   "id": "66fe159b-da99-44f4-8095-d16efe1be84e",
   "metadata": {
    "tags": []
   },
   "outputs": [
    {
     "ename": "KeyError",
     "evalue": "1",
     "output_type": "error",
     "traceback": [
      "\u001b[0;31m---------------------------------------------------------------------------\u001b[0m",
      "\u001b[0;31mKeyError\u001b[0m                                  Traceback (most recent call last)",
      "Cell \u001b[0;32mIn[13], line 1\u001b[0m\n\u001b[0;32m----> 1\u001b[0m \u001b[38;5;28;43mnext\u001b[39;49m\u001b[43m(\u001b[49m\u001b[43miterator\u001b[49m\u001b[43m)\u001b[49m\n\u001b[1;32m      2\u001b[0m \u001b[38;5;28mprint\u001b[39m(ds\u001b[38;5;241m.\u001b[39mpatch_dict\u001b[38;5;241m.\u001b[39mkeys())\n\u001b[1;32m      3\u001b[0m \u001b[38;5;28mnext\u001b[39m(iterator)\n",
      "File \u001b[0;32m/scratch/imb/uqjxie6/software/stimage5/lib/python3.8/site-packages/torch/utils/data/dataloader.py:628\u001b[0m, in \u001b[0;36m_BaseDataLoaderIter.__next__\u001b[0;34m(self)\u001b[0m\n\u001b[1;32m    625\u001b[0m \u001b[38;5;28;01mif\u001b[39;00m \u001b[38;5;28mself\u001b[39m\u001b[38;5;241m.\u001b[39m_sampler_iter \u001b[38;5;129;01mis\u001b[39;00m \u001b[38;5;28;01mNone\u001b[39;00m:\n\u001b[1;32m    626\u001b[0m     \u001b[38;5;66;03m# TODO(https://github.com/pytorch/pytorch/issues/76750)\u001b[39;00m\n\u001b[1;32m    627\u001b[0m     \u001b[38;5;28mself\u001b[39m\u001b[38;5;241m.\u001b[39m_reset()  \u001b[38;5;66;03m# type: ignore[call-arg]\u001b[39;00m\n\u001b[0;32m--> 628\u001b[0m data \u001b[38;5;241m=\u001b[39m \u001b[38;5;28;43mself\u001b[39;49m\u001b[38;5;241;43m.\u001b[39;49m\u001b[43m_next_data\u001b[49m\u001b[43m(\u001b[49m\u001b[43m)\u001b[49m\n\u001b[1;32m    629\u001b[0m \u001b[38;5;28mself\u001b[39m\u001b[38;5;241m.\u001b[39m_num_yielded \u001b[38;5;241m+\u001b[39m\u001b[38;5;241m=\u001b[39m \u001b[38;5;241m1\u001b[39m\n\u001b[1;32m    630\u001b[0m \u001b[38;5;28;01mif\u001b[39;00m \u001b[38;5;28mself\u001b[39m\u001b[38;5;241m.\u001b[39m_dataset_kind \u001b[38;5;241m==\u001b[39m _DatasetKind\u001b[38;5;241m.\u001b[39mIterable \u001b[38;5;129;01mand\u001b[39;00m \\\n\u001b[1;32m    631\u001b[0m         \u001b[38;5;28mself\u001b[39m\u001b[38;5;241m.\u001b[39m_IterableDataset_len_called \u001b[38;5;129;01mis\u001b[39;00m \u001b[38;5;129;01mnot\u001b[39;00m \u001b[38;5;28;01mNone\u001b[39;00m \u001b[38;5;129;01mand\u001b[39;00m \\\n\u001b[1;32m    632\u001b[0m         \u001b[38;5;28mself\u001b[39m\u001b[38;5;241m.\u001b[39m_num_yielded \u001b[38;5;241m>\u001b[39m \u001b[38;5;28mself\u001b[39m\u001b[38;5;241m.\u001b[39m_IterableDataset_len_called:\n",
      "File \u001b[0;32m/scratch/imb/uqjxie6/software/stimage5/lib/python3.8/site-packages/torch/utils/data/dataloader.py:671\u001b[0m, in \u001b[0;36m_SingleProcessDataLoaderIter._next_data\u001b[0;34m(self)\u001b[0m\n\u001b[1;32m    669\u001b[0m \u001b[38;5;28;01mdef\u001b[39;00m \u001b[38;5;21m_next_data\u001b[39m(\u001b[38;5;28mself\u001b[39m):\n\u001b[1;32m    670\u001b[0m     index \u001b[38;5;241m=\u001b[39m \u001b[38;5;28mself\u001b[39m\u001b[38;5;241m.\u001b[39m_next_index()  \u001b[38;5;66;03m# may raise StopIteration\u001b[39;00m\n\u001b[0;32m--> 671\u001b[0m     data \u001b[38;5;241m=\u001b[39m \u001b[38;5;28;43mself\u001b[39;49m\u001b[38;5;241;43m.\u001b[39;49m\u001b[43m_dataset_fetcher\u001b[49m\u001b[38;5;241;43m.\u001b[39;49m\u001b[43mfetch\u001b[49m\u001b[43m(\u001b[49m\u001b[43mindex\u001b[49m\u001b[43m)\u001b[49m  \u001b[38;5;66;03m# may raise StopIteration\u001b[39;00m\n\u001b[1;32m    672\u001b[0m     \u001b[38;5;28;01mif\u001b[39;00m \u001b[38;5;28mself\u001b[39m\u001b[38;5;241m.\u001b[39m_pin_memory:\n\u001b[1;32m    673\u001b[0m         data \u001b[38;5;241m=\u001b[39m _utils\u001b[38;5;241m.\u001b[39mpin_memory\u001b[38;5;241m.\u001b[39mpin_memory(data, \u001b[38;5;28mself\u001b[39m\u001b[38;5;241m.\u001b[39m_pin_memory_device)\n",
      "File \u001b[0;32m/scratch/imb/uqjxie6/software/stimage5/lib/python3.8/site-packages/torch/utils/data/_utils/fetch.py:58\u001b[0m, in \u001b[0;36m_MapDatasetFetcher.fetch\u001b[0;34m(self, possibly_batched_index)\u001b[0m\n\u001b[1;32m     56\u001b[0m         data \u001b[38;5;241m=\u001b[39m \u001b[38;5;28mself\u001b[39m\u001b[38;5;241m.\u001b[39mdataset\u001b[38;5;241m.\u001b[39m__getitems__(possibly_batched_index)\n\u001b[1;32m     57\u001b[0m     \u001b[38;5;28;01melse\u001b[39;00m:\n\u001b[0;32m---> 58\u001b[0m         data \u001b[38;5;241m=\u001b[39m [\u001b[38;5;28mself\u001b[39m\u001b[38;5;241m.\u001b[39mdataset[idx] \u001b[38;5;28;01mfor\u001b[39;00m idx \u001b[38;5;129;01min\u001b[39;00m possibly_batched_index]\n\u001b[1;32m     59\u001b[0m \u001b[38;5;28;01melse\u001b[39;00m:\n\u001b[1;32m     60\u001b[0m     data \u001b[38;5;241m=\u001b[39m \u001b[38;5;28mself\u001b[39m\u001b[38;5;241m.\u001b[39mdataset[possibly_batched_index]\n",
      "File \u001b[0;32m/scratch/imb/uqjxie6/software/stimage5/lib/python3.8/site-packages/torch/utils/data/_utils/fetch.py:58\u001b[0m, in \u001b[0;36m<listcomp>\u001b[0;34m(.0)\u001b[0m\n\u001b[1;32m     56\u001b[0m         data \u001b[38;5;241m=\u001b[39m \u001b[38;5;28mself\u001b[39m\u001b[38;5;241m.\u001b[39mdataset\u001b[38;5;241m.\u001b[39m__getitems__(possibly_batched_index)\n\u001b[1;32m     57\u001b[0m     \u001b[38;5;28;01melse\u001b[39;00m:\n\u001b[0;32m---> 58\u001b[0m         data \u001b[38;5;241m=\u001b[39m [\u001b[38;5;28;43mself\u001b[39;49m\u001b[38;5;241;43m.\u001b[39;49m\u001b[43mdataset\u001b[49m\u001b[43m[\u001b[49m\u001b[43midx\u001b[49m\u001b[43m]\u001b[49m \u001b[38;5;28;01mfor\u001b[39;00m idx \u001b[38;5;129;01min\u001b[39;00m possibly_batched_index]\n\u001b[1;32m     59\u001b[0m \u001b[38;5;28;01melse\u001b[39;00m:\n\u001b[1;32m     60\u001b[0m     data \u001b[38;5;241m=\u001b[39m \u001b[38;5;28mself\u001b[39m\u001b[38;5;241m.\u001b[39mdataset[possibly_batched_index]\n",
      "Cell \u001b[0;32mIn[7], line 108\u001b[0m, in \u001b[0;36mViT_Anndata.__getitem__\u001b[0;34m(self, index)\u001b[0m\n\u001b[1;32m    107\u001b[0m \u001b[38;5;28;01mdef\u001b[39;00m \u001b[38;5;21m__getitem__\u001b[39m(\u001b[38;5;28mself\u001b[39m, index):\n\u001b[0;32m--> 108\u001b[0m     ID\u001b[38;5;241m=\u001b[39m\u001b[38;5;28;43mself\u001b[39;49m\u001b[38;5;241;43m.\u001b[39;49m\u001b[43mid2name\u001b[49m\u001b[43m[\u001b[49m\u001b[43mindex\u001b[49m\u001b[43m]\u001b[49m\n\u001b[1;32m    109\u001b[0m     im \u001b[38;5;241m=\u001b[39m \u001b[38;5;28mself\u001b[39m\u001b[38;5;241m.\u001b[39mimg_dict[ID]\u001b[38;5;241m.\u001b[39mpermute(\u001b[38;5;241m1\u001b[39m,\u001b[38;5;241m0\u001b[39m,\u001b[38;5;241m2\u001b[39m)\n\u001b[1;32m    111\u001b[0m     exps \u001b[38;5;241m=\u001b[39m \u001b[38;5;28mself\u001b[39m\u001b[38;5;241m.\u001b[39mexp_dict[ID]\n",
      "\u001b[0;31mKeyError\u001b[0m: 1"
     ]
    }
   ],
   "source": [
    "next(iterator)\n",
    "print(ds.patch_dict.keys())\n",
    "next(iterator)\n",
    "print(ds.patch_dict.keys())\n",
    "next(iterator)\n",
    "print(ds.patch_dict.keys())\n"
   ]
  },
  {
   "cell_type": "code",
   "execution_count": 14,
   "id": "9c4aae33-d1e4-4b5b-95e9-fb2c6a3c4c62",
   "metadata": {
    "tags": []
   },
   "outputs": [
    {
     "data": {
      "text/plain": [
       "{0: '1142243F'}"
      ]
     },
     "execution_count": 14,
     "metadata": {},
     "output_type": "execute_result"
    }
   ],
   "source": [
    "ds.id2name"
   ]
  },
  {
   "cell_type": "code",
   "execution_count": null,
   "id": "df3c6e52-e0d3-4275-9ea4-03870f8b07a3",
   "metadata": {},
   "outputs": [],
   "source": []
  }
 ],
 "metadata": {
  "kernelspec": {
   "display_name": "Python 3 (ipykernel)",
   "language": "python",
   "name": "python3"
  },
  "language_info": {
   "codemirror_mode": {
    "name": "ipython",
    "version": 3
   },
   "file_extension": ".py",
   "mimetype": "text/x-python",
   "name": "python",
   "nbconvert_exporter": "python",
   "pygments_lexer": "ipython3",
   "version": "3.8.16"
  }
 },
 "nbformat": 4,
 "nbformat_minor": 5
}
