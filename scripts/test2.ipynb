{
 "cells": [
  {
   "cell_type": "code",
   "execution_count": 1,
   "id": "241a6df5-75fb-4202-82b4-af161825fc75",
   "metadata": {
    "tags": []
   },
   "outputs": [],
   "source": [
    "from pathlib import Path\n",
    "from anndata import read_h5ad\n",
    "import sys\n",
    "import scanpy as sc\n",
    "import os\n",
    "import matplotlib.pyplot as plt\n",
    "\n",
    "import numpy as np\n",
    "import pandas as pd"
   ]
  },
  {
   "cell_type": "code",
   "execution_count": 2,
   "id": "1ef86a57-bec5-4c95-9270-16ded24ab1ac",
   "metadata": {
    "tags": []
   },
   "outputs": [],
   "source": [
    "DATA_PATH = Path(\"../data/dataset_breast_cancer_9visium\")"
   ]
  },
  {
   "cell_type": "code",
   "execution_count": 3,
   "id": "763cf38b-738f-4e67-abd2-0f2af8aed3ca",
   "metadata": {
    "tags": []
   },
   "outputs": [
    {
     "data": {
      "text/plain": [
       "True"
      ]
     },
     "execution_count": 3,
     "metadata": {},
     "output_type": "execute_result"
    }
   ],
   "source": [
    "(DATA_PATH / \"all_adata.h5ad\").exists()"
   ]
  },
  {
   "cell_type": "code",
   "execution_count": 4,
   "id": "97615b02-aeeb-40b8-9e30-3a23b1839d1f",
   "metadata": {
    "tags": []
   },
   "outputs": [],
   "source": [
    "adata_all = read_h5ad(DATA_PATH / \"all_adata.h5ad\")"
   ]
  },
  {
   "cell_type": "code",
   "execution_count": 5,
   "id": "c1760ab8-e17c-4a9c-91a0-d6bdc14391e6",
   "metadata": {
    "tags": []
   },
   "outputs": [
    {
     "data": {
      "text/plain": [
       "AnnData object with n_obs × n_vars = 24578 × 14664\n",
       "    obs: 'in_tissue', 'array_row', 'array_col', 'imagecol', 'imagerow', 'tile_tissue_mask_path', 'tissue_area', 'tile_path', 'library_id'\n",
       "    var: 'gene_ids-FFPE', 'feature_types-FFPE', 'genome-FFPE', 'gene_ids-block1', 'feature_types-block1', 'genome-block1', 'gene_ids-block2', 'feature_types-block2', 'genome-block2'\n",
       "    uns: 'spatial'\n",
       "    obsm: 'spatial'"
      ]
     },
     "execution_count": 5,
     "metadata": {},
     "output_type": "execute_result"
    }
   ],
   "source": [
    "adata_all"
   ]
  },
  {
   "cell_type": "code",
   "execution_count": 6,
   "id": "fcbfa423-1c00-4b1f-b97d-1966c9abb508",
   "metadata": {
    "tags": []
   },
   "outputs": [],
   "source": [
    "# adata_all.uns['spatial']['1160920F']"
   ]
  },
  {
   "cell_type": "code",
   "execution_count": 23,
   "id": "adf8876f-34b3-428c-a16d-7a5ff0b31c3d",
   "metadata": {
    "tags": []
   },
   "outputs": [],
   "source": [
    "adata_all_train_valid = adata_all[adata_all.obs[\"library_id\"].isin(\n",
    "    adata_all.obs.library_id.cat.remove_categories([\"FFPE\", \"1160920F\"]).unique())]"
   ]
  },
  {
   "cell_type": "code",
   "execution_count": 8,
   "id": "2c8979b2-45fe-4e8a-a109-efd1d5d19c16",
   "metadata": {
    "tags": []
   },
   "outputs": [
    {
     "data": {
      "text/plain": [
       "View of AnnData object with n_obs × n_vars = 17457 × 14664\n",
       "    obs: 'in_tissue', 'array_row', 'array_col', 'imagecol', 'imagerow', 'tile_tissue_mask_path', 'tissue_area', 'tile_path', 'library_id'\n",
       "    var: 'gene_ids-FFPE', 'feature_types-FFPE', 'genome-FFPE', 'gene_ids-block1', 'feature_types-block1', 'genome-block1', 'gene_ids-block2', 'feature_types-block2', 'genome-block2'\n",
       "    uns: 'spatial'\n",
       "    obsm: 'spatial'"
      ]
     },
     "execution_count": 8,
     "metadata": {},
     "output_type": "execute_result"
    }
   ],
   "source": [
    "adata_all_train_valid"
   ]
  },
  {
   "cell_type": "code",
   "execution_count": 26,
   "id": "e874dc37-e9ab-4062-be6e-a589bad9d027",
   "metadata": {
    "tags": []
   },
   "outputs": [],
   "source": [
    "training_index = adata_all_train_valid.obs.sample(frac=0.7, random_state=1).index\n",
    "training_dataset = adata_all_train_valid[training_index,].copy()\n"
   ]
  },
  {
   "cell_type": "code",
   "execution_count": 27,
   "id": "0e40d2ba-cc2c-41b8-b796-c3930f7753a5",
   "metadata": {
    "tags": []
   },
   "outputs": [
    {
     "data": {
      "text/plain": [
       "AnnData object with n_obs × n_vars = 12220 × 14664\n",
       "    obs: 'in_tissue', 'array_row', 'array_col', 'imagecol', 'imagerow', 'tile_tissue_mask_path', 'tissue_area', 'tile_path', 'library_id'\n",
       "    var: 'gene_ids-FFPE', 'feature_types-FFPE', 'genome-FFPE', 'gene_ids-block1', 'feature_types-block1', 'genome-block1', 'gene_ids-block2', 'feature_types-block2', 'genome-block2'\n",
       "    uns: 'spatial'\n",
       "    obsm: 'spatial'"
      ]
     },
     "execution_count": 27,
     "metadata": {},
     "output_type": "execute_result"
    }
   ],
   "source": [
    "training_dataset"
   ]
  },
  {
   "cell_type": "code",
   "execution_count": 7,
   "id": "e4e6f0cd-7a7f-4507-86db-961a6ac14ef3",
   "metadata": {
    "tags": []
   },
   "outputs": [],
   "source": [
    "gene_list=[\"COX6C\",\"TTLL12\", \"PABPC1\", \"GNAS\", \"HSP90AB1\", \"TFF3\", \"ATP1A1\", \"B2M\", \"FASN\", \"SPARC\", \"CD74\", \"CD63\", \"CD24\", \"CD81\"]"
   ]
  },
  {
   "cell_type": "code",
   "execution_count": 46,
   "id": "5b2c3d74-65e2-4615-a7b7-00affac3e1ef",
   "metadata": {
    "tags": []
   },
   "outputs": [],
   "source": [
    "test = DataGenerator(adata=training_dataset, genes=gene_list, aug=False)"
   ]
  },
  {
   "cell_type": "code",
   "execution_count": 53,
   "id": "d9dacb26-f815-4d4f-af73-d319bbe47f91",
   "metadata": {
    "tags": []
   },
   "outputs": [
    {
     "data": {
      "text/plain": [
       "(array([6.0063534], dtype=float32),\n",
       " array([1.3862944], dtype=float32),\n",
       " array([3.218876], dtype=float32),\n",
       " array([2.6390574], dtype=float32),\n",
       " array([3.6888795], dtype=float32),\n",
       " array([3.0910425], dtype=float32),\n",
       " array([1.609438], dtype=float32),\n",
       " array([4.8598123], dtype=float32),\n",
       " array([3.3322046], dtype=float32),\n",
       " array([2.3025851], dtype=float32),\n",
       " array([4.1108737], dtype=float32),\n",
       " array([2.8332133], dtype=float32),\n",
       " array([2.5649493], dtype=float32),\n",
       " array([2.4849067], dtype=float32))"
      ]
     },
     "execution_count": 53,
     "metadata": {},
     "output_type": "execute_result"
    }
   ],
   "source": [
    "test._load_label(test.adata.obs_names[0])"
   ]
  },
  {
   "cell_type": "code",
   "execution_count": 54,
   "id": "9c23b462-e474-412b-8fab-c40b45c89e3d",
   "metadata": {
    "tags": []
   },
   "outputs": [
    {
     "data": {
      "text/plain": [
       "'GTATTCTTACCGTGCT-1-block2'"
      ]
     },
     "execution_count": 54,
     "metadata": {},
     "output_type": "execute_result"
    }
   ],
   "source": [
    "test.adata.obs_names[0]"
   ]
  },
  {
   "cell_type": "code",
   "execution_count": 60,
   "id": "02a52991-a36b-4aa2-ac4f-13b64d3509a7",
   "metadata": {
    "tags": []
   },
   "outputs": [
    {
     "data": {
      "text/html": [
       "<div>\n",
       "<style scoped>\n",
       "    .dataframe tbody tr th:only-of-type {\n",
       "        vertical-align: middle;\n",
       "    }\n",
       "\n",
       "    .dataframe tbody tr th {\n",
       "        vertical-align: top;\n",
       "    }\n",
       "\n",
       "    .dataframe thead th {\n",
       "        text-align: right;\n",
       "    }\n",
       "</style>\n",
       "<table border=\"1\" class=\"dataframe\">\n",
       "  <thead>\n",
       "    <tr style=\"text-align: right;\">\n",
       "      <th></th>\n",
       "      <th>in_tissue</th>\n",
       "      <th>array_row</th>\n",
       "      <th>array_col</th>\n",
       "      <th>imagecol</th>\n",
       "      <th>imagerow</th>\n",
       "      <th>tile_tissue_mask_path</th>\n",
       "      <th>tissue_area</th>\n",
       "      <th>tile_path</th>\n",
       "      <th>library_id</th>\n",
       "    </tr>\n",
       "  </thead>\n",
       "  <tbody>\n",
       "    <tr>\n",
       "      <th>GATAAGGGACGATTAG-1-1142243F</th>\n",
       "      <td>1</td>\n",
       "      <td>1</td>\n",
       "      <td>3</td>\n",
       "      <td>12601</td>\n",
       "      <td>4511</td>\n",
       "      <td>/tmp/1142243F_tissue_mask/1142243F-12601-4511-...</td>\n",
       "      <td>0.733437</td>\n",
       "      <td>/clusterdata/uqxtan9/Xiao/breast_cancer_9visiu...</td>\n",
       "      <td>1142243F</td>\n",
       "    </tr>\n",
       "    <tr>\n",
       "      <th>TGTTGGCTGGCGGAAG-1-1142243F</th>\n",
       "      <td>1</td>\n",
       "      <td>1</td>\n",
       "      <td>5</td>\n",
       "      <td>12872</td>\n",
       "      <td>4512</td>\n",
       "      <td>/tmp/1142243F_tissue_mask/1142243F-12872-4512-...</td>\n",
       "      <td>0.878391</td>\n",
       "      <td>/clusterdata/uqxtan9/Xiao/breast_cancer_9visiu...</td>\n",
       "      <td>1142243F</td>\n",
       "    </tr>\n",
       "    <tr>\n",
       "      <th>GCGAGGGACTGCTAGA-1-1142243F</th>\n",
       "      <td>1</td>\n",
       "      <td>1</td>\n",
       "      <td>7</td>\n",
       "      <td>13144</td>\n",
       "      <td>4513</td>\n",
       "      <td>/tmp/1142243F_tissue_mask/1142243F-13144-4513-...</td>\n",
       "      <td>0.884632</td>\n",
       "      <td>/clusterdata/uqxtan9/Xiao/breast_cancer_9visiu...</td>\n",
       "      <td>1142243F</td>\n",
       "    </tr>\n",
       "    <tr>\n",
       "      <th>GCGCGTTTAAATCGTA-1-1142243F</th>\n",
       "      <td>1</td>\n",
       "      <td>1</td>\n",
       "      <td>9</td>\n",
       "      <td>13416</td>\n",
       "      <td>4514</td>\n",
       "      <td>/tmp/1142243F_tissue_mask/1142243F-13416-4514-...</td>\n",
       "      <td>0.813425</td>\n",
       "      <td>/clusterdata/uqxtan9/Xiao/breast_cancer_9visiu...</td>\n",
       "      <td>1142243F</td>\n",
       "    </tr>\n",
       "    <tr>\n",
       "      <th>ATCTATCGATGATCAA-1-1142243F</th>\n",
       "      <td>1</td>\n",
       "      <td>3</td>\n",
       "      <td>3</td>\n",
       "      <td>12599</td>\n",
       "      <td>4984</td>\n",
       "      <td>/tmp/1142243F_tissue_mask/1142243F-12599-4984-...</td>\n",
       "      <td>0.879218</td>\n",
       "      <td>/clusterdata/uqxtan9/Xiao/breast_cancer_9visiu...</td>\n",
       "      <td>1142243F</td>\n",
       "    </tr>\n",
       "    <tr>\n",
       "      <th>...</th>\n",
       "      <td>...</td>\n",
       "      <td>...</td>\n",
       "      <td>...</td>\n",
       "      <td>...</td>\n",
       "      <td>...</td>\n",
       "      <td>...</td>\n",
       "      <td>...</td>\n",
       "      <td>...</td>\n",
       "      <td>...</td>\n",
       "    </tr>\n",
       "    <tr>\n",
       "      <th>TTGTTCAGTGTGCTAC-1-FFPE</th>\n",
       "      <td>1</td>\n",
       "      <td>24</td>\n",
       "      <td>64</td>\n",
       "      <td>14428</td>\n",
       "      <td>9698</td>\n",
       "      <td>/tmp/FFPE_tissue_mask/FFPE-14428-9698-299.jpeg</td>\n",
       "      <td>0.967338</td>\n",
       "      <td>/clusterdata/uqxtan9/Xiao/breast_cancer_9visiu...</td>\n",
       "      <td>FFPE</td>\n",
       "    </tr>\n",
       "    <tr>\n",
       "      <th>TTGTTGTGTGTCAAGA-1-FFPE</th>\n",
       "      <td>1</td>\n",
       "      <td>31</td>\n",
       "      <td>77</td>\n",
       "      <td>16312</td>\n",
       "      <td>11467</td>\n",
       "      <td>/tmp/FFPE_tissue_mask/FFPE-16312-11467-299.jpeg</td>\n",
       "      <td>0.975951</td>\n",
       "      <td>/clusterdata/uqxtan9/Xiao/breast_cancer_9visiu...</td>\n",
       "      <td>FFPE</td>\n",
       "    </tr>\n",
       "    <tr>\n",
       "      <th>TTGTTTCACATCCAGG-1-FFPE</th>\n",
       "      <td>1</td>\n",
       "      <td>58</td>\n",
       "      <td>42</td>\n",
       "      <td>11229</td>\n",
       "      <td>18277</td>\n",
       "      <td>/tmp/FFPE_tissue_mask/FFPE-11229-18277-299.jpeg</td>\n",
       "      <td>0.766479</td>\n",
       "      <td>/clusterdata/uqxtan9/Xiao/breast_cancer_9visiu...</td>\n",
       "      <td>FFPE</td>\n",
       "    </tr>\n",
       "    <tr>\n",
       "      <th>TTGTTTCATTAGTCTA-1-FFPE</th>\n",
       "      <td>1</td>\n",
       "      <td>60</td>\n",
       "      <td>30</td>\n",
       "      <td>9488</td>\n",
       "      <td>18780</td>\n",
       "      <td>/tmp/FFPE_tissue_mask/FFPE-9488-18780-299.jpeg</td>\n",
       "      <td>0.973043</td>\n",
       "      <td>/clusterdata/uqxtan9/Xiao/breast_cancer_9visiu...</td>\n",
       "      <td>FFPE</td>\n",
       "    </tr>\n",
       "    <tr>\n",
       "      <th>TTGTTTCCATACAACT-1-FFPE</th>\n",
       "      <td>1</td>\n",
       "      <td>45</td>\n",
       "      <td>27</td>\n",
       "      <td>9056</td>\n",
       "      <td>14994</td>\n",
       "      <td>/tmp/FFPE_tissue_mask/FFPE-9056-14994-299.jpeg</td>\n",
       "      <td>0.833111</td>\n",
       "      <td>/clusterdata/uqxtan9/Xiao/breast_cancer_9visiu...</td>\n",
       "      <td>FFPE</td>\n",
       "    </tr>\n",
       "  </tbody>\n",
       "</table>\n",
       "<p>24578 rows × 9 columns</p>\n",
       "</div>"
      ],
      "text/plain": [
       "                             in_tissue  array_row  array_col  imagecol  \\\n",
       "GATAAGGGACGATTAG-1-1142243F          1          1          3     12601   \n",
       "TGTTGGCTGGCGGAAG-1-1142243F          1          1          5     12872   \n",
       "GCGAGGGACTGCTAGA-1-1142243F          1          1          7     13144   \n",
       "GCGCGTTTAAATCGTA-1-1142243F          1          1          9     13416   \n",
       "ATCTATCGATGATCAA-1-1142243F          1          3          3     12599   \n",
       "...                                ...        ...        ...       ...   \n",
       "TTGTTCAGTGTGCTAC-1-FFPE              1         24         64     14428   \n",
       "TTGTTGTGTGTCAAGA-1-FFPE              1         31         77     16312   \n",
       "TTGTTTCACATCCAGG-1-FFPE              1         58         42     11229   \n",
       "TTGTTTCATTAGTCTA-1-FFPE              1         60         30      9488   \n",
       "TTGTTTCCATACAACT-1-FFPE              1         45         27      9056   \n",
       "\n",
       "                             imagerow  \\\n",
       "GATAAGGGACGATTAG-1-1142243F      4511   \n",
       "TGTTGGCTGGCGGAAG-1-1142243F      4512   \n",
       "GCGAGGGACTGCTAGA-1-1142243F      4513   \n",
       "GCGCGTTTAAATCGTA-1-1142243F      4514   \n",
       "ATCTATCGATGATCAA-1-1142243F      4984   \n",
       "...                               ...   \n",
       "TTGTTCAGTGTGCTAC-1-FFPE          9698   \n",
       "TTGTTGTGTGTCAAGA-1-FFPE         11467   \n",
       "TTGTTTCACATCCAGG-1-FFPE         18277   \n",
       "TTGTTTCATTAGTCTA-1-FFPE         18780   \n",
       "TTGTTTCCATACAACT-1-FFPE         14994   \n",
       "\n",
       "                                                         tile_tissue_mask_path  \\\n",
       "GATAAGGGACGATTAG-1-1142243F  /tmp/1142243F_tissue_mask/1142243F-12601-4511-...   \n",
       "TGTTGGCTGGCGGAAG-1-1142243F  /tmp/1142243F_tissue_mask/1142243F-12872-4512-...   \n",
       "GCGAGGGACTGCTAGA-1-1142243F  /tmp/1142243F_tissue_mask/1142243F-13144-4513-...   \n",
       "GCGCGTTTAAATCGTA-1-1142243F  /tmp/1142243F_tissue_mask/1142243F-13416-4514-...   \n",
       "ATCTATCGATGATCAA-1-1142243F  /tmp/1142243F_tissue_mask/1142243F-12599-4984-...   \n",
       "...                                                                        ...   \n",
       "TTGTTCAGTGTGCTAC-1-FFPE         /tmp/FFPE_tissue_mask/FFPE-14428-9698-299.jpeg   \n",
       "TTGTTGTGTGTCAAGA-1-FFPE        /tmp/FFPE_tissue_mask/FFPE-16312-11467-299.jpeg   \n",
       "TTGTTTCACATCCAGG-1-FFPE        /tmp/FFPE_tissue_mask/FFPE-11229-18277-299.jpeg   \n",
       "TTGTTTCATTAGTCTA-1-FFPE         /tmp/FFPE_tissue_mask/FFPE-9488-18780-299.jpeg   \n",
       "TTGTTTCCATACAACT-1-FFPE         /tmp/FFPE_tissue_mask/FFPE-9056-14994-299.jpeg   \n",
       "\n",
       "                             tissue_area  \\\n",
       "GATAAGGGACGATTAG-1-1142243F     0.733437   \n",
       "TGTTGGCTGGCGGAAG-1-1142243F     0.878391   \n",
       "GCGAGGGACTGCTAGA-1-1142243F     0.884632   \n",
       "GCGCGTTTAAATCGTA-1-1142243F     0.813425   \n",
       "ATCTATCGATGATCAA-1-1142243F     0.879218   \n",
       "...                                  ...   \n",
       "TTGTTCAGTGTGCTAC-1-FFPE         0.967338   \n",
       "TTGTTGTGTGTCAAGA-1-FFPE         0.975951   \n",
       "TTGTTTCACATCCAGG-1-FFPE         0.766479   \n",
       "TTGTTTCATTAGTCTA-1-FFPE         0.973043   \n",
       "TTGTTTCCATACAACT-1-FFPE         0.833111   \n",
       "\n",
       "                                                                     tile_path  \\\n",
       "GATAAGGGACGATTAG-1-1142243F  /clusterdata/uqxtan9/Xiao/breast_cancer_9visiu...   \n",
       "TGTTGGCTGGCGGAAG-1-1142243F  /clusterdata/uqxtan9/Xiao/breast_cancer_9visiu...   \n",
       "GCGAGGGACTGCTAGA-1-1142243F  /clusterdata/uqxtan9/Xiao/breast_cancer_9visiu...   \n",
       "GCGCGTTTAAATCGTA-1-1142243F  /clusterdata/uqxtan9/Xiao/breast_cancer_9visiu...   \n",
       "ATCTATCGATGATCAA-1-1142243F  /clusterdata/uqxtan9/Xiao/breast_cancer_9visiu...   \n",
       "...                                                                        ...   \n",
       "TTGTTCAGTGTGCTAC-1-FFPE      /clusterdata/uqxtan9/Xiao/breast_cancer_9visiu...   \n",
       "TTGTTGTGTGTCAAGA-1-FFPE      /clusterdata/uqxtan9/Xiao/breast_cancer_9visiu...   \n",
       "TTGTTTCACATCCAGG-1-FFPE      /clusterdata/uqxtan9/Xiao/breast_cancer_9visiu...   \n",
       "TTGTTTCATTAGTCTA-1-FFPE      /clusterdata/uqxtan9/Xiao/breast_cancer_9visiu...   \n",
       "TTGTTTCCATACAACT-1-FFPE      /clusterdata/uqxtan9/Xiao/breast_cancer_9visiu...   \n",
       "\n",
       "                            library_id  \n",
       "GATAAGGGACGATTAG-1-1142243F   1142243F  \n",
       "TGTTGGCTGGCGGAAG-1-1142243F   1142243F  \n",
       "GCGAGGGACTGCTAGA-1-1142243F   1142243F  \n",
       "GCGCGTTTAAATCGTA-1-1142243F   1142243F  \n",
       "ATCTATCGATGATCAA-1-1142243F   1142243F  \n",
       "...                                ...  \n",
       "TTGTTCAGTGTGCTAC-1-FFPE           FFPE  \n",
       "TTGTTGTGTGTCAAGA-1-FFPE           FFPE  \n",
       "TTGTTTCACATCCAGG-1-FFPE           FFPE  \n",
       "TTGTTTCATTAGTCTA-1-FFPE           FFPE  \n",
       "TTGTTTCCATACAACT-1-FFPE           FFPE  \n",
       "\n",
       "[24578 rows x 9 columns]"
      ]
     },
     "execution_count": 60,
     "metadata": {},
     "output_type": "execute_result"
    }
   ],
   "source": [
    "adata_all.obs"
   ]
  },
  {
   "cell_type": "code",
   "execution_count": 73,
   "id": "682e8006-64ad-48eb-8553-2445225f8f52",
   "metadata": {
    "tags": []
   },
   "outputs": [
    {
     "name": "stdout",
     "output_type": "stream",
     "text": [
      "4704\n"
     ]
    },
    {
     "data": {
      "text/plain": [
       "matrix([[2.0794415, 0.       , 2.5649493, ..., 1.3862944, 2.4849067,\n",
       "         0.6931472],\n",
       "        [2.4849067, 0.       , 2.3025851, ..., 1.7917595, 1.0986123,\n",
       "         1.609438 ],\n",
       "        [2.7080503, 1.0986123, 2.944439 , ..., 1.7917595, 2.1972246,\n",
       "         1.3862944],\n",
       "        ...,\n",
       "        [2.3025851, 0.       , 2.944439 , ..., 1.609438 , 1.609438 ,\n",
       "         2.3978953],\n",
       "        [2.6390574, 0.6931472, 2.5649493, ..., 1.7917595, 2.3025851,\n",
       "         2.3978953],\n",
       "        [2.3025851, 0.       , 3.218876 , ..., 2.7080503, 1.9459102,\n",
       "         2.0794415]], dtype=float32)"
      ]
     },
     "execution_count": 73,
     "metadata": {},
     "output_type": "execute_result"
    }
   ],
   "source": [
    "idxs = adata_all.obs.loc[adata_all.obs['library_id'] == '1142243F'].index\n",
    "print(len(idxs))\n",
    "adata_all[idxs, gene_list].X.todense()"
   ]
  },
  {
   "cell_type": "code",
   "execution_count": 83,
   "id": "b6ae7652-c6ed-4cf9-9967-442b6fd57cf7",
   "metadata": {
    "tags": []
   },
   "outputs": [],
   "source": [
    "adata_all.raw"
   ]
  },
  {
   "cell_type": "code",
   "execution_count": 84,
   "id": "b89b33d0-d1b2-4298-8a1f-e8bf6c47f26f",
   "metadata": {
    "tags": []
   },
   "outputs": [
    {
     "data": {
      "text/plain": [
       "NoneType"
      ]
     },
     "execution_count": 84,
     "metadata": {},
     "output_type": "execute_result"
    }
   ],
   "source": [
    "type(adata_all.raw)"
   ]
  },
  {
   "cell_type": "code",
   "execution_count": 3,
   "id": "8dcc99cd-1be6-4d89-af67-f3bcff6d1ad3",
   "metadata": {
    "tags": []
   },
   "outputs": [],
   "source": [
    "import torch\n",
    "\n",
    "class DataGenerator(torch.utils.data.Dataset):\n",
    "    \"\"\"\n",
    "    data generator for multiple branches gene prediction model\n",
    "    \"\"\"\n",
    "\n",
    "    def __init__(self, adata, dim=(299, 299), n_channels=3, genes=None, aug=False, tile_path=\"tile_path\"):\n",
    "        'Initialization'\n",
    "        self.dim = dim\n",
    "        self.adata = adata\n",
    "        self.n_channels = n_channels\n",
    "        self.genes = genes\n",
    "        self.num_genes = len(genes)\n",
    "        self.aug = aug\n",
    "        self.tile_path = tile_path\n",
    "        self.indexes = np.arange(self.adata.n_obs)\n",
    "        \n",
    "    def __len__(self):\n",
    "        'Denotes the number of samples'\n",
    "        return int(self.adata.n_obs)\n",
    "\n",
    "    def __getitem__(self, index):\n",
    "        'Generates one sample of data'\n",
    "        # Find obs name\n",
    "        obs_temp = self.adata.obs_names[index]\n",
    "\n",
    "        # Generate data\n",
    "        X_img, y = self._load_data(obs_temp)\n",
    "\n",
    "        return torch.Tensor(X_img), torch.Tensor(y)\n",
    "\n",
    "    def _load_data(self, obs):\n",
    "        img_path = self.adata.obs.loc[obs, 'tile_path']\n",
    "        X_img = Image.open(img_path).convert('RGB')\n",
    "        X_img = transforms.Resize(self.dim)(X_img)\n",
    "        X_img = np.array(X_img).astype('uint8')\n",
    "        #         X_img = np.expand_dims(X_img, axis=0)\n",
    "        #         n_rotate = np.random.randint(0, 4)\n",
    "        #         X_img = np.rot90(X_img, k=n_rotate, axes=(1, 2))\n",
    "        if self.aug:\n",
    "            X_img = seq_aug(image=X_img)\n",
    "        y = self._load_label(obs)\n",
    "        return X_img, y\n",
    "\n",
    "    def _load_label(self, obs):\n",
    "        batch_adata = self.adata[obs, self.genes].copy()\n",
    "\n",
    "        return tuple([batch_adata.to_df()[i].values for i in self.genes])\n",
    "\n",
    "    def get_classes(self):\n",
    "        return self.adata.to_df().loc[:, self.genes]\n"
   ]
  },
  {
   "cell_type": "code",
   "execution_count": 2,
   "id": "c878041d-d09e-4ac5-9728-182ee9d97972",
   "metadata": {
    "tags": []
   },
   "outputs": [],
   "source": [
    "import os\n",
    "import glob\n",
    "import torch\n",
    "import torchvision\n",
    "import numpy as np\n",
    "import scanpy as sc\n",
    "import pandas as pd \n",
    "import scprep as scp\n",
    "import anndata as ad\n",
    "import seaborn as sns\n",
    "import torch.nn as nn\n",
    "import torch.optim as optim\n",
    "import matplotlib.pyplot as plt\n",
    "import torch.nn.functional as F\n",
    "import torchvision.transforms as transforms\n",
    "from PIL import ImageFile, Image\n",
    "sys.path.append(\"../models/Hist2ST/\")\n",
    "from utils import read_tiff, get_data\n",
    "from graph_construction import calcADJ\n",
    "from collections import defaultdict as dfd\n",
    "ImageFile.LOAD_TRUNCATED_IMAGES = True\n",
    "Image.MAX_IMAGE_PIXELS = None\n"
   ]
  },
  {
   "cell_type": "code",
   "execution_count": 3,
   "id": "67afd9ae-74d3-4958-8b54-42f618cc6ab2",
   "metadata": {
    "tags": []
   },
   "outputs": [],
   "source": [
    "class ViT_SKIN(torch.utils.data.Dataset):\n",
    "    \"\"\"Some Information about ViT_SKIN\"\"\"\n",
    "    def __init__(self,train=True,r=4,norm=False,fold=0,flatten=True,ori=False,adj=False,prune='NA',neighs=4):\n",
    "        super(ViT_SKIN, self).__init__()\n",
    "\n",
    "        self.dir = '../data/GSE144240_RAW/'\n",
    "        self.r = 224//r\n",
    "\n",
    "        patients = ['P2', 'P5', 'P9', 'P10']\n",
    "        reps = ['rep1', 'rep2', 'rep3']\n",
    "        names = []\n",
    "        for i in patients:\n",
    "            for j in reps:\n",
    "                names.append(i+'_ST_'+j)\n",
    "        gene_list = list(np.load('../models/Hist2ST/data/skin_hvg_cut_1000.npy',allow_pickle=True))\n",
    "\n",
    "        self.ori = ori\n",
    "        self.adj = adj\n",
    "        self.norm = norm\n",
    "        self.train = train\n",
    "        self.flatten = flatten\n",
    "        self.gene_list = gene_list\n",
    "        samples = names\n",
    "        te_names = [samples[fold]]\n",
    "        tr_names = list(set(samples)-set(te_names))\n",
    "\n",
    "        if train:\n",
    "            self.names = tr_names\n",
    "        else:\n",
    "            self.names = te_names\n",
    "\n",
    "        print(te_names)\n",
    "        print('Loading imgs...')\n",
    "        self.img_dict = {i:torch.Tensor(np.array(self.get_img(i))) for i in self.names}\n",
    "        print('Loading metadata...')\n",
    "        self.meta_dict = {i:self.get_meta(i) for i in self.names}\n",
    "\n",
    "        self.gene_set = list(gene_list)\n",
    "        if self.norm:\n",
    "            self.exp_dict = {\n",
    "                i:sc.pp.scale(scp.transform.log(scp.normalize.library_size_normalize(m[self.gene_set].values)))\n",
    "                for i,m in self.meta_dict.items()\n",
    "            }\n",
    "        else:\n",
    "            self.exp_dict = {\n",
    "                i:scp.transform.log(scp.normalize.library_size_normalize(m[self.gene_set].values)) \n",
    "                for i,m in self.meta_dict.items()\n",
    "            }\n",
    "        if self.ori:\n",
    "            self.ori_dict = {i:m[self.gene_set].values for i,m in self.meta_dict.items()}\n",
    "            self.counts_dict={}\n",
    "            for i,m in self.ori_dict.items():\n",
    "                n_counts=m.sum(1)\n",
    "                sf = n_counts / np.median(n_counts)\n",
    "                self.counts_dict[i]=sf\n",
    "        self.center_dict = {\n",
    "            i:np.floor(m[['pixel_x','pixel_y']].values).astype(int)\n",
    "            for i,m in self.meta_dict.items()\n",
    "        }\n",
    "        self.loc_dict = {i:m[['x','y']].values for i,m in self.meta_dict.items()}\n",
    "        self.adj_dict = {\n",
    "            i:calcADJ(m,neighs,pruneTag=prune)\n",
    "            for i,m in self.loc_dict.items()\n",
    "        }\n",
    "        self.patch_dict=dfd(lambda :None)\n",
    "        self.lengths = [len(i) for i in self.meta_dict.values()]\n",
    "        self.cumlen = np.cumsum(self.lengths)\n",
    "        self.id2name = dict(enumerate(self.names))\n",
    "\n",
    "\n",
    "    def filter_helper(self):\n",
    "        a = np.zeros(len(self.gene_list))\n",
    "        n = 0\n",
    "        for i,exp in self.exp_dict.items():\n",
    "            n += exp.shape[0]\n",
    "            exp[exp>0] = 1\n",
    "            for j in range((len(self.gene_list))):\n",
    "                a[j] += np.sum(exp[:,j])\n",
    "\n",
    "\n",
    "    def __getitem__(self, index):\n",
    "        print(\"Index: \", index)\n",
    "        ID=self.id2name[index]\n",
    "        im = self.img_dict[ID].permute(1,0,2)\n",
    "\n",
    "        exps = self.exp_dict[ID]\n",
    "        if self.ori:\n",
    "            oris = self.ori_dict[ID]\n",
    "            sfs = self.counts_dict[ID]\n",
    "        adj=self.adj_dict[ID]\n",
    "        centers = self.center_dict[ID]\n",
    "        loc = self.loc_dict[ID]\n",
    "        patches = self.patch_dict[ID]\n",
    "        positions = torch.LongTensor(loc)\n",
    "        patch_dim = 3 * self.r * self.r * 4\n",
    "        exps = torch.Tensor(exps)\n",
    "        if patches is None:\n",
    "            n_patches = len(centers)\n",
    "            if self.flatten:\n",
    "                patches = torch.zeros((n_patches,patch_dim))\n",
    "            else:\n",
    "                patches = torch.zeros((n_patches,3,2*self.r,2*self.r))\n",
    "\n",
    "            for i in range(n_patches):\n",
    "                center = centers[i]\n",
    "                x, y = center\n",
    "                patch = im[(x-self.r):(x+self.r),(y-self.r):(y+self.r),:]\n",
    "                if self.flatten:\n",
    "                    patches[i] = patch.flatten()\n",
    "                else:\n",
    "                    patches[i]=patch.permute(2,0,1)\n",
    "            self.patch_dict[ID]=patches\n",
    "        data=[patches, positions, exps]\n",
    "        if self.adj:\n",
    "            data.append(adj)\n",
    "        if self.ori:\n",
    "            data+=[torch.Tensor(oris),torch.Tensor(sfs)]\n",
    "        data.append(torch.Tensor(centers))\n",
    "        return data\n",
    "        \n",
    "    def __len__(self):\n",
    "        return len(self.exp_dict)\n",
    "\n",
    "    def get_img(self,name):\n",
    "        path = glob.glob(self.dir+'*'+name+'.jpg')[0]\n",
    "        im = Image.open(path)\n",
    "        return im\n",
    "\n",
    "    def get_cnt(self,name):\n",
    "        path = glob.glob(self.dir+'*'+name+'_stdata.tsv')[0]\n",
    "        df = pd.read_csv(path,sep='\\t',index_col=0)\n",
    "        return df\n",
    "\n",
    "    def get_pos(self,name):\n",
    "        path = glob.glob(self.dir+'*spot*'+name+'.tsv')[0]\n",
    "        df = pd.read_csv(path,sep='\\t')\n",
    "\n",
    "        x = df['x'].values\n",
    "        y = df['y'].values\n",
    "        x = np.around(x).astype(int)\n",
    "        y = np.around(y).astype(int)\n",
    "        id = []\n",
    "        for i in range(len(x)):\n",
    "            id.append(str(x[i])+'x'+str(y[i])) \n",
    "        df['id'] = id\n",
    "\n",
    "        return df\n",
    "\n",
    "    def get_meta(self,name,gene_list=None):\n",
    "        cnt = self.get_cnt(name)\n",
    "        pos = self.get_pos(name)\n",
    "        meta = cnt.join(pos.set_index('id'),how='inner')\n",
    "\n",
    "        return meta\n",
    "\n",
    "    def get_overlap(self,meta_dict,gene_list):\n",
    "        gene_set = set(gene_list)\n",
    "        for i in meta_dict.values():\n",
    "            gene_set = gene_set&set(i.columns)\n",
    "        return list(gene_set)"
   ]
  },
  {
   "cell_type": "code",
   "execution_count": 4,
   "id": "0f670f7f-cf34-4e0a-a1c7-fe02a9b4ce86",
   "metadata": {
    "tags": []
   },
   "outputs": [
    {
     "name": "stdout",
     "output_type": "stream",
     "text": [
      "['P2_ST_rep1']\n",
      "Loading imgs...\n",
      "Loading metadata...\n"
     ]
    }
   ],
   "source": [
    "dataset = ViT_SKIN(\n",
    "            train='train',fold=0,flatten=False,adj=True,ori=True,prune='NA'\n",
    "        )"
   ]
  },
  {
   "cell_type": "code",
   "execution_count": 7,
   "id": "fb9677eb-e730-46a2-98e2-667cfeb8b866",
   "metadata": {
    "tags": []
   },
   "outputs": [
    {
     "data": {
      "text/plain": [
       "{0: 'P10_ST_rep1',\n",
       " 1: 'P5_ST_rep2',\n",
       " 2: 'P10_ST_rep2',\n",
       " 3: 'P9_ST_rep2',\n",
       " 4: 'P10_ST_rep3',\n",
       " 5: 'P2_ST_rep2',\n",
       " 6: 'P9_ST_rep3',\n",
       " 7: 'P9_ST_rep1',\n",
       " 8: 'P5_ST_rep3',\n",
       " 9: 'P5_ST_rep1',\n",
       " 10: 'P2_ST_rep3'}"
      ]
     },
     "execution_count": 7,
     "metadata": {},
     "output_type": "execute_result"
    }
   ],
   "source": [
    "dataset.id2name"
   ]
  },
  {
   "cell_type": "code",
   "execution_count": 5,
   "id": "fe57caad-beb6-4db1-8c7f-e8587091073c",
   "metadata": {
    "tags": []
   },
   "outputs": [
    {
     "ename": "NameError",
     "evalue": "name 'DataLoader' is not defined",
     "output_type": "error",
     "traceback": [
      "\u001b[0;31m---------------------------------------------------------------------------\u001b[0m",
      "\u001b[0;31mNameError\u001b[0m                                 Traceback (most recent call last)",
      "Cell \u001b[0;32mIn[5], line 1\u001b[0m\n\u001b[0;32m----> 1\u001b[0m train_loader \u001b[38;5;241m=\u001b[39m \u001b[43mDataLoader\u001b[49m(dataset, batch_size\u001b[38;5;241m=\u001b[39m\u001b[38;5;241m1\u001b[39m, num_workers\u001b[38;5;241m=\u001b[39m\u001b[38;5;241m0\u001b[39m, shuffle\u001b[38;5;241m=\u001b[39m\u001b[38;5;28;01mTrue\u001b[39;00m)\n\u001b[1;32m      3\u001b[0m iterator\u001b[38;5;241m=\u001b[39m\u001b[38;5;28miter\u001b[39m(train_loader)\n\u001b[1;32m      5\u001b[0m \u001b[38;5;66;03m# [print(iterator._next_index()) for i in range(12)]\u001b[39;00m\n",
      "\u001b[0;31mNameError\u001b[0m: name 'DataLoader' is not defined"
     ]
    }
   ],
   "source": [
    "train_loader = DataLoader(dataset, batch_size=1, num_workers=0, shuffle=True)\n",
    "\n",
    "iterator=iter(train_loader)\n",
    "\n",
    "# [print(iterator._next_index()) for i in range(12)]"
   ]
  },
  {
   "cell_type": "code",
   "execution_count": 6,
   "id": "4843272d-f483-471b-8e83-1386e6a9d241",
   "metadata": {
    "tags": []
   },
   "outputs": [],
   "source": [
    "from torch.utils.data import DataLoader\n",
    "train_loader = DataLoader(dataset, batch_size=1, num_workers=0, shuffle=True)\n",
    "iterator=iter(train_loader)\n",
    "\n",
    "# for i in range(20):\n",
    "#     next(iterator)\n",
    "#     print(dataset.patch_dict.keys())"
   ]
  },
  {
   "cell_type": "code",
   "execution_count": 8,
   "id": "cf9184dd-8f00-4617-93f4-62d9fb953406",
   "metadata": {
    "tags": []
   },
   "outputs": [
    {
     "name": "stdout",
     "output_type": "stream",
     "text": [
      "Index:  7\n"
     ]
    }
   ],
   "source": [
    "test = next(iterator)"
   ]
  },
  {
   "cell_type": "code",
   "execution_count": 9,
   "id": "e8759c35-386c-484b-bf18-d4e62f6d4fbe",
   "metadata": {
    "tags": []
   },
   "outputs": [
    {
     "data": {
      "text/plain": [
       "[torch.Size([1, 521, 3, 112, 112]),\n",
       " torch.Size([1, 521, 2]),\n",
       " torch.Size([1, 521, 171]),\n",
       " torch.Size([1, 521, 521]),\n",
       " torch.Size([1, 521, 171]),\n",
       " torch.Size([1, 521]),\n",
       " torch.Size([1, 521, 2])]"
      ]
     },
     "execution_count": 9,
     "metadata": {},
     "output_type": "execute_result"
    }
   ],
   "source": [
    "[i.shape for i in test]"
   ]
  },
  {
   "cell_type": "code",
   "execution_count": 15,
   "id": "5b7f4d83-2de6-4ed8-801b-4e8264e90491",
   "metadata": {
    "tags": []
   },
   "outputs": [
    {
     "data": {
      "text/plain": [
       "dtype('float64')"
      ]
     },
     "execution_count": 15,
     "metadata": {},
     "output_type": "execute_result"
    }
   ],
   "source": [
    "dataset.counts_dict['P5_ST_rep3'].dtype"
   ]
  },
  {
   "cell_type": "code",
   "execution_count": 18,
   "id": "832771d5-dd5c-4a0c-9d01-c3ebad82f1b2",
   "metadata": {
    "tags": []
   },
   "outputs": [
    {
     "data": {
      "text/plain": [
       "torch.float32"
      ]
     },
     "execution_count": 18,
     "metadata": {},
     "output_type": "execute_result"
    }
   ],
   "source": [
    "dataset.patch_dict['P10_ST_rep3'].dtype"
   ]
  },
  {
   "cell_type": "code",
   "execution_count": 19,
   "id": "c28a8f9a-79f7-402a-838f-8dda62172622",
   "metadata": {
    "tags": []
   },
   "outputs": [
    {
     "data": {
      "text/plain": [
       "torch.float32"
      ]
     },
     "execution_count": 19,
     "metadata": {},
     "output_type": "execute_result"
    }
   ],
   "source": [
    "dataset.img_dict['P10_ST_rep3'].dtype"
   ]
  },
  {
   "cell_type": "code",
   "execution_count": 24,
   "id": "6a4255ce-59a2-44cc-a4c6-0513448f30e4",
   "metadata": {
    "tags": []
   },
   "outputs": [
    {
     "data": {
      "text/plain": [
       "(462, 2)"
      ]
     },
     "execution_count": 24,
     "metadata": {},
     "output_type": "execute_result"
    }
   ],
   "source": [
    "dataset.center_dict['P10_ST_rep3'].shape"
   ]
  },
  {
   "cell_type": "code",
   "execution_count": 18,
   "id": "2378ebf4-aba7-45b6-a3f7-afba12b03a17",
   "metadata": {
    "tags": []
   },
   "outputs": [],
   "source": [
    "# dataset.patch_dict"
   ]
  },
  {
   "cell_type": "code",
   "execution_count": 13,
   "id": "87fd435a-9792-4d54-8991-8fa5dbed8cd6",
   "metadata": {
    "tags": []
   },
   "outputs": [
    {
     "data": {
      "text/plain": [
       "11"
      ]
     },
     "execution_count": 13,
     "metadata": {},
     "output_type": "execute_result"
    }
   ],
   "source": [
    "len(dataset.names)"
   ]
  },
  {
   "cell_type": "code",
   "execution_count": 19,
   "id": "de50ee3c-990f-48f6-8895-bbf2f5a4b85a",
   "metadata": {
    "tags": []
   },
   "outputs": [
    {
     "ename": "StopIteration",
     "evalue": "",
     "output_type": "error",
     "traceback": [
      "\u001b[0;31m---------------------------------------------------------------------------\u001b[0m",
      "\u001b[0;31mStopIteration\u001b[0m                             Traceback (most recent call last)",
      "Cell \u001b[0;32mIn[19], line 1\u001b[0m\n\u001b[0;32m----> 1\u001b[0m \u001b[43miterator\u001b[49m\u001b[38;5;241;43m.\u001b[39;49m\u001b[43m_next_index\u001b[49m\u001b[43m(\u001b[49m\u001b[43m)\u001b[49m\n",
      "File \u001b[0;32m/scratch/imb/uqjxie6/software/stimage5/lib/python3.8/site-packages/torch/utils/data/dataloader.py:618\u001b[0m, in \u001b[0;36m_BaseDataLoaderIter._next_index\u001b[0;34m(self)\u001b[0m\n\u001b[1;32m    617\u001b[0m \u001b[38;5;28;01mdef\u001b[39;00m \u001b[38;5;21m_next_index\u001b[39m(\u001b[38;5;28mself\u001b[39m):\n\u001b[0;32m--> 618\u001b[0m     \u001b[38;5;28;01mreturn\u001b[39;00m \u001b[38;5;28;43mnext\u001b[39;49m\u001b[43m(\u001b[49m\u001b[38;5;28;43mself\u001b[39;49m\u001b[38;5;241;43m.\u001b[39;49m\u001b[43m_sampler_iter\u001b[49m\u001b[43m)\u001b[49m\n",
      "\u001b[0;31mStopIteration\u001b[0m: "
     ]
    }
   ],
   "source": [
    "iterator._next_index()"
   ]
  },
  {
   "cell_type": "code",
   "execution_count": 12,
   "id": "35223a29-2971-44ec-afd8-a097d70371df",
   "metadata": {
    "tags": []
   },
   "outputs": [
    {
     "data": {
      "text/plain": [
       "['P9_ST_rep3',\n",
       " 'P5_ST_rep1',\n",
       " 'P9_ST_rep1',\n",
       " 'P9_ST_rep2',\n",
       " 'P10_ST_rep1',\n",
       " 'P2_ST_rep2',\n",
       " 'P5_ST_rep2',\n",
       " 'P2_ST_rep3',\n",
       " 'P10_ST_rep2',\n",
       " 'P5_ST_rep3',\n",
       " 'P10_ST_rep3']"
      ]
     },
     "execution_count": 12,
     "metadata": {},
     "output_type": "execute_result"
    }
   ],
   "source": [
    "dataset.names"
   ]
  },
  {
   "cell_type": "code",
   "execution_count": null,
   "id": "c378dfaa-28f5-4e2b-a9f2-35afa4e1e841",
   "metadata": {
    "tags": []
   },
   "outputs": [],
   "source": [
    "from torch.utils.data import DataLoader\n",
    "train_loader = DataLoader(dataset, batch_size=1, num_workers=0, shuffle=True)"
   ]
  },
  {
   "cell_type": "code",
   "execution_count": 7,
   "id": "d85e7bd3-489f-4a62-aa81-250d06ccbb2d",
   "metadata": {
    "tags": []
   },
   "outputs": [
    {
     "name": "stdout",
     "output_type": "stream",
     "text": [
      "Index:  4\n"
     ]
    }
   ],
   "source": [
    "iterator=iter(train_loader)\n",
    "test = next(iterator)"
   ]
  },
  {
   "cell_type": "code",
   "execution_count": 21,
   "id": "e54ee5b0-bbe9-492a-91c2-56bee6163056",
   "metadata": {
    "tags": []
   },
   "outputs": [
    {
     "data": {
      "text/plain": [
       "dict_keys(['P10_ST_rep1', 'P9_ST_rep2', 'P9_ST_rep3', 'P5_ST_rep3', 'P2_ST_rep1', 'P9_ST_rep1', 'P10_ST_rep3', 'P5_ST_rep1', 'P5_ST_rep2', 'P10_ST_rep2', 'P2_ST_rep3'])"
      ]
     },
     "execution_count": 21,
     "metadata": {},
     "output_type": "execute_result"
    }
   ],
   "source": [
    "dataset.img_dict.keys()"
   ]
  },
  {
   "cell_type": "code",
   "execution_count": 19,
   "id": "99695e2c-a60d-438e-a050-5ad989ad4c67",
   "metadata": {},
   "outputs": [
    {
     "data": {
      "text/plain": [
       "torch.Size([15872, 15872, 3])"
      ]
     },
     "execution_count": 19,
     "metadata": {},
     "output_type": "execute_result"
    }
   ],
   "source": [
    "dataset.img_dict['P10_ST_rep1'].shape"
   ]
  },
  {
   "cell_type": "code",
   "execution_count": 27,
   "id": "4ca7a345-b265-48e5-9004-87bdc8f4bb86",
   "metadata": {
    "tags": []
   },
   "outputs": [
    {
     "data": {
      "text/plain": [
       "(462, 171)"
      ]
     },
     "execution_count": 27,
     "metadata": {},
     "output_type": "execute_result"
    }
   ],
   "source": [
    "dataset.exp_dict['P10_ST_rep3'].shape\n"
   ]
  },
  {
   "cell_type": "code",
   "execution_count": 49,
   "id": "5b761a86-68a9-49b8-bfd1-84a48344a7c4",
   "metadata": {
    "tags": []
   },
   "outputs": [
    {
     "data": {
      "text/html": [
       "<div>\n",
       "<style scoped>\n",
       "    .dataframe tbody tr th:only-of-type {\n",
       "        vertical-align: middle;\n",
       "    }\n",
       "\n",
       "    .dataframe tbody tr th {\n",
       "        vertical-align: top;\n",
       "    }\n",
       "\n",
       "    .dataframe thead th {\n",
       "        text-align: right;\n",
       "    }\n",
       "</style>\n",
       "<table border=\"1\" class=\"dataframe\">\n",
       "  <thead>\n",
       "    <tr style=\"text-align: right;\">\n",
       "      <th></th>\n",
       "      <th>FO538757.1</th>\n",
       "      <th>RP4-669L17.10</th>\n",
       "      <th>RP11-206L10.9</th>\n",
       "      <th>SAMD11</th>\n",
       "      <th>NOC2L</th>\n",
       "      <th>KLHL17</th>\n",
       "      <th>PLEKHN1</th>\n",
       "      <th>PERM1</th>\n",
       "      <th>HES4</th>\n",
       "      <th>ISG15</th>\n",
       "      <th>...</th>\n",
       "      <th>BPY2C</th>\n",
       "      <th>AC006386.1</th>\n",
       "      <th>AC006328.1</th>\n",
       "      <th>TTTY3</th>\n",
       "      <th>x</th>\n",
       "      <th>y</th>\n",
       "      <th>new_x</th>\n",
       "      <th>new_y</th>\n",
       "      <th>pixel_x</th>\n",
       "      <th>pixel_y</th>\n",
       "    </tr>\n",
       "  </thead>\n",
       "  <tbody>\n",
       "    <tr>\n",
       "      <th>15x19</th>\n",
       "      <td>0.0</td>\n",
       "      <td>0.0</td>\n",
       "      <td>0.0</td>\n",
       "      <td>0.0</td>\n",
       "      <td>0.0</td>\n",
       "      <td>0.0</td>\n",
       "      <td>0.0</td>\n",
       "      <td>0.0</td>\n",
       "      <td>0.0</td>\n",
       "      <td>0.0</td>\n",
       "      <td>...</td>\n",
       "      <td>0.0</td>\n",
       "      <td>0.0</td>\n",
       "      <td>0.0</td>\n",
       "      <td>0.0</td>\n",
       "      <td>15</td>\n",
       "      <td>19</td>\n",
       "      <td>15.07</td>\n",
       "      <td>18.93</td>\n",
       "      <td>4885.3</td>\n",
       "      <td>5725.4</td>\n",
       "    </tr>\n",
       "    <tr>\n",
       "      <th>16x18</th>\n",
       "      <td>0.0</td>\n",
       "      <td>0.0</td>\n",
       "      <td>0.0</td>\n",
       "      <td>0.0</td>\n",
       "      <td>0.0</td>\n",
       "      <td>0.0</td>\n",
       "      <td>0.0</td>\n",
       "      <td>0.0</td>\n",
       "      <td>1.0</td>\n",
       "      <td>0.0</td>\n",
       "      <td>...</td>\n",
       "      <td>0.0</td>\n",
       "      <td>4.0</td>\n",
       "      <td>0.0</td>\n",
       "      <td>0.0</td>\n",
       "      <td>16</td>\n",
       "      <td>18</td>\n",
       "      <td>16.04</td>\n",
       "      <td>17.97</td>\n",
       "      <td>5060.4</td>\n",
       "      <td>5534.0</td>\n",
       "    </tr>\n",
       "    <tr>\n",
       "      <th>16x20</th>\n",
       "      <td>1.0</td>\n",
       "      <td>0.0</td>\n",
       "      <td>0.0</td>\n",
       "      <td>0.0</td>\n",
       "      <td>0.0</td>\n",
       "      <td>0.0</td>\n",
       "      <td>1.0</td>\n",
       "      <td>0.0</td>\n",
       "      <td>0.0</td>\n",
       "      <td>0.0</td>\n",
       "      <td>...</td>\n",
       "      <td>0.0</td>\n",
       "      <td>2.0</td>\n",
       "      <td>0.0</td>\n",
       "      <td>0.0</td>\n",
       "      <td>16</td>\n",
       "      <td>20</td>\n",
       "      <td>16.03</td>\n",
       "      <td>19.95</td>\n",
       "      <td>5057.6</td>\n",
       "      <td>5931.4</td>\n",
       "    </tr>\n",
       "    <tr>\n",
       "      <th>16x22</th>\n",
       "      <td>1.0</td>\n",
       "      <td>0.0</td>\n",
       "      <td>0.0</td>\n",
       "      <td>0.0</td>\n",
       "      <td>0.0</td>\n",
       "      <td>0.0</td>\n",
       "      <td>3.0</td>\n",
       "      <td>0.0</td>\n",
       "      <td>0.0</td>\n",
       "      <td>0.0</td>\n",
       "      <td>...</td>\n",
       "      <td>0.0</td>\n",
       "      <td>0.0</td>\n",
       "      <td>0.0</td>\n",
       "      <td>0.0</td>\n",
       "      <td>16</td>\n",
       "      <td>22</td>\n",
       "      <td>16.00</td>\n",
       "      <td>21.93</td>\n",
       "      <td>5052.5</td>\n",
       "      <td>6328.3</td>\n",
       "    </tr>\n",
       "    <tr>\n",
       "      <th>17x17</th>\n",
       "      <td>0.0</td>\n",
       "      <td>0.0</td>\n",
       "      <td>0.0</td>\n",
       "      <td>0.0</td>\n",
       "      <td>1.0</td>\n",
       "      <td>1.0</td>\n",
       "      <td>0.0</td>\n",
       "      <td>0.0</td>\n",
       "      <td>0.0</td>\n",
       "      <td>0.0</td>\n",
       "      <td>...</td>\n",
       "      <td>0.0</td>\n",
       "      <td>0.0</td>\n",
       "      <td>0.0</td>\n",
       "      <td>0.0</td>\n",
       "      <td>17</td>\n",
       "      <td>17</td>\n",
       "      <td>17.05</td>\n",
       "      <td>16.94</td>\n",
       "      <td>5241.8</td>\n",
       "      <td>5326.6</td>\n",
       "    </tr>\n",
       "    <tr>\n",
       "      <th>...</th>\n",
       "      <td>...</td>\n",
       "      <td>...</td>\n",
       "      <td>...</td>\n",
       "      <td>...</td>\n",
       "      <td>...</td>\n",
       "      <td>...</td>\n",
       "      <td>...</td>\n",
       "      <td>...</td>\n",
       "      <td>...</td>\n",
       "      <td>...</td>\n",
       "      <td>...</td>\n",
       "      <td>...</td>\n",
       "      <td>...</td>\n",
       "      <td>...</td>\n",
       "      <td>...</td>\n",
       "      <td>...</td>\n",
       "      <td>...</td>\n",
       "      <td>...</td>\n",
       "      <td>...</td>\n",
       "      <td>...</td>\n",
       "      <td>...</td>\n",
       "    </tr>\n",
       "    <tr>\n",
       "      <th>54x32</th>\n",
       "      <td>1.0</td>\n",
       "      <td>0.0</td>\n",
       "      <td>0.0</td>\n",
       "      <td>0.0</td>\n",
       "      <td>0.0</td>\n",
       "      <td>0.0</td>\n",
       "      <td>0.0</td>\n",
       "      <td>0.0</td>\n",
       "      <td>1.0</td>\n",
       "      <td>0.0</td>\n",
       "      <td>...</td>\n",
       "      <td>0.0</td>\n",
       "      <td>0.0</td>\n",
       "      <td>0.0</td>\n",
       "      <td>0.0</td>\n",
       "      <td>54</td>\n",
       "      <td>32</td>\n",
       "      <td>53.97</td>\n",
       "      <td>32.09</td>\n",
       "      <td>11904.5</td>\n",
       "      <td>8363.0</td>\n",
       "    </tr>\n",
       "    <tr>\n",
       "      <th>54x34</th>\n",
       "      <td>0.0</td>\n",
       "      <td>0.0</td>\n",
       "      <td>0.0</td>\n",
       "      <td>0.0</td>\n",
       "      <td>0.0</td>\n",
       "      <td>0.0</td>\n",
       "      <td>0.0</td>\n",
       "      <td>0.0</td>\n",
       "      <td>0.0</td>\n",
       "      <td>0.0</td>\n",
       "      <td>...</td>\n",
       "      <td>0.0</td>\n",
       "      <td>1.0</td>\n",
       "      <td>0.0</td>\n",
       "      <td>0.0</td>\n",
       "      <td>54</td>\n",
       "      <td>34</td>\n",
       "      <td>53.99</td>\n",
       "      <td>34.07</td>\n",
       "      <td>11907.9</td>\n",
       "      <td>8761.1</td>\n",
       "    </tr>\n",
       "    <tr>\n",
       "      <th>55x27</th>\n",
       "      <td>0.0</td>\n",
       "      <td>0.0</td>\n",
       "      <td>0.0</td>\n",
       "      <td>0.0</td>\n",
       "      <td>1.0</td>\n",
       "      <td>0.0</td>\n",
       "      <td>0.0</td>\n",
       "      <td>0.0</td>\n",
       "      <td>0.0</td>\n",
       "      <td>0.0</td>\n",
       "      <td>...</td>\n",
       "      <td>0.0</td>\n",
       "      <td>0.0</td>\n",
       "      <td>0.0</td>\n",
       "      <td>0.0</td>\n",
       "      <td>55</td>\n",
       "      <td>27</td>\n",
       "      <td>55.00</td>\n",
       "      <td>27.04</td>\n",
       "      <td>12090.5</td>\n",
       "      <td>7350.8</td>\n",
       "    </tr>\n",
       "    <tr>\n",
       "      <th>55x29</th>\n",
       "      <td>0.0</td>\n",
       "      <td>0.0</td>\n",
       "      <td>0.0</td>\n",
       "      <td>0.0</td>\n",
       "      <td>0.0</td>\n",
       "      <td>0.0</td>\n",
       "      <td>0.0</td>\n",
       "      <td>0.0</td>\n",
       "      <td>0.0</td>\n",
       "      <td>0.0</td>\n",
       "      <td>...</td>\n",
       "      <td>0.0</td>\n",
       "      <td>0.0</td>\n",
       "      <td>0.0</td>\n",
       "      <td>0.0</td>\n",
       "      <td>55</td>\n",
       "      <td>29</td>\n",
       "      <td>54.93</td>\n",
       "      <td>29.09</td>\n",
       "      <td>12078.8</td>\n",
       "      <td>7763.0</td>\n",
       "    </tr>\n",
       "    <tr>\n",
       "      <th>55x31</th>\n",
       "      <td>0.0</td>\n",
       "      <td>0.0</td>\n",
       "      <td>0.0</td>\n",
       "      <td>0.0</td>\n",
       "      <td>0.0</td>\n",
       "      <td>0.0</td>\n",
       "      <td>0.0</td>\n",
       "      <td>0.0</td>\n",
       "      <td>0.0</td>\n",
       "      <td>0.0</td>\n",
       "      <td>...</td>\n",
       "      <td>0.0</td>\n",
       "      <td>0.0</td>\n",
       "      <td>0.0</td>\n",
       "      <td>0.0</td>\n",
       "      <td>55</td>\n",
       "      <td>31</td>\n",
       "      <td>54.96</td>\n",
       "      <td>31.09</td>\n",
       "      <td>12083.9</td>\n",
       "      <td>8162.5</td>\n",
       "    </tr>\n",
       "  </tbody>\n",
       "</table>\n",
       "<p>462 rows × 17053 columns</p>\n",
       "</div>"
      ],
      "text/plain": [
       "       FO538757.1  RP4-669L17.10  RP11-206L10.9  SAMD11  NOC2L  KLHL17  \\\n",
       "15x19         0.0            0.0            0.0     0.0    0.0     0.0   \n",
       "16x18         0.0            0.0            0.0     0.0    0.0     0.0   \n",
       "16x20         1.0            0.0            0.0     0.0    0.0     0.0   \n",
       "16x22         1.0            0.0            0.0     0.0    0.0     0.0   \n",
       "17x17         0.0            0.0            0.0     0.0    1.0     1.0   \n",
       "...           ...            ...            ...     ...    ...     ...   \n",
       "54x32         1.0            0.0            0.0     0.0    0.0     0.0   \n",
       "54x34         0.0            0.0            0.0     0.0    0.0     0.0   \n",
       "55x27         0.0            0.0            0.0     0.0    1.0     0.0   \n",
       "55x29         0.0            0.0            0.0     0.0    0.0     0.0   \n",
       "55x31         0.0            0.0            0.0     0.0    0.0     0.0   \n",
       "\n",
       "       PLEKHN1  PERM1  HES4  ISG15  ...  BPY2C  AC006386.1  AC006328.1  TTTY3  \\\n",
       "15x19      0.0    0.0   0.0    0.0  ...    0.0         0.0         0.0    0.0   \n",
       "16x18      0.0    0.0   1.0    0.0  ...    0.0         4.0         0.0    0.0   \n",
       "16x20      1.0    0.0   0.0    0.0  ...    0.0         2.0         0.0    0.0   \n",
       "16x22      3.0    0.0   0.0    0.0  ...    0.0         0.0         0.0    0.0   \n",
       "17x17      0.0    0.0   0.0    0.0  ...    0.0         0.0         0.0    0.0   \n",
       "...        ...    ...   ...    ...  ...    ...         ...         ...    ...   \n",
       "54x32      0.0    0.0   1.0    0.0  ...    0.0         0.0         0.0    0.0   \n",
       "54x34      0.0    0.0   0.0    0.0  ...    0.0         1.0         0.0    0.0   \n",
       "55x27      0.0    0.0   0.0    0.0  ...    0.0         0.0         0.0    0.0   \n",
       "55x29      0.0    0.0   0.0    0.0  ...    0.0         0.0         0.0    0.0   \n",
       "55x31      0.0    0.0   0.0    0.0  ...    0.0         0.0         0.0    0.0   \n",
       "\n",
       "        x   y  new_x  new_y  pixel_x  pixel_y  \n",
       "15x19  15  19  15.07  18.93   4885.3   5725.4  \n",
       "16x18  16  18  16.04  17.97   5060.4   5534.0  \n",
       "16x20  16  20  16.03  19.95   5057.6   5931.4  \n",
       "16x22  16  22  16.00  21.93   5052.5   6328.3  \n",
       "17x17  17  17  17.05  16.94   5241.8   5326.6  \n",
       "...    ..  ..    ...    ...      ...      ...  \n",
       "54x32  54  32  53.97  32.09  11904.5   8363.0  \n",
       "54x34  54  34  53.99  34.07  11907.9   8761.1  \n",
       "55x27  55  27  55.00  27.04  12090.5   7350.8  \n",
       "55x29  55  29  54.93  29.09  12078.8   7763.0  \n",
       "55x31  55  31  54.96  31.09  12083.9   8162.5  \n",
       "\n",
       "[462 rows x 17053 columns]"
      ]
     },
     "execution_count": 49,
     "metadata": {},
     "output_type": "execute_result"
    }
   ],
   "source": [
    "dataset.meta_dict['P10_ST_rep3']\n",
    "# dataset.meta_dict['P10_ST_rep3'].loc['15x19']\n"
   ]
  },
  {
   "cell_type": "code",
   "execution_count": 54,
   "id": "9e8b3ab8-a253-415b-bd47-f844e07487a4",
   "metadata": {
    "tags": []
   },
   "outputs": [
    {
     "data": {
      "text/plain": [
       "37632"
      ]
     },
     "execution_count": 54,
     "metadata": {},
     "output_type": "execute_result"
    }
   ],
   "source": [
    "# dataset.loc_dict['P10_ST_rep3']\n",
    "3 * dataset.r * dataset.r * 4"
   ]
  },
  {
   "cell_type": "code",
   "execution_count": 58,
   "id": "5a856afb-f0ff-4e54-ac22-b52185318479",
   "metadata": {
    "tags": []
   },
   "outputs": [
    {
     "data": {
      "text/plain": [
       "collections.defaultdict"
      ]
     },
     "execution_count": 58,
     "metadata": {},
     "output_type": "execute_result"
    }
   ],
   "source": [
    "dfd"
   ]
  },
  {
   "cell_type": "code",
   "execution_count": 67,
   "id": "45ae1f73-e8aa-488c-900e-9ea50befcb74",
   "metadata": {
    "tags": []
   },
   "outputs": [
    {
     "data": {
      "text/plain": [
       "torch.Size([638, 3, 112, 112])"
      ]
     },
     "execution_count": 67,
     "metadata": {},
     "output_type": "execute_result"
    }
   ],
   "source": [
    "dataset.patch_dict['P2_ST_rep3'].shape"
   ]
  },
  {
   "cell_type": "code",
   "execution_count": 81,
   "id": "31bf41d8-cc88-44a6-b0d5-76b3fe689a51",
   "metadata": {
    "tags": []
   },
   "outputs": [
    {
     "data": {
      "text/plain": [
       "array([[10, 24],\n",
       "       [10, 26],\n",
       "       [10, 28],\n",
       "       ...,\n",
       "       [ 9, 39],\n",
       "       [ 9, 41],\n",
       "       [ 9, 43]])"
      ]
     },
     "execution_count": 81,
     "metadata": {},
     "output_type": "execute_result"
    }
   ],
   "source": [
    "dataset.loc_dict['P2_ST_rep3']"
   ]
  },
  {
   "cell_type": "code",
   "execution_count": 34,
   "id": "1bef44fe-1861-4815-91ec-7d73ad147e94",
   "metadata": {
    "tags": []
   },
   "outputs": [
    {
     "data": {
      "text/plain": [
       "tensor(2552)"
      ]
     },
     "execution_count": 34,
     "metadata": {},
     "output_type": "execute_result"
    }
   ],
   "source": [
    "dataset.adj_dict['P2_ST_rep3'].count_nonzero()"
   ]
  },
  {
   "cell_type": "code",
   "execution_count": 39,
   "id": "c925d29f-433d-4473-b6f1-dc6861d70d42",
   "metadata": {
    "tags": []
   },
   "outputs": [
    {
     "data": {
      "text/plain": [
       "tensor(4.)"
      ]
     },
     "execution_count": 39,
     "metadata": {},
     "output_type": "execute_result"
    }
   ],
   "source": [
    "dataset.adj_dict['P2_ST_rep3'].count_nonzero() / (dataset.adj_dict['P2_ST_rep3'].shape[0]) "
   ]
  },
  {
   "cell_type": "code",
   "execution_count": 26,
   "id": "054c1dd8-c770-44dc-b356-9e3969cd2829",
   "metadata": {
    "tags": []
   },
   "outputs": [
    {
     "data": {
      "text/plain": [
       "(638, 171)"
      ]
     },
     "execution_count": 26,
     "metadata": {},
     "output_type": "execute_result"
    }
   ],
   "source": [
    "dataset.exp_dict['P2_ST_rep3'].shape"
   ]
  },
  {
   "cell_type": "code",
   "execution_count": 73,
   "id": "5d206508-8610-4a21-ad0f-40f041f26d26",
   "metadata": {},
   "outputs": [
    {
     "data": {
      "text/plain": [
       "7"
      ]
     },
     "execution_count": 73,
     "metadata": {},
     "output_type": "execute_result"
    }
   ],
   "source": [
    "len(test)"
   ]
  },
  {
   "cell_type": "code",
   "execution_count": 46,
   "id": "34b78aef-f295-42e8-91a4-ee19f880bcb1",
   "metadata": {
    "tags": []
   },
   "outputs": [
    {
     "data": {
      "text/plain": [
       "torch.Size([1, 521, 2])"
      ]
     },
     "execution_count": 46,
     "metadata": {},
     "output_type": "execute_result"
    }
   ],
   "source": [
    "test[1].shape"
   ]
  },
  {
   "cell_type": "code",
   "execution_count": 43,
   "id": "f2b45c1f-4508-4b5a-8ae7-07647cbf7cdc",
   "metadata": {
    "tags": []
   },
   "outputs": [
    {
     "data": {
      "text/plain": [
       "tensor([[10, 24],\n",
       "        [10, 26],\n",
       "        [10, 28],\n",
       "        ...,\n",
       "        [ 9, 39],\n",
       "        [ 9, 41],\n",
       "        [ 9, 43]])"
      ]
     },
     "execution_count": 43,
     "metadata": {},
     "output_type": "execute_result"
    }
   ],
   "source": [
    "torch.LongTensor(dataset.loc_dict['P2_ST_rep3'])"
   ]
  },
  {
   "cell_type": "code",
   "execution_count": 48,
   "id": "a0ee0eac-5f11-41a7-8012-3dd1c564bbb9",
   "metadata": {
    "tags": []
   },
   "outputs": [
    {
     "name": "stdout",
     "output_type": "stream",
     "text": [
      "(521, 171)\n",
      "(1145, 171)\n",
      "(638, 171)\n",
      "(1071, 171)\n",
      "(462, 171)\n",
      "(590, 171)\n",
      "(1182, 171)\n",
      "(521, 171)\n",
      "(621, 171)\n",
      "(608, 171)\n",
      "(646, 171)\n"
     ]
    }
   ],
   "source": [
    "for i,m in dataset.exp_dict.items():\n",
    "    print(m.shape)"
   ]
  },
  {
   "cell_type": "code",
   "execution_count": 47,
   "id": "da5520b4-0190-424e-b16d-6cd58ca16385",
   "metadata": {
    "tags": []
   },
   "outputs": [
    {
     "name": "stdout",
     "output_type": "stream",
     "text": [
      "0\n",
      "Index:  1\n",
      "[torch.Size([1, 521, 3, 112, 112]), torch.Size([1, 521, 2]), torch.Size([1, 521, 171]), torch.Size([1, 521, 521]), torch.Size([1, 521, 171]), torch.Size([1, 521]), torch.Size([1, 521, 2])]\n",
      "1\n",
      "Index:  2\n",
      "[torch.Size([1, 521, 3, 112, 112]), torch.Size([1, 521, 2]), torch.Size([1, 521, 171]), torch.Size([1, 521, 521]), torch.Size([1, 521, 171]), torch.Size([1, 521]), torch.Size([1, 521, 2])]\n",
      "2\n",
      "Index:  10\n",
      "[torch.Size([1, 521, 3, 112, 112]), torch.Size([1, 521, 2]), torch.Size([1, 521, 171]), torch.Size([1, 521, 521]), torch.Size([1, 521, 171]), torch.Size([1, 521]), torch.Size([1, 521, 2])]\n",
      "3\n",
      "Index:  9\n",
      "[torch.Size([1, 521, 3, 112, 112]), torch.Size([1, 521, 2]), torch.Size([1, 521, 171]), torch.Size([1, 521, 521]), torch.Size([1, 521, 171]), torch.Size([1, 521]), torch.Size([1, 521, 2])]\n",
      "4\n",
      "Index:  6\n",
      "[torch.Size([1, 521, 3, 112, 112]), torch.Size([1, 521, 2]), torch.Size([1, 521, 171]), torch.Size([1, 521, 521]), torch.Size([1, 521, 171]), torch.Size([1, 521]), torch.Size([1, 521, 2])]\n",
      "5\n",
      "Index:  8\n",
      "[torch.Size([1, 521, 3, 112, 112]), torch.Size([1, 521, 2]), torch.Size([1, 521, 171]), torch.Size([1, 521, 521]), torch.Size([1, 521, 171]), torch.Size([1, 521]), torch.Size([1, 521, 2])]\n",
      "6\n",
      "Index:  5\n",
      "[torch.Size([1, 521, 3, 112, 112]), torch.Size([1, 521, 2]), torch.Size([1, 521, 171]), torch.Size([1, 521, 521]), torch.Size([1, 521, 171]), torch.Size([1, 521]), torch.Size([1, 521, 2])]\n",
      "7\n",
      "Index:  3\n",
      "[torch.Size([1, 521, 3, 112, 112]), torch.Size([1, 521, 2]), torch.Size([1, 521, 171]), torch.Size([1, 521, 521]), torch.Size([1, 521, 171]), torch.Size([1, 521]), torch.Size([1, 521, 2])]\n",
      "8\n",
      "Index:  0\n",
      "[torch.Size([1, 521, 3, 112, 112]), torch.Size([1, 521, 2]), torch.Size([1, 521, 171]), torch.Size([1, 521, 521]), torch.Size([1, 521, 171]), torch.Size([1, 521]), torch.Size([1, 521, 2])]\n",
      "9\n"
     ]
    },
    {
     "ename": "StopIteration",
     "evalue": "",
     "output_type": "error",
     "traceback": [
      "\u001b[0;31m---------------------------------------------------------------------------\u001b[0m",
      "\u001b[0;31mStopIteration\u001b[0m                             Traceback (most recent call last)",
      "Cell \u001b[0;32mIn[47], line 3\u001b[0m\n\u001b[1;32m      1\u001b[0m \u001b[38;5;28;01mfor\u001b[39;00m i \u001b[38;5;129;01min\u001b[39;00m \u001b[38;5;28mrange\u001b[39m(\u001b[38;5;241m10\u001b[39m):\n\u001b[1;32m      2\u001b[0m     \u001b[38;5;28mprint\u001b[39m(i)\n\u001b[0;32m----> 3\u001b[0m     \u001b[38;5;28;43mnext\u001b[39;49m\u001b[43m(\u001b[49m\u001b[43miterator\u001b[49m\u001b[43m)\u001b[49m\n\u001b[1;32m      4\u001b[0m     \u001b[38;5;28mprint\u001b[39m([i\u001b[38;5;241m.\u001b[39mshape \u001b[38;5;28;01mfor\u001b[39;00m i \u001b[38;5;129;01min\u001b[39;00m test])\n",
      "File \u001b[0;32m/scratch/imb/uqjxie6/software/stimage5/lib/python3.8/site-packages/torch/utils/data/dataloader.py:628\u001b[0m, in \u001b[0;36m_BaseDataLoaderIter.__next__\u001b[0;34m(self)\u001b[0m\n\u001b[1;32m    625\u001b[0m \u001b[38;5;28;01mif\u001b[39;00m \u001b[38;5;28mself\u001b[39m\u001b[38;5;241m.\u001b[39m_sampler_iter \u001b[38;5;129;01mis\u001b[39;00m \u001b[38;5;28;01mNone\u001b[39;00m:\n\u001b[1;32m    626\u001b[0m     \u001b[38;5;66;03m# TODO(https://github.com/pytorch/pytorch/issues/76750)\u001b[39;00m\n\u001b[1;32m    627\u001b[0m     \u001b[38;5;28mself\u001b[39m\u001b[38;5;241m.\u001b[39m_reset()  \u001b[38;5;66;03m# type: ignore[call-arg]\u001b[39;00m\n\u001b[0;32m--> 628\u001b[0m data \u001b[38;5;241m=\u001b[39m \u001b[38;5;28;43mself\u001b[39;49m\u001b[38;5;241;43m.\u001b[39;49m\u001b[43m_next_data\u001b[49m\u001b[43m(\u001b[49m\u001b[43m)\u001b[49m\n\u001b[1;32m    629\u001b[0m \u001b[38;5;28mself\u001b[39m\u001b[38;5;241m.\u001b[39m_num_yielded \u001b[38;5;241m+\u001b[39m\u001b[38;5;241m=\u001b[39m \u001b[38;5;241m1\u001b[39m\n\u001b[1;32m    630\u001b[0m \u001b[38;5;28;01mif\u001b[39;00m \u001b[38;5;28mself\u001b[39m\u001b[38;5;241m.\u001b[39m_dataset_kind \u001b[38;5;241m==\u001b[39m _DatasetKind\u001b[38;5;241m.\u001b[39mIterable \u001b[38;5;129;01mand\u001b[39;00m \\\n\u001b[1;32m    631\u001b[0m         \u001b[38;5;28mself\u001b[39m\u001b[38;5;241m.\u001b[39m_IterableDataset_len_called \u001b[38;5;129;01mis\u001b[39;00m \u001b[38;5;129;01mnot\u001b[39;00m \u001b[38;5;28;01mNone\u001b[39;00m \u001b[38;5;129;01mand\u001b[39;00m \\\n\u001b[1;32m    632\u001b[0m         \u001b[38;5;28mself\u001b[39m\u001b[38;5;241m.\u001b[39m_num_yielded \u001b[38;5;241m>\u001b[39m \u001b[38;5;28mself\u001b[39m\u001b[38;5;241m.\u001b[39m_IterableDataset_len_called:\n",
      "File \u001b[0;32m/scratch/imb/uqjxie6/software/stimage5/lib/python3.8/site-packages/torch/utils/data/dataloader.py:670\u001b[0m, in \u001b[0;36m_SingleProcessDataLoaderIter._next_data\u001b[0;34m(self)\u001b[0m\n\u001b[1;32m    669\u001b[0m \u001b[38;5;28;01mdef\u001b[39;00m \u001b[38;5;21m_next_data\u001b[39m(\u001b[38;5;28mself\u001b[39m):\n\u001b[0;32m--> 670\u001b[0m     index \u001b[38;5;241m=\u001b[39m \u001b[38;5;28;43mself\u001b[39;49m\u001b[38;5;241;43m.\u001b[39;49m\u001b[43m_next_index\u001b[49m\u001b[43m(\u001b[49m\u001b[43m)\u001b[49m  \u001b[38;5;66;03m# may raise StopIteration\u001b[39;00m\n\u001b[1;32m    671\u001b[0m     data \u001b[38;5;241m=\u001b[39m \u001b[38;5;28mself\u001b[39m\u001b[38;5;241m.\u001b[39m_dataset_fetcher\u001b[38;5;241m.\u001b[39mfetch(index)  \u001b[38;5;66;03m# may raise StopIteration\u001b[39;00m\n\u001b[1;32m    672\u001b[0m     \u001b[38;5;28;01mif\u001b[39;00m \u001b[38;5;28mself\u001b[39m\u001b[38;5;241m.\u001b[39m_pin_memory:\n",
      "File \u001b[0;32m/scratch/imb/uqjxie6/software/stimage5/lib/python3.8/site-packages/torch/utils/data/dataloader.py:618\u001b[0m, in \u001b[0;36m_BaseDataLoaderIter._next_index\u001b[0;34m(self)\u001b[0m\n\u001b[1;32m    617\u001b[0m \u001b[38;5;28;01mdef\u001b[39;00m \u001b[38;5;21m_next_index\u001b[39m(\u001b[38;5;28mself\u001b[39m):\n\u001b[0;32m--> 618\u001b[0m     \u001b[38;5;28;01mreturn\u001b[39;00m \u001b[38;5;28;43mnext\u001b[39;49m\u001b[43m(\u001b[49m\u001b[38;5;28;43mself\u001b[39;49m\u001b[38;5;241;43m.\u001b[39;49m\u001b[43m_sampler_iter\u001b[49m\u001b[43m)\u001b[49m\n",
      "\u001b[0;31mStopIteration\u001b[0m: "
     ]
    }
   ],
   "source": [
    "for i in range(10):\n",
    "    print(i)\n",
    "    next(iterator)\n",
    "    print([i.shape for i in test])"
   ]
  },
  {
   "cell_type": "code",
   "execution_count": 1,
   "id": "59b2ee0f-9c14-4c03-a6a9-380905ff777a",
   "metadata": {},
   "outputs": [
    {
     "ename": "NameError",
     "evalue": "name 'dataset' is not defined",
     "output_type": "error",
     "traceback": [
      "\u001b[0;31m---------------------------------------------------------------------------\u001b[0m",
      "\u001b[0;31mNameError\u001b[0m                                 Traceback (most recent call last)",
      "Cell \u001b[0;32mIn[1], line 1\u001b[0m\n\u001b[0;32m----> 1\u001b[0m \u001b[43mdataset\u001b[49m\u001b[38;5;241m.\u001b[39mcounts_dict[\u001b[38;5;124m'\u001b[39m\u001b[38;5;124mP2_ST_rep3\u001b[39m\u001b[38;5;124m'\u001b[39m]\u001b[38;5;241m.\u001b[39mshape\n",
      "\u001b[0;31mNameError\u001b[0m: name 'dataset' is not defined"
     ]
    }
   ],
   "source": [
    "dataset.counts_dict['P2_ST_rep3'].shape"
   ]
  },
  {
   "cell_type": "code",
   "execution_count": null,
   "id": "af417309-b277-477d-acae-8316cd576b60",
   "metadata": {},
   "outputs": [],
   "source": []
  },
  {
   "cell_type": "code",
   "execution_count": 3,
   "id": "101cb152-7f14-4429-804f-3b107f257610",
   "metadata": {
    "tags": []
   },
   "outputs": [],
   "source": [
    "class ViT_HER2ST(torch.utils.data.Dataset):\n",
    "    \"\"\"Some Information about HER2ST\"\"\"\n",
    "    def __init__(self,train=True,fold=0,r=4,flatten=True,ori=False,adj=False,prune='Grid',neighs=4):\n",
    "        super(ViT_HER2ST, self).__init__()\n",
    "        \n",
    "        self.cnt_dir = '../models/Hist2ST/data/her2st/data/ST-cnts'\n",
    "        self.img_dir = '../models/Hist2ST/data/her2st/data/ST-imgs'\n",
    "        self.pos_dir = '../models/Hist2ST/data/her2st/data/ST-spotfiles'\n",
    "        self.lbl_dir = '../models/Hist2ST/data/her2st/data/ST-pat/lbl'\n",
    "        self.r = 224//r\n",
    "\n",
    "        # gene_list = list(np.load('data/her_hvg.npy',allow_pickle=True))\n",
    "        gene_list = list(np.load('../models/Hist2ST/data/her_hvg_cut_1000.npy',allow_pickle=True))\n",
    "        self.gene_list = gene_list\n",
    "        names = os.listdir(self.cnt_dir)\n",
    "        names.sort()\n",
    "        names = [i[:2] for i in names]\n",
    "        self.train = train\n",
    "        self.ori = ori\n",
    "        self.adj = adj\n",
    "        # samples = ['A1','B1','C1','D1','E1','F1','G2','H1']\n",
    "        samples = names[1:33]\n",
    "\n",
    "        te_names = [samples[fold]]\n",
    "        print(te_names)\n",
    "        tr_names = list(set(samples)-set(te_names))\n",
    "\n",
    "        if train:\n",
    "            self.names = tr_names\n",
    "        else:\n",
    "            self.names = te_names\n",
    "\n",
    "        print('Loading imgs...')\n",
    "        self.img_dict = {i:torch.Tensor(np.array(self.get_img(i))) for i in self.names}\n",
    "        print('Loading metadata...')\n",
    "        self.meta_dict = {i:self.get_meta(i) for i in self.names}\n",
    "        self.label={i:None for i in self.names}\n",
    "        self.lbl2id={\n",
    "            'invasive cancer':0, 'breast glands':1, 'immune infiltrate':2, \n",
    "            'cancer in situ':3, 'connective tissue':4, 'adipose tissue':5, 'undetermined':-1\n",
    "        }\n",
    "        if not train and self.names[0] in ['A1','B1','C1','D1','E1','F1','G2','H1','J1']:\n",
    "            self.lbl_dict={i:self.get_lbl(i) for i in self.names}\n",
    "            # self.label={i:m['label'].values for i,m in self.lbl_dict.items()}\n",
    "            idx=self.meta_dict[self.names[0]].index\n",
    "            lbl=self.lbl_dict[self.names[0]]\n",
    "            lbl=lbl.loc[idx,:]['label'].values\n",
    "            # lbl=torch.Tensor(list(map(lambda i:self.lbl2id[i],lbl)))\n",
    "            self.label[self.names[0]]=lbl\n",
    "        elif train:\n",
    "            for i in self.names:\n",
    "                idx=self.meta_dict[i].index\n",
    "                if i in ['A1','B1','C1','D1','E1','F1','G2','H1','J1']:\n",
    "                    lbl=self.get_lbl(i)\n",
    "                    lbl=lbl.loc[idx,:]['label'].values\n",
    "                    lbl=torch.Tensor(list(map(lambda i:self.lbl2id[i],lbl)))\n",
    "                    self.label[i]=lbl\n",
    "                else:\n",
    "                    self.label[i]=torch.full((len(idx),),-1)\n",
    "        self.gene_set = list(gene_list)\n",
    "        self.exp_dict = {\n",
    "            i:scp.transform.log(scp.normalize.library_size_normalize(m[self.gene_set].values)) \n",
    "            for i,m in self.meta_dict.items()\n",
    "        }\n",
    "        if self.ori:\n",
    "            self.ori_dict = {i:m[self.gene_set].values for i,m in self.meta_dict.items()}\n",
    "            self.counts_dict={}\n",
    "            for i,m in self.ori_dict.items():\n",
    "                n_counts=m.sum(1)\n",
    "                sf = n_counts / np.median(n_counts)\n",
    "                self.counts_dict[i]=sf\n",
    "        self.center_dict = {\n",
    "            i:np.floor(m[['pixel_x','pixel_y']].values).astype(int) \n",
    "            for i,m in self.meta_dict.items()\n",
    "        }\n",
    "        self.loc_dict = {i:m[['x','y']].values for i,m in self.meta_dict.items()}\n",
    "        self.adj_dict = {\n",
    "            i:calcADJ(m,neighs,pruneTag=prune)\n",
    "            for i,m in self.loc_dict.items()\n",
    "        }\n",
    "        self.patch_dict=dfd(lambda :None)\n",
    "        self.lengths = [len(i) for i in self.meta_dict.values()]\n",
    "        self.cumlen = np.cumsum(self.lengths)\n",
    "        self.id2name = dict(enumerate(self.names))\n",
    "        self.flatten=flatten\n",
    "    def __getitem__(self, index):\n",
    "        ID=self.id2name[index]\n",
    "        im = self.img_dict[ID]\n",
    "        im = im.permute(1,0,2)\n",
    "        # im = torch.Tensor(np.array(self.im))\n",
    "        exps = self.exp_dict[ID]\n",
    "        if self.ori:\n",
    "            oris = self.ori_dict[ID]\n",
    "            sfs = self.counts_dict[ID]\n",
    "        centers = self.center_dict[ID]\n",
    "        loc = self.loc_dict[ID]\n",
    "        adj = self.adj_dict[ID]\n",
    "        patches = self.patch_dict[ID]\n",
    "        positions = torch.LongTensor(loc)\n",
    "        patch_dim = 3 * self.r * self.r * 4\n",
    "        label=self.label[ID]\n",
    "        exps = torch.Tensor(exps)\n",
    "        if patches is None:\n",
    "            n_patches = len(centers)\n",
    "            if self.flatten:\n",
    "                patches = torch.zeros((n_patches,patch_dim))\n",
    "            else:\n",
    "                patches = torch.zeros((n_patches,3,2*self.r,2*self.r))\n",
    "            for i in range(n_patches):\n",
    "                center = centers[i]\n",
    "                x, y = center\n",
    "                patch = im[(x-self.r):(x+self.r),(y-self.r):(y+self.r),:]\n",
    "                if self.flatten:\n",
    "                    patches[i] = patch.flatten()\n",
    "                else:\n",
    "                    patches[i]=patch.permute(2,0,1)\n",
    "            self.patch_dict[ID]=patches\n",
    "        data=[patches, positions, exps]\n",
    "        if self.adj:\n",
    "            data.append(adj)\n",
    "        if self.ori:\n",
    "            data+=[torch.Tensor(oris),torch.Tensor(sfs)]\n",
    "        data.append(torch.Tensor(centers))\n",
    "        return data\n",
    "        \n",
    "    def __len__(self):\n",
    "        return len(self.exp_dict)\n",
    "\n",
    "    def get_img(self,name):\n",
    "        pre = self.img_dir+'/'+name[0]+'/'+name\n",
    "        fig_name = os.listdir(pre)[0]\n",
    "        path = pre+'/'+fig_name\n",
    "        im = Image.open(path)\n",
    "        return im\n",
    "\n",
    "    def get_cnt(self,name):\n",
    "        path = self.cnt_dir+'/'+name+'.tsv'\n",
    "        df = pd.read_csv(path,sep='\\t',index_col=0)\n",
    "\n",
    "        return df\n",
    "\n",
    "    def get_pos(self,name):\n",
    "        path = self.pos_dir+'/'+name+'_selection.tsv'\n",
    "        # path = self.pos_dir+'/'+name+'_labeled_coordinates.tsv'\n",
    "        df = pd.read_csv(path,sep='\\t')\n",
    "\n",
    "        x = df['x'].values\n",
    "        y = df['y'].values\n",
    "        x = np.around(x).astype(int)\n",
    "        y = np.around(y).astype(int)\n",
    "        id = []\n",
    "        for i in range(len(x)):\n",
    "            id.append(str(x[i])+'x'+str(y[i])) \n",
    "        df['id'] = id\n",
    "\n",
    "        return df\n",
    "\n",
    "    def get_meta(self,name,gene_list=None):\n",
    "        cnt = self.get_cnt(name)\n",
    "        pos = self.get_pos(name)\n",
    "        meta = cnt.join((pos.set_index('id')))\n",
    "\n",
    "        return meta\n",
    "\n",
    "    def get_lbl(self,name):\n",
    "        # path = self.pos_dir+'/'+name+'_selection.tsv'\n",
    "        path = self.lbl_dir+'/'+name+'_labeled_coordinates.tsv'\n",
    "        df = pd.read_csv(path,sep='\\t')\n",
    "\n",
    "        x = df['x'].values\n",
    "        y = df['y'].values\n",
    "        x = np.around(x).astype(int)\n",
    "        y = np.around(y).astype(int)\n",
    "        id = []\n",
    "        for i in range(len(x)):\n",
    "            id.append(str(x[i])+'x'+str(y[i])) \n",
    "        df['id'] = id\n",
    "        df.drop('pixel_x', inplace=True, axis=1)\n",
    "        df.drop('pixel_y', inplace=True, axis=1)\n",
    "        df.drop('x', inplace=True, axis=1)\n",
    "        df.drop('y', inplace=True, axis=1)\n",
    "        df.set_index('id',inplace=True)\n",
    "        return df\n"
   ]
  },
  {
   "cell_type": "code",
   "execution_count": 8,
   "id": "e2bbe404-40c7-46b5-b544-efc37a2dbb94",
   "metadata": {
    "tags": []
   },
   "outputs": [
    {
     "name": "stdout",
     "output_type": "stream",
     "text": [
      "['B1']\n",
      "Loading imgs...\n",
      "Loading metadata...\n"
     ]
    }
   ],
   "source": [
    "ds = ViT_HER2ST(\n",
    "    train='train',fold=5,flatten=False,\n",
    "    ori=True,neighs=4,adj=True,prune='Grid'\n",
    ")\n"
   ]
  },
  {
   "cell_type": "code",
   "execution_count": 12,
   "id": "ef454603-a667-4d71-a1fc-9b91a7161e71",
   "metadata": {
    "tags": []
   },
   "outputs": [
    {
     "data": {
      "text/html": [
       "<div>\n",
       "<style scoped>\n",
       "    .dataframe tbody tr th:only-of-type {\n",
       "        vertical-align: middle;\n",
       "    }\n",
       "\n",
       "    .dataframe tbody tr th {\n",
       "        vertical-align: top;\n",
       "    }\n",
       "\n",
       "    .dataframe thead th {\n",
       "        text-align: right;\n",
       "    }\n",
       "</style>\n",
       "<table border=\"1\" class=\"dataframe\">\n",
       "  <thead>\n",
       "    <tr style=\"text-align: right;\">\n",
       "      <th></th>\n",
       "      <th>FO538757.1</th>\n",
       "      <th>SAMD11</th>\n",
       "      <th>NOC2L</th>\n",
       "      <th>KLHL17</th>\n",
       "      <th>PLEKHN1</th>\n",
       "      <th>PERM1</th>\n",
       "      <th>HES4</th>\n",
       "      <th>ISG15</th>\n",
       "      <th>AGRN</th>\n",
       "      <th>RNF223</th>\n",
       "      <th>...</th>\n",
       "      <th>USP9Y</th>\n",
       "      <th>TMSB4Y</th>\n",
       "      <th>NLGN4Y</th>\n",
       "      <th>x</th>\n",
       "      <th>y</th>\n",
       "      <th>new_x</th>\n",
       "      <th>new_y</th>\n",
       "      <th>pixel_x</th>\n",
       "      <th>pixel_y</th>\n",
       "      <th>selected</th>\n",
       "    </tr>\n",
       "  </thead>\n",
       "  <tbody>\n",
       "    <tr>\n",
       "      <th>10x10</th>\n",
       "      <td>0</td>\n",
       "      <td>1</td>\n",
       "      <td>0</td>\n",
       "      <td>0</td>\n",
       "      <td>0</td>\n",
       "      <td>0</td>\n",
       "      <td>0</td>\n",
       "      <td>3</td>\n",
       "      <td>0</td>\n",
       "      <td>0</td>\n",
       "      <td>...</td>\n",
       "      <td>0</td>\n",
       "      <td>0</td>\n",
       "      <td>0</td>\n",
       "      <td>10</td>\n",
       "      <td>10</td>\n",
       "      <td>9.803</td>\n",
       "      <td>9.952</td>\n",
       "      <td>2561.12</td>\n",
       "      <td>2609.24</td>\n",
       "      <td>1</td>\n",
       "    </tr>\n",
       "    <tr>\n",
       "      <th>10x11</th>\n",
       "      <td>0</td>\n",
       "      <td>0</td>\n",
       "      <td>0</td>\n",
       "      <td>0</td>\n",
       "      <td>0</td>\n",
       "      <td>0</td>\n",
       "      <td>0</td>\n",
       "      <td>2</td>\n",
       "      <td>0</td>\n",
       "      <td>0</td>\n",
       "      <td>...</td>\n",
       "      <td>0</td>\n",
       "      <td>0</td>\n",
       "      <td>0</td>\n",
       "      <td>10</td>\n",
       "      <td>11</td>\n",
       "      <td>9.815</td>\n",
       "      <td>10.943</td>\n",
       "      <td>2564.61</td>\n",
       "      <td>2898.09</td>\n",
       "      <td>1</td>\n",
       "    </tr>\n",
       "    <tr>\n",
       "      <th>10x12</th>\n",
       "      <td>0</td>\n",
       "      <td>0</td>\n",
       "      <td>0</td>\n",
       "      <td>0</td>\n",
       "      <td>0</td>\n",
       "      <td>0</td>\n",
       "      <td>1</td>\n",
       "      <td>1</td>\n",
       "      <td>0</td>\n",
       "      <td>0</td>\n",
       "      <td>...</td>\n",
       "      <td>0</td>\n",
       "      <td>0</td>\n",
       "      <td>0</td>\n",
       "      <td>10</td>\n",
       "      <td>12</td>\n",
       "      <td>9.816</td>\n",
       "      <td>11.946</td>\n",
       "      <td>2564.91</td>\n",
       "      <td>3190.44</td>\n",
       "      <td>1</td>\n",
       "    </tr>\n",
       "    <tr>\n",
       "      <th>10x13</th>\n",
       "      <td>0</td>\n",
       "      <td>0</td>\n",
       "      <td>0</td>\n",
       "      <td>0</td>\n",
       "      <td>0</td>\n",
       "      <td>0</td>\n",
       "      <td>1</td>\n",
       "      <td>4</td>\n",
       "      <td>0</td>\n",
       "      <td>0</td>\n",
       "      <td>...</td>\n",
       "      <td>0</td>\n",
       "      <td>0</td>\n",
       "      <td>0</td>\n",
       "      <td>10</td>\n",
       "      <td>13</td>\n",
       "      <td>9.850</td>\n",
       "      <td>12.948</td>\n",
       "      <td>2574.80</td>\n",
       "      <td>3482.49</td>\n",
       "      <td>1</td>\n",
       "    </tr>\n",
       "    <tr>\n",
       "      <th>10x14</th>\n",
       "      <td>0</td>\n",
       "      <td>0</td>\n",
       "      <td>0</td>\n",
       "      <td>0</td>\n",
       "      <td>0</td>\n",
       "      <td>0</td>\n",
       "      <td>1</td>\n",
       "      <td>1</td>\n",
       "      <td>0</td>\n",
       "      <td>0</td>\n",
       "      <td>...</td>\n",
       "      <td>0</td>\n",
       "      <td>0</td>\n",
       "      <td>0</td>\n",
       "      <td>10</td>\n",
       "      <td>14</td>\n",
       "      <td>9.833</td>\n",
       "      <td>13.934</td>\n",
       "      <td>2569.85</td>\n",
       "      <td>3769.88</td>\n",
       "      <td>1</td>\n",
       "    </tr>\n",
       "    <tr>\n",
       "      <th>...</th>\n",
       "      <td>...</td>\n",
       "      <td>...</td>\n",
       "      <td>...</td>\n",
       "      <td>...</td>\n",
       "      <td>...</td>\n",
       "      <td>...</td>\n",
       "      <td>...</td>\n",
       "      <td>...</td>\n",
       "      <td>...</td>\n",
       "      <td>...</td>\n",
       "      <td>...</td>\n",
       "      <td>...</td>\n",
       "      <td>...</td>\n",
       "      <td>...</td>\n",
       "      <td>...</td>\n",
       "      <td>...</td>\n",
       "      <td>...</td>\n",
       "      <td>...</td>\n",
       "      <td>...</td>\n",
       "      <td>...</td>\n",
       "      <td>...</td>\n",
       "    </tr>\n",
       "    <tr>\n",
       "      <th>9x23</th>\n",
       "      <td>0</td>\n",
       "      <td>0</td>\n",
       "      <td>0</td>\n",
       "      <td>0</td>\n",
       "      <td>0</td>\n",
       "      <td>0</td>\n",
       "      <td>2</td>\n",
       "      <td>1</td>\n",
       "      <td>1</td>\n",
       "      <td>0</td>\n",
       "      <td>...</td>\n",
       "      <td>0</td>\n",
       "      <td>0</td>\n",
       "      <td>0</td>\n",
       "      <td>9</td>\n",
       "      <td>23</td>\n",
       "      <td>8.907</td>\n",
       "      <td>22.958</td>\n",
       "      <td>2300.44</td>\n",
       "      <td>6400.11</td>\n",
       "      <td>1</td>\n",
       "    </tr>\n",
       "    <tr>\n",
       "      <th>9x24</th>\n",
       "      <td>0</td>\n",
       "      <td>0</td>\n",
       "      <td>0</td>\n",
       "      <td>0</td>\n",
       "      <td>0</td>\n",
       "      <td>0</td>\n",
       "      <td>1</td>\n",
       "      <td>0</td>\n",
       "      <td>0</td>\n",
       "      <td>0</td>\n",
       "      <td>...</td>\n",
       "      <td>0</td>\n",
       "      <td>0</td>\n",
       "      <td>0</td>\n",
       "      <td>9</td>\n",
       "      <td>24</td>\n",
       "      <td>8.922</td>\n",
       "      <td>23.958</td>\n",
       "      <td>2304.81</td>\n",
       "      <td>6691.58</td>\n",
       "      <td>1</td>\n",
       "    </tr>\n",
       "    <tr>\n",
       "      <th>9x25</th>\n",
       "      <td>0</td>\n",
       "      <td>0</td>\n",
       "      <td>0</td>\n",
       "      <td>0</td>\n",
       "      <td>0</td>\n",
       "      <td>0</td>\n",
       "      <td>1</td>\n",
       "      <td>3</td>\n",
       "      <td>1</td>\n",
       "      <td>0</td>\n",
       "      <td>...</td>\n",
       "      <td>0</td>\n",
       "      <td>0</td>\n",
       "      <td>0</td>\n",
       "      <td>9</td>\n",
       "      <td>25</td>\n",
       "      <td>8.836</td>\n",
       "      <td>24.973</td>\n",
       "      <td>2279.79</td>\n",
       "      <td>6987.42</td>\n",
       "      <td>1</td>\n",
       "    </tr>\n",
       "    <tr>\n",
       "      <th>9x26</th>\n",
       "      <td>0</td>\n",
       "      <td>0</td>\n",
       "      <td>0</td>\n",
       "      <td>0</td>\n",
       "      <td>0</td>\n",
       "      <td>0</td>\n",
       "      <td>0</td>\n",
       "      <td>0</td>\n",
       "      <td>0</td>\n",
       "      <td>0</td>\n",
       "      <td>...</td>\n",
       "      <td>0</td>\n",
       "      <td>0</td>\n",
       "      <td>0</td>\n",
       "      <td>9</td>\n",
       "      <td>26</td>\n",
       "      <td>8.919</td>\n",
       "      <td>25.957</td>\n",
       "      <td>2303.93</td>\n",
       "      <td>7274.23</td>\n",
       "      <td>1</td>\n",
       "    </tr>\n",
       "    <tr>\n",
       "      <th>9x9</th>\n",
       "      <td>0</td>\n",
       "      <td>0</td>\n",
       "      <td>0</td>\n",
       "      <td>0</td>\n",
       "      <td>0</td>\n",
       "      <td>0</td>\n",
       "      <td>0</td>\n",
       "      <td>3</td>\n",
       "      <td>0</td>\n",
       "      <td>0</td>\n",
       "      <td>...</td>\n",
       "      <td>0</td>\n",
       "      <td>0</td>\n",
       "      <td>0</td>\n",
       "      <td>9</td>\n",
       "      <td>9</td>\n",
       "      <td>8.894</td>\n",
       "      <td>8.998</td>\n",
       "      <td>2296.66</td>\n",
       "      <td>2331.18</td>\n",
       "      <td>1</td>\n",
       "    </tr>\n",
       "  </tbody>\n",
       "</table>\n",
       "<p>441 rows × 14999 columns</p>\n",
       "</div>"
      ],
      "text/plain": [
       "       FO538757.1  SAMD11  NOC2L  KLHL17  PLEKHN1  PERM1  HES4  ISG15  AGRN  \\\n",
       "10x10           0       1      0       0        0      0     0      3     0   \n",
       "10x11           0       0      0       0        0      0     0      2     0   \n",
       "10x12           0       0      0       0        0      0     1      1     0   \n",
       "10x13           0       0      0       0        0      0     1      4     0   \n",
       "10x14           0       0      0       0        0      0     1      1     0   \n",
       "...           ...     ...    ...     ...      ...    ...   ...    ...   ...   \n",
       "9x23            0       0      0       0        0      0     2      1     1   \n",
       "9x24            0       0      0       0        0      0     1      0     0   \n",
       "9x25            0       0      0       0        0      0     1      3     1   \n",
       "9x26            0       0      0       0        0      0     0      0     0   \n",
       "9x9             0       0      0       0        0      0     0      3     0   \n",
       "\n",
       "       RNF223  ...  USP9Y  TMSB4Y  NLGN4Y   x   y  new_x   new_y  pixel_x  \\\n",
       "10x10       0  ...      0       0       0  10  10  9.803   9.952  2561.12   \n",
       "10x11       0  ...      0       0       0  10  11  9.815  10.943  2564.61   \n",
       "10x12       0  ...      0       0       0  10  12  9.816  11.946  2564.91   \n",
       "10x13       0  ...      0       0       0  10  13  9.850  12.948  2574.80   \n",
       "10x14       0  ...      0       0       0  10  14  9.833  13.934  2569.85   \n",
       "...       ...  ...    ...     ...     ...  ..  ..    ...     ...      ...   \n",
       "9x23        0  ...      0       0       0   9  23  8.907  22.958  2300.44   \n",
       "9x24        0  ...      0       0       0   9  24  8.922  23.958  2304.81   \n",
       "9x25        0  ...      0       0       0   9  25  8.836  24.973  2279.79   \n",
       "9x26        0  ...      0       0       0   9  26  8.919  25.957  2303.93   \n",
       "9x9         0  ...      0       0       0   9   9  8.894   8.998  2296.66   \n",
       "\n",
       "       pixel_y  selected  \n",
       "10x10  2609.24         1  \n",
       "10x11  2898.09         1  \n",
       "10x12  3190.44         1  \n",
       "10x13  3482.49         1  \n",
       "10x14  3769.88         1  \n",
       "...        ...       ...  \n",
       "9x23   6400.11         1  \n",
       "9x24   6691.58         1  \n",
       "9x25   6987.42         1  \n",
       "9x26   7274.23         1  \n",
       "9x9    2331.18         1  \n",
       "\n",
       "[441 rows x 14999 columns]"
      ]
     },
     "execution_count": 12,
     "metadata": {},
     "output_type": "execute_result"
    }
   ],
   "source": [
    "ds.meta_dict['G1']"
   ]
  },
  {
   "cell_type": "code",
   "execution_count": 13,
   "id": "cb21bed4-466b-452e-9750-5c1a8e34412c",
   "metadata": {
    "tags": []
   },
   "outputs": [],
   "source": [
    "# ds.center_dict['G1']"
   ]
  },
  {
   "cell_type": "code",
   "execution_count": 14,
   "id": "a88318f5-f911-4161-b286-bfa98a063160",
   "metadata": {
    "tags": []
   },
   "outputs": [],
   "source": [
    "# ds.loc_dict['G1']"
   ]
  },
  {
   "cell_type": "code",
   "execution_count": 26,
   "id": "917e6f25-b11c-43ef-a183-f37d73ff8972",
   "metadata": {},
   "outputs": [],
   "source": [
    "from torch.utils.data import DataLoader\n",
    "train_loader = DataLoader(ds, batch_size=1, num_workers=0, shuffle=True)\n"
   ]
  },
  {
   "cell_type": "code",
   "execution_count": 27,
   "id": "aef7d45f-dca7-47f9-9983-41d51111bb1d",
   "metadata": {},
   "outputs": [],
   "source": [
    "iterator=iter(train_loader)\n",
    "test = next(iterator)"
   ]
  },
  {
   "cell_type": "code",
   "execution_count": 28,
   "id": "5a0c0a28-1258-40a3-a98c-3b9f98e2c6fe",
   "metadata": {
    "tags": []
   },
   "outputs": [
    {
     "name": "stdout",
     "output_type": "stream",
     "text": [
      "0\n",
      "1\n",
      "2\n",
      "3\n",
      "4\n",
      "5\n",
      "6\n",
      "7\n",
      "8\n",
      "9\n",
      "10\n",
      "11\n",
      "12\n",
      "13\n",
      "14\n",
      "15\n",
      "16\n",
      "17\n",
      "18\n",
      "19\n",
      "20\n",
      "21\n",
      "22\n",
      "23\n",
      "24\n",
      "25\n",
      "26\n",
      "27\n",
      "28\n",
      "29\n"
     ]
    },
    {
     "ename": "StopIteration",
     "evalue": "",
     "output_type": "error",
     "traceback": [
      "\u001b[0;31m---------------------------------------------------------------------------\u001b[0m",
      "\u001b[0;31mStopIteration\u001b[0m                             Traceback (most recent call last)",
      "Cell \u001b[0;32mIn[28], line 2\u001b[0m\n\u001b[1;32m      1\u001b[0m \u001b[38;5;28;01mfor\u001b[39;00m i \u001b[38;5;129;01min\u001b[39;00m \u001b[38;5;28mrange\u001b[39m(\u001b[38;5;241m40\u001b[39m):\n\u001b[0;32m----> 2\u001b[0m     \u001b[38;5;28;43mnext\u001b[39;49m\u001b[43m(\u001b[49m\u001b[43miterator\u001b[49m\u001b[43m)\u001b[49m\n\u001b[1;32m      3\u001b[0m     \u001b[38;5;28mprint\u001b[39m(i)\n",
      "File \u001b[0;32m/scratch/imb/uqjxie6/software/stimage5/lib/python3.8/site-packages/torch/utils/data/dataloader.py:628\u001b[0m, in \u001b[0;36m_BaseDataLoaderIter.__next__\u001b[0;34m(self)\u001b[0m\n\u001b[1;32m    625\u001b[0m \u001b[38;5;28;01mif\u001b[39;00m \u001b[38;5;28mself\u001b[39m\u001b[38;5;241m.\u001b[39m_sampler_iter \u001b[38;5;129;01mis\u001b[39;00m \u001b[38;5;28;01mNone\u001b[39;00m:\n\u001b[1;32m    626\u001b[0m     \u001b[38;5;66;03m# TODO(https://github.com/pytorch/pytorch/issues/76750)\u001b[39;00m\n\u001b[1;32m    627\u001b[0m     \u001b[38;5;28mself\u001b[39m\u001b[38;5;241m.\u001b[39m_reset()  \u001b[38;5;66;03m# type: ignore[call-arg]\u001b[39;00m\n\u001b[0;32m--> 628\u001b[0m data \u001b[38;5;241m=\u001b[39m \u001b[38;5;28;43mself\u001b[39;49m\u001b[38;5;241;43m.\u001b[39;49m\u001b[43m_next_data\u001b[49m\u001b[43m(\u001b[49m\u001b[43m)\u001b[49m\n\u001b[1;32m    629\u001b[0m \u001b[38;5;28mself\u001b[39m\u001b[38;5;241m.\u001b[39m_num_yielded \u001b[38;5;241m+\u001b[39m\u001b[38;5;241m=\u001b[39m \u001b[38;5;241m1\u001b[39m\n\u001b[1;32m    630\u001b[0m \u001b[38;5;28;01mif\u001b[39;00m \u001b[38;5;28mself\u001b[39m\u001b[38;5;241m.\u001b[39m_dataset_kind \u001b[38;5;241m==\u001b[39m _DatasetKind\u001b[38;5;241m.\u001b[39mIterable \u001b[38;5;129;01mand\u001b[39;00m \\\n\u001b[1;32m    631\u001b[0m         \u001b[38;5;28mself\u001b[39m\u001b[38;5;241m.\u001b[39m_IterableDataset_len_called \u001b[38;5;129;01mis\u001b[39;00m \u001b[38;5;129;01mnot\u001b[39;00m \u001b[38;5;28;01mNone\u001b[39;00m \u001b[38;5;129;01mand\u001b[39;00m \\\n\u001b[1;32m    632\u001b[0m         \u001b[38;5;28mself\u001b[39m\u001b[38;5;241m.\u001b[39m_num_yielded \u001b[38;5;241m>\u001b[39m \u001b[38;5;28mself\u001b[39m\u001b[38;5;241m.\u001b[39m_IterableDataset_len_called:\n",
      "File \u001b[0;32m/scratch/imb/uqjxie6/software/stimage5/lib/python3.8/site-packages/torch/utils/data/dataloader.py:670\u001b[0m, in \u001b[0;36m_SingleProcessDataLoaderIter._next_data\u001b[0;34m(self)\u001b[0m\n\u001b[1;32m    669\u001b[0m \u001b[38;5;28;01mdef\u001b[39;00m \u001b[38;5;21m_next_data\u001b[39m(\u001b[38;5;28mself\u001b[39m):\n\u001b[0;32m--> 670\u001b[0m     index \u001b[38;5;241m=\u001b[39m \u001b[38;5;28;43mself\u001b[39;49m\u001b[38;5;241;43m.\u001b[39;49m\u001b[43m_next_index\u001b[49m\u001b[43m(\u001b[49m\u001b[43m)\u001b[49m  \u001b[38;5;66;03m# may raise StopIteration\u001b[39;00m\n\u001b[1;32m    671\u001b[0m     data \u001b[38;5;241m=\u001b[39m \u001b[38;5;28mself\u001b[39m\u001b[38;5;241m.\u001b[39m_dataset_fetcher\u001b[38;5;241m.\u001b[39mfetch(index)  \u001b[38;5;66;03m# may raise StopIteration\u001b[39;00m\n\u001b[1;32m    672\u001b[0m     \u001b[38;5;28;01mif\u001b[39;00m \u001b[38;5;28mself\u001b[39m\u001b[38;5;241m.\u001b[39m_pin_memory:\n",
      "File \u001b[0;32m/scratch/imb/uqjxie6/software/stimage5/lib/python3.8/site-packages/torch/utils/data/dataloader.py:618\u001b[0m, in \u001b[0;36m_BaseDataLoaderIter._next_index\u001b[0;34m(self)\u001b[0m\n\u001b[1;32m    617\u001b[0m \u001b[38;5;28;01mdef\u001b[39;00m \u001b[38;5;21m_next_index\u001b[39m(\u001b[38;5;28mself\u001b[39m):\n\u001b[0;32m--> 618\u001b[0m     \u001b[38;5;28;01mreturn\u001b[39;00m \u001b[38;5;28;43mnext\u001b[39;49m\u001b[43m(\u001b[49m\u001b[38;5;28;43mself\u001b[39;49m\u001b[38;5;241;43m.\u001b[39;49m\u001b[43m_sampler_iter\u001b[49m\u001b[43m)\u001b[49m\n",
      "\u001b[0;31mStopIteration\u001b[0m: "
     ]
    }
   ],
   "source": [
    "for i in range(40):\n",
    "    next(iterator)\n",
    "    print(i)\n"
   ]
  },
  {
   "cell_type": "code",
   "execution_count": 32,
   "id": "d924022d-5c02-4c2d-b701-9c2b2be53c35",
   "metadata": {
    "tags": []
   },
   "outputs": [
    {
     "data": {
      "text/plain": [
       "{0: 'B2',\n",
       " 1: 'D1',\n",
       " 2: 'C3',\n",
       " 3: 'D6',\n",
       " 4: 'F3',\n",
       " 5: 'B3',\n",
       " 6: 'D5',\n",
       " 7: 'F2',\n",
       " 8: 'E3',\n",
       " 9: 'C1',\n",
       " 10: 'F1',\n",
       " 11: 'A6',\n",
       " 12: 'D3',\n",
       " 13: 'G1',\n",
       " 14: 'C5',\n",
       " 15: 'B5',\n",
       " 16: 'A2',\n",
       " 17: 'A5',\n",
       " 18: 'E2',\n",
       " 19: 'G3',\n",
       " 20: 'A3',\n",
       " 21: 'G2',\n",
       " 22: 'A4',\n",
       " 23: 'B4',\n",
       " 24: 'B6',\n",
       " 25: 'C6',\n",
       " 26: 'D2',\n",
       " 27: 'C4',\n",
       " 28: 'E1',\n",
       " 29: 'C2',\n",
       " 30: 'D4'}"
      ]
     },
     "execution_count": 32,
     "metadata": {},
     "output_type": "execute_result"
    }
   ],
   "source": [
    "ds.id2name"
   ]
  },
  {
   "cell_type": "code",
   "execution_count": 28,
   "id": "fb411b7b-97be-4ca0-9980-6e38b86ca4ab",
   "metadata": {
    "tags": []
   },
   "outputs": [],
   "source": [
    "from PIL import Image\n",
    "\n",
    "def read_tiff(path):\n",
    "    Image.MAX_IMAGE_PIXELS = 933120000\n",
    "    im = Image.open(path)\n",
    "    imarray = np.array(im)\n",
    "    # I = plt.imread(path)\n",
    "    return im\n",
    "\n",
    "\n",
    "class STDataset(torch.utils.data.Dataset):\n",
    "    \"\"\"Some Information about STDataset\"\"\"\n",
    "    def __init__(self, adata, img_path, diameter=177.5, train=True):\n",
    "        super(STDataset, self).__init__()\n",
    "\n",
    "        self.exp = adata.X.toarray()\n",
    "        self.im = read_tiff(img_path)\n",
    "        self.r = np.ceil(diameter/2).astype(int)\n",
    "        self.train = train\n",
    "        # self.d_spot = self.d_spot if self.d_spot%2==0 else self.d_spot+1\n",
    "        self.transforms = transforms.Compose([\n",
    "            transforms.ColorJitter(0.5,0.5,0.5),\n",
    "            transforms.RandomHorizontalFlip(),\n",
    "            transforms.RandomRotation(degrees=180),\n",
    "            transforms.ToTensor()\n",
    "        ])\n",
    "        self.centers = adata.obsm['spatial']\n",
    "        self.pos = adata.obsm['position_norm']\n",
    "    def __getitem__(self, index):\n",
    "        exp = self.exp[index]\n",
    "        center = self.centers[index]\n",
    "        x, y = center\n",
    "        patch = self.im.crop((x-self.r, y-self.r, x+self.r, y+self.r))\n",
    "        exp = torch.Tensor(exp)\n",
    "        mask = exp!=0\n",
    "        mask = mask.float()\n",
    "        if self.train:\n",
    "            patch = self.transforms(patch)\n",
    "        pos = torch.Tensor(self.pos[index])\n",
    "        return patch, pos, exp, mask\n",
    "\n",
    "    def __len__(self):\n",
    "        return len(self.centers)\n"
   ]
  },
  {
   "cell_type": "code",
   "execution_count": 58,
   "id": "5fe9dd6f-4c80-4af3-be39-434c43498905",
   "metadata": {
    "tags": []
   },
   "outputs": [
    {
     "data": {
      "text/html": [
       "<div>\n",
       "<style scoped>\n",
       "    .dataframe tbody tr th:only-of-type {\n",
       "        vertical-align: middle;\n",
       "    }\n",
       "\n",
       "    .dataframe tbody tr th {\n",
       "        vertical-align: top;\n",
       "    }\n",
       "\n",
       "    .dataframe thead th {\n",
       "        text-align: right;\n",
       "    }\n",
       "</style>\n",
       "<table border=\"1\" class=\"dataframe\">\n",
       "  <thead>\n",
       "    <tr style=\"text-align: right;\">\n",
       "      <th></th>\n",
       "      <th>FO538757.1</th>\n",
       "      <th>SAMD11</th>\n",
       "      <th>NOC2L</th>\n",
       "      <th>KLHL17</th>\n",
       "      <th>PLEKHN1</th>\n",
       "      <th>PERM1</th>\n",
       "      <th>HES4</th>\n",
       "      <th>ISG15</th>\n",
       "      <th>AGRN</th>\n",
       "      <th>RNF223</th>\n",
       "      <th>...</th>\n",
       "      <th>USP9Y</th>\n",
       "      <th>DDX3Y</th>\n",
       "      <th>UTY</th>\n",
       "      <th>x</th>\n",
       "      <th>y</th>\n",
       "      <th>new_x</th>\n",
       "      <th>new_y</th>\n",
       "      <th>pixel_x</th>\n",
       "      <th>pixel_y</th>\n",
       "      <th>selected</th>\n",
       "    </tr>\n",
       "  </thead>\n",
       "  <tbody>\n",
       "    <tr>\n",
       "      <th>10x10</th>\n",
       "      <td>0</td>\n",
       "      <td>0</td>\n",
       "      <td>0</td>\n",
       "      <td>0</td>\n",
       "      <td>1</td>\n",
       "      <td>0</td>\n",
       "      <td>0</td>\n",
       "      <td>2</td>\n",
       "      <td>0</td>\n",
       "      <td>0</td>\n",
       "      <td>...</td>\n",
       "      <td>0</td>\n",
       "      <td>0</td>\n",
       "      <td>0</td>\n",
       "      <td>10</td>\n",
       "      <td>10</td>\n",
       "      <td>9.937</td>\n",
       "      <td>10.017</td>\n",
       "      <td>2599.27</td>\n",
       "      <td>2620.50</td>\n",
       "      <td>1</td>\n",
       "    </tr>\n",
       "    <tr>\n",
       "      <th>10x11</th>\n",
       "      <td>0</td>\n",
       "      <td>0</td>\n",
       "      <td>0</td>\n",
       "      <td>0</td>\n",
       "      <td>0</td>\n",
       "      <td>0</td>\n",
       "      <td>0</td>\n",
       "      <td>2</td>\n",
       "      <td>0</td>\n",
       "      <td>0</td>\n",
       "      <td>...</td>\n",
       "      <td>0</td>\n",
       "      <td>0</td>\n",
       "      <td>0</td>\n",
       "      <td>10</td>\n",
       "      <td>11</td>\n",
       "      <td>9.945</td>\n",
       "      <td>11.103</td>\n",
       "      <td>2601.60</td>\n",
       "      <td>2936.11</td>\n",
       "      <td>1</td>\n",
       "    </tr>\n",
       "    <tr>\n",
       "      <th>10x12</th>\n",
       "      <td>0</td>\n",
       "      <td>0</td>\n",
       "      <td>0</td>\n",
       "      <td>0</td>\n",
       "      <td>0</td>\n",
       "      <td>0</td>\n",
       "      <td>0</td>\n",
       "      <td>6</td>\n",
       "      <td>0</td>\n",
       "      <td>0</td>\n",
       "      <td>...</td>\n",
       "      <td>0</td>\n",
       "      <td>0</td>\n",
       "      <td>0</td>\n",
       "      <td>10</td>\n",
       "      <td>12</td>\n",
       "      <td>9.941</td>\n",
       "      <td>12.028</td>\n",
       "      <td>2600.43</td>\n",
       "      <td>3204.93</td>\n",
       "      <td>1</td>\n",
       "    </tr>\n",
       "    <tr>\n",
       "      <th>10x13</th>\n",
       "      <td>1</td>\n",
       "      <td>0</td>\n",
       "      <td>2</td>\n",
       "      <td>0</td>\n",
       "      <td>0</td>\n",
       "      <td>0</td>\n",
       "      <td>9</td>\n",
       "      <td>14</td>\n",
       "      <td>2</td>\n",
       "      <td>0</td>\n",
       "      <td>...</td>\n",
       "      <td>0</td>\n",
       "      <td>0</td>\n",
       "      <td>0</td>\n",
       "      <td>10</td>\n",
       "      <td>13</td>\n",
       "      <td>9.939</td>\n",
       "      <td>13.029</td>\n",
       "      <td>2599.85</td>\n",
       "      <td>3495.84</td>\n",
       "      <td>1</td>\n",
       "    </tr>\n",
       "    <tr>\n",
       "      <th>10x14</th>\n",
       "      <td>0</td>\n",
       "      <td>0</td>\n",
       "      <td>1</td>\n",
       "      <td>0</td>\n",
       "      <td>0</td>\n",
       "      <td>0</td>\n",
       "      <td>3</td>\n",
       "      <td>4</td>\n",
       "      <td>2</td>\n",
       "      <td>0</td>\n",
       "      <td>...</td>\n",
       "      <td>0</td>\n",
       "      <td>0</td>\n",
       "      <td>0</td>\n",
       "      <td>10</td>\n",
       "      <td>14</td>\n",
       "      <td>9.987</td>\n",
       "      <td>14.089</td>\n",
       "      <td>2613.81</td>\n",
       "      <td>3803.89</td>\n",
       "      <td>1</td>\n",
       "    </tr>\n",
       "    <tr>\n",
       "      <th>...</th>\n",
       "      <td>...</td>\n",
       "      <td>...</td>\n",
       "      <td>...</td>\n",
       "      <td>...</td>\n",
       "      <td>...</td>\n",
       "      <td>...</td>\n",
       "      <td>...</td>\n",
       "      <td>...</td>\n",
       "      <td>...</td>\n",
       "      <td>...</td>\n",
       "      <td>...</td>\n",
       "      <td>...</td>\n",
       "      <td>...</td>\n",
       "      <td>...</td>\n",
       "      <td>...</td>\n",
       "      <td>...</td>\n",
       "      <td>...</td>\n",
       "      <td>...</td>\n",
       "      <td>...</td>\n",
       "      <td>...</td>\n",
       "      <td>...</td>\n",
       "    </tr>\n",
       "    <tr>\n",
       "      <th>9x23</th>\n",
       "      <td>2</td>\n",
       "      <td>1</td>\n",
       "      <td>4</td>\n",
       "      <td>1</td>\n",
       "      <td>0</td>\n",
       "      <td>0</td>\n",
       "      <td>12</td>\n",
       "      <td>9</td>\n",
       "      <td>0</td>\n",
       "      <td>0</td>\n",
       "      <td>...</td>\n",
       "      <td>0</td>\n",
       "      <td>0</td>\n",
       "      <td>0</td>\n",
       "      <td>9</td>\n",
       "      <td>23</td>\n",
       "      <td>9.064</td>\n",
       "      <td>22.968</td>\n",
       "      <td>2345.36</td>\n",
       "      <td>6384.29</td>\n",
       "      <td>1</td>\n",
       "    </tr>\n",
       "    <tr>\n",
       "      <th>9x24</th>\n",
       "      <td>2</td>\n",
       "      <td>1</td>\n",
       "      <td>1</td>\n",
       "      <td>0</td>\n",
       "      <td>0</td>\n",
       "      <td>0</td>\n",
       "      <td>9</td>\n",
       "      <td>16</td>\n",
       "      <td>2</td>\n",
       "      <td>0</td>\n",
       "      <td>...</td>\n",
       "      <td>0</td>\n",
       "      <td>0</td>\n",
       "      <td>0</td>\n",
       "      <td>9</td>\n",
       "      <td>24</td>\n",
       "      <td>9.124</td>\n",
       "      <td>23.955</td>\n",
       "      <td>2362.81</td>\n",
       "      <td>6671.13</td>\n",
       "      <td>1</td>\n",
       "    </tr>\n",
       "    <tr>\n",
       "      <th>9x25</th>\n",
       "      <td>0</td>\n",
       "      <td>0</td>\n",
       "      <td>1</td>\n",
       "      <td>1</td>\n",
       "      <td>0</td>\n",
       "      <td>0</td>\n",
       "      <td>5</td>\n",
       "      <td>18</td>\n",
       "      <td>2</td>\n",
       "      <td>0</td>\n",
       "      <td>...</td>\n",
       "      <td>0</td>\n",
       "      <td>0</td>\n",
       "      <td>0</td>\n",
       "      <td>9</td>\n",
       "      <td>25</td>\n",
       "      <td>9.114</td>\n",
       "      <td>24.978</td>\n",
       "      <td>2359.91</td>\n",
       "      <td>6968.43</td>\n",
       "      <td>1</td>\n",
       "    </tr>\n",
       "    <tr>\n",
       "      <th>9x26</th>\n",
       "      <td>1</td>\n",
       "      <td>1</td>\n",
       "      <td>0</td>\n",
       "      <td>0</td>\n",
       "      <td>0</td>\n",
       "      <td>0</td>\n",
       "      <td>1</td>\n",
       "      <td>9</td>\n",
       "      <td>1</td>\n",
       "      <td>0</td>\n",
       "      <td>...</td>\n",
       "      <td>0</td>\n",
       "      <td>0</td>\n",
       "      <td>0</td>\n",
       "      <td>9</td>\n",
       "      <td>26</td>\n",
       "      <td>9.104</td>\n",
       "      <td>25.987</td>\n",
       "      <td>2357.00</td>\n",
       "      <td>7261.66</td>\n",
       "      <td>1</td>\n",
       "    </tr>\n",
       "    <tr>\n",
       "      <th>9x27</th>\n",
       "      <td>0</td>\n",
       "      <td>0</td>\n",
       "      <td>0</td>\n",
       "      <td>0</td>\n",
       "      <td>0</td>\n",
       "      <td>0</td>\n",
       "      <td>2</td>\n",
       "      <td>2</td>\n",
       "      <td>0</td>\n",
       "      <td>0</td>\n",
       "      <td>...</td>\n",
       "      <td>0</td>\n",
       "      <td>0</td>\n",
       "      <td>0</td>\n",
       "      <td>9</td>\n",
       "      <td>27</td>\n",
       "      <td>9.067</td>\n",
       "      <td>26.873</td>\n",
       "      <td>2346.24</td>\n",
       "      <td>7519.15</td>\n",
       "      <td>1</td>\n",
       "    </tr>\n",
       "  </tbody>\n",
       "</table>\n",
       "<p>302 rows × 15510 columns</p>\n",
       "</div>"
      ],
      "text/plain": [
       "       FO538757.1  SAMD11  NOC2L  KLHL17  PLEKHN1  PERM1  HES4  ISG15  AGRN  \\\n",
       "10x10           0       0      0       0        1      0     0      2     0   \n",
       "10x11           0       0      0       0        0      0     0      2     0   \n",
       "10x12           0       0      0       0        0      0     0      6     0   \n",
       "10x13           1       0      2       0        0      0     9     14     2   \n",
       "10x14           0       0      1       0        0      0     3      4     2   \n",
       "...           ...     ...    ...     ...      ...    ...   ...    ...   ...   \n",
       "9x23            2       1      4       1        0      0    12      9     0   \n",
       "9x24            2       1      1       0        0      0     9     16     2   \n",
       "9x25            0       0      1       1        0      0     5     18     2   \n",
       "9x26            1       1      0       0        0      0     1      9     1   \n",
       "9x27            0       0      0       0        0      0     2      2     0   \n",
       "\n",
       "       RNF223  ...  USP9Y  DDX3Y  UTY   x   y  new_x   new_y  pixel_x  \\\n",
       "10x10       0  ...      0      0    0  10  10  9.937  10.017  2599.27   \n",
       "10x11       0  ...      0      0    0  10  11  9.945  11.103  2601.60   \n",
       "10x12       0  ...      0      0    0  10  12  9.941  12.028  2600.43   \n",
       "10x13       0  ...      0      0    0  10  13  9.939  13.029  2599.85   \n",
       "10x14       0  ...      0      0    0  10  14  9.987  14.089  2613.81   \n",
       "...       ...  ...    ...    ...  ...  ..  ..    ...     ...      ...   \n",
       "9x23        0  ...      0      0    0   9  23  9.064  22.968  2345.36   \n",
       "9x24        0  ...      0      0    0   9  24  9.124  23.955  2362.81   \n",
       "9x25        0  ...      0      0    0   9  25  9.114  24.978  2359.91   \n",
       "9x26        0  ...      0      0    0   9  26  9.104  25.987  2357.00   \n",
       "9x27        0  ...      0      0    0   9  27  9.067  26.873  2346.24   \n",
       "\n",
       "       pixel_y  selected  \n",
       "10x10  2620.50         1  \n",
       "10x11  2936.11         1  \n",
       "10x12  3204.93         1  \n",
       "10x13  3495.84         1  \n",
       "10x14  3803.89         1  \n",
       "...        ...       ...  \n",
       "9x23   6384.29         1  \n",
       "9x24   6671.13         1  \n",
       "9x25   6968.43         1  \n",
       "9x26   7261.66         1  \n",
       "9x27   7519.15         1  \n",
       "\n",
       "[302 rows x 15510 columns]"
      ]
     },
     "execution_count": 58,
     "metadata": {},
     "output_type": "execute_result"
    }
   ],
   "source": [
    "list(ds.meta_dict.values())[0]"
   ]
  },
  {
   "cell_type": "code",
   "execution_count": 45,
   "id": "dcc989da-537c-4296-90cf-45142575ce64",
   "metadata": {
    "tags": []
   },
   "outputs": [],
   "source": [
    "# ds.center_dict['D4']"
   ]
  },
  {
   "cell_type": "code",
   "execution_count": 46,
   "id": "1b2699b4-0292-4e7e-89f0-68b4f8cced7b",
   "metadata": {
    "tags": []
   },
   "outputs": [],
   "source": [
    "# ds.img_dict['D4']"
   ]
  },
  {
   "cell_type": "code",
   "execution_count": 44,
   "id": "10e0b223-4545-41eb-9c7b-bdf9f93961b3",
   "metadata": {
    "tags": []
   },
   "outputs": [
    {
     "data": {
      "text/plain": [
       "(9307, 9881)"
      ]
     },
     "execution_count": 44,
     "metadata": {},
     "output_type": "execute_result"
    }
   ],
   "source": [
    "ds.get_img('D4').size"
   ]
  },
  {
   "cell_type": "code",
   "execution_count": null,
   "id": "25e6f7bd-5bf8-43d6-8057-237fd01f05f2",
   "metadata": {},
   "outputs": [],
   "source": []
  }
 ],
 "metadata": {
  "kernelspec": {
   "display_name": "Python 3 (ipykernel)",
   "language": "python",
   "name": "python3"
  },
  "language_info": {
   "codemirror_mode": {
    "name": "ipython",
    "version": 3
   },
   "file_extension": ".py",
   "mimetype": "text/x-python",
   "name": "python",
   "nbconvert_exporter": "python",
   "pygments_lexer": "ipython3",
   "version": "3.8.16"
  }
 },
 "nbformat": 4,
 "nbformat_minor": 5
}
