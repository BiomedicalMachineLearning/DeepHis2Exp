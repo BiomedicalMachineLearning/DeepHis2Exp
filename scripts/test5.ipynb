{
 "cells": [
  {
   "cell_type": "code",
   "execution_count": 1,
   "id": "29fcc6c1-fe1d-4318-a8a1-9cc122f7aee4",
   "metadata": {
    "tags": []
   },
   "outputs": [
    {
     "data": {
      "text/plain": [
       "'/scratch/imb/uqjxie6/benchmmarking/DeepHis2Exp/scripts'"
      ]
     },
     "execution_count": 1,
     "metadata": {},
     "output_type": "execute_result"
    }
   ],
   "source": [
    "%pwd"
   ]
  },
  {
   "cell_type": "code",
   "execution_count": 6,
   "id": "5bc83f69-49f6-40ff-9fb9-93723bb40ead",
   "metadata": {
    "tags": []
   },
   "outputs": [],
   "source": [
    "import sys\n",
    "from pathlib import Path\n",
    "import os\n",
    "import numpy as np\n",
    "import pandas as pd\n",
    "from pathlib import Path, PurePath\n",
    "from typing import Union, Dict, Optional, Tuple, BinaryIO\n",
    "import h5py\n",
    "import json\n",
    "from matplotlib.image import imread\n",
    "import matplotlib.pyplot as plt\n",
    "\n",
    "import anndata\n",
    "from anndata import (\n",
    "    AnnData,\n",
    "    read_csv,\n",
    "    read_text,\n",
    "    read_excel,\n",
    "    read_mtx,\n",
    "    read_loom,\n",
    "    read_hdf,\n",
    ")\n",
    "from anndata import read as read_h5ad\n",
    "from anndata import read_h5ad\n",
    "import scanpy as sc\n",
    "from scanpy import read_visium, read_10x_mtx\n",
    "\n",
    "import glob\n",
    "import torch\n",
    "import torchvision\n",
    "import pandas as pd \n",
    "import scprep as scp\n",
    "import anndata as ad\n",
    "import seaborn as sns\n",
    "import torch.nn as nn\n",
    "import torch.optim as optim\n",
    "import torch.nn.functional as F\n",
    "import torchvision.transforms as transforms\n",
    "from PIL import ImageFile, Image\n",
    "ImageFile.LOAD_TRUNCATED_IMAGES = True\n",
    "Image.MAX_IMAGE_PIXELS = None\n",
    "import pickle"
   ]
  },
  {
   "cell_type": "code",
   "execution_count": 35,
   "id": "5bf16315-b1db-4bfa-b916-b0c701521b5d",
   "metadata": {
    "tags": []
   },
   "outputs": [],
   "source": [
    "pred_path = \"../results/pf/hist2st_preds_VLP78_A_0,VLP78_A_1,VLP78_A_2,VLP78_A_3,VLP78_A_4,VLP78_A_5,VLP78_A_6,VLP78_A_7,VLP78_A_8_0.pkl\"\n",
    "with open(pred_path, 'rb') as f:\n",
    "    adata_pred, adata_truth = pickle.load(f)\n"
   ]
  },
  {
   "cell_type": "code",
   "execution_count": 17,
   "id": "4f91f8d1-3656-4180-ba92-c918aa8f7523",
   "metadata": {
    "tags": []
   },
   "outputs": [
    {
     "data": {
      "text/plain": [
       "Index(['CD4', 'TRAC', 'CXCR4'], dtype='object')"
      ]
     },
     "execution_count": 17,
     "metadata": {},
     "output_type": "execute_result"
    }
   ],
   "source": [
    "pred_adata.var_names"
   ]
  },
  {
   "cell_type": "code",
   "execution_count": 21,
   "id": "fd6ab258-44a4-488f-9317-692dcf829654",
   "metadata": {
    "tags": []
   },
   "outputs": [],
   "source": [
    "from scipy.stats import pearsonr,spearmanr\n",
    "\n",
    "def calculate_correlation(attr_1, attr_2):\n",
    "    r = pearsonr(attr_1, \n",
    "                       attr_2)[0]\n",
    "    return r\n"
   ]
  },
  {
   "cell_type": "code",
   "execution_count": 38,
   "id": "33b3f2c5-b8a6-4926-852c-d964aa148585",
   "metadata": {
    "tags": []
   },
   "outputs": [
    {
     "data": {
      "text/html": [
       "<div>\n",
       "<style scoped>\n",
       "    .dataframe tbody tr th:only-of-type {\n",
       "        vertical-align: middle;\n",
       "    }\n",
       "\n",
       "    .dataframe tbody tr th {\n",
       "        vertical-align: top;\n",
       "    }\n",
       "\n",
       "    .dataframe thead th {\n",
       "        text-align: right;\n",
       "    }\n",
       "</style>\n",
       "<table border=\"1\" class=\"dataframe\">\n",
       "  <thead>\n",
       "    <tr style=\"text-align: right;\">\n",
       "      <th></th>\n",
       "      <th>TRAC</th>\n",
       "      <th>CD4</th>\n",
       "      <th>CXCR4</th>\n",
       "    </tr>\n",
       "  </thead>\n",
       "  <tbody>\n",
       "    <tr>\n",
       "      <th>0</th>\n",
       "      <td>0.312039</td>\n",
       "      <td>-0.550521</td>\n",
       "      <td>0.345985</td>\n",
       "    </tr>\n",
       "    <tr>\n",
       "      <th>1</th>\n",
       "      <td>0.320121</td>\n",
       "      <td>-0.548367</td>\n",
       "      <td>0.339882</td>\n",
       "    </tr>\n",
       "    <tr>\n",
       "      <th>2</th>\n",
       "      <td>0.316947</td>\n",
       "      <td>-0.553246</td>\n",
       "      <td>0.332786</td>\n",
       "    </tr>\n",
       "    <tr>\n",
       "      <th>3</th>\n",
       "      <td>0.313598</td>\n",
       "      <td>-0.541061</td>\n",
       "      <td>0.341861</td>\n",
       "    </tr>\n",
       "    <tr>\n",
       "      <th>4</th>\n",
       "      <td>0.319545</td>\n",
       "      <td>-0.559065</td>\n",
       "      <td>0.346856</td>\n",
       "    </tr>\n",
       "    <tr>\n",
       "      <th>...</th>\n",
       "      <td>...</td>\n",
       "      <td>...</td>\n",
       "      <td>...</td>\n",
       "    </tr>\n",
       "    <tr>\n",
       "      <th>1066</th>\n",
       "      <td>0.319678</td>\n",
       "      <td>-0.550761</td>\n",
       "      <td>0.329483</td>\n",
       "    </tr>\n",
       "    <tr>\n",
       "      <th>1067</th>\n",
       "      <td>0.314570</td>\n",
       "      <td>-0.555894</td>\n",
       "      <td>0.334295</td>\n",
       "    </tr>\n",
       "    <tr>\n",
       "      <th>1068</th>\n",
       "      <td>0.324282</td>\n",
       "      <td>-0.551683</td>\n",
       "      <td>0.341838</td>\n",
       "    </tr>\n",
       "    <tr>\n",
       "      <th>1069</th>\n",
       "      <td>0.324964</td>\n",
       "      <td>-0.549015</td>\n",
       "      <td>0.334531</td>\n",
       "    </tr>\n",
       "    <tr>\n",
       "      <th>1070</th>\n",
       "      <td>0.317993</td>\n",
       "      <td>-0.535014</td>\n",
       "      <td>0.332588</td>\n",
       "    </tr>\n",
       "  </tbody>\n",
       "</table>\n",
       "<p>4995 rows × 3 columns</p>\n",
       "</div>"
      ],
      "text/plain": [
       "          TRAC       CD4     CXCR4\n",
       "0     0.312039 -0.550521  0.345985\n",
       "1     0.320121 -0.548367  0.339882\n",
       "2     0.316947 -0.553246  0.332786\n",
       "3     0.313598 -0.541061  0.341861\n",
       "4     0.319545 -0.559065  0.346856\n",
       "...        ...       ...       ...\n",
       "1066  0.319678 -0.550761  0.329483\n",
       "1067  0.314570 -0.555894  0.334295\n",
       "1068  0.324282 -0.551683  0.341838\n",
       "1069  0.324964 -0.549015  0.334531\n",
       "1070  0.317993 -0.535014  0.332588\n",
       "\n",
       "[4995 rows x 3 columns]"
      ]
     },
     "execution_count": 38,
     "metadata": {},
     "output_type": "execute_result"
    }
   ],
   "source": [
    "adata_pred.to_df()"
   ]
  },
  {
   "cell_type": "code",
   "execution_count": 36,
   "id": "20eee365-70e4-4089-84d5-ac1dce43db01",
   "metadata": {
    "tags": []
   },
   "outputs": [
    {
     "data": {
      "text/plain": [
       "0       0.345985\n",
       "1       0.339882\n",
       "2       0.332786\n",
       "3       0.341861\n",
       "4       0.346856\n",
       "          ...   \n",
       "1066    0.329483\n",
       "1067    0.334295\n",
       "1068    0.341838\n",
       "1069    0.334531\n",
       "1070    0.332588\n",
       "Name: CXCR4, Length: 4995, dtype: float32"
      ]
     },
     "execution_count": 36,
     "metadata": {},
     "output_type": "execute_result"
    }
   ],
   "source": [
    "adata_pred.to_df().loc[:,gene]"
   ]
  },
  {
   "cell_type": "code",
   "execution_count": 25,
   "id": "7d418678-0443-4154-99c8-99db3ba46a1b",
   "metadata": {
    "tags": []
   },
   "outputs": [
    {
     "data": {
      "text/plain": [
       "0       3.523009\n",
       "1       0.000000\n",
       "2       0.000000\n",
       "3       3.523009\n",
       "4       0.000000\n",
       "          ...   \n",
       "1092    0.000000\n",
       "1093    0.000000\n",
       "1094    0.000000\n",
       "1095    3.398114\n",
       "1096    3.301247\n",
       "Name: CD4, Length: 4995, dtype: float32"
      ]
     },
     "execution_count": 25,
     "metadata": {},
     "output_type": "execute_result"
    }
   ],
   "source": [
    "test_dataset.to_df().loc[:,gene]"
   ]
  },
  {
   "cell_type": "code",
   "execution_count": 32,
   "id": "5500c56a-be8b-4d9b-a2a3-1dbc8205b82d",
   "metadata": {
    "tags": []
   },
   "outputs": [
    {
     "name": "stderr",
     "output_type": "stream",
     "text": [
      "/scratch/imb/uqjxie6/software/stimage5/lib/python3.8/site-packages/scipy/stats/_stats_py.py:4424: ConstantInputWarning: An input array is constant; the correlation coefficient is not defined.\n",
      "  warnings.warn(stats.ConstantInputWarning(msg))\n",
      "/tmp/ipykernel_23968/1690285262.py:7: FutureWarning: The frame.append method is deprecated and will be removed from pandas in a future version. Use pandas.concat instead.\n",
      "  df = df.append(pd.Series([gene, cor_val, \"s\", \"Hist2ST\"],\n",
      "/scratch/imb/uqjxie6/software/stimage5/lib/python3.8/site-packages/scipy/stats/_stats_py.py:4424: ConstantInputWarning: An input array is constant; the correlation coefficient is not defined.\n",
      "  warnings.warn(stats.ConstantInputWarning(msg))\n",
      "/tmp/ipykernel_23968/1690285262.py:7: FutureWarning: The frame.append method is deprecated and will be removed from pandas in a future version. Use pandas.concat instead.\n",
      "  df = df.append(pd.Series([gene, cor_val, \"s\", \"Hist2ST\"],\n",
      "/scratch/imb/uqjxie6/software/stimage5/lib/python3.8/site-packages/scipy/stats/_stats_py.py:4424: ConstantInputWarning: An input array is constant; the correlation coefficient is not defined.\n",
      "  warnings.warn(stats.ConstantInputWarning(msg))\n",
      "/tmp/ipykernel_23968/1690285262.py:7: FutureWarning: The frame.append method is deprecated and will be removed from pandas in a future version. Use pandas.concat instead.\n",
      "  df = df.append(pd.Series([gene, cor_val, \"s\", \"Hist2ST\"],\n"
     ]
    }
   ],
   "source": [
    "df = pd.DataFrame()\n",
    "\n",
    "for gene in pred_adata.var_names:\n",
    "    pred = pred_adata.to_df().loc[:,gene]\n",
    "    pred = pred.fillna(0)\n",
    "    cor_val = calculate_correlation(pred, test_dataset.to_df().loc[:,gene])\n",
    "    df = df.append(pd.Series([gene, cor_val, \"s\", \"Hist2ST\"], \n",
    "                         index=[\"Gene\", \"Pearson correlation\", \"Slide\", \"Method\"]),\n",
    "              ignore_index=True)\n",
    "\n"
   ]
  },
  {
   "cell_type": "code",
   "execution_count": 30,
   "id": "af099dbc-7b27-408e-917c-94994eafcb8f",
   "metadata": {
    "tags": []
   },
   "outputs": [
    {
     "data": {
      "text/html": [
       "<div>\n",
       "<style scoped>\n",
       "    .dataframe tbody tr th:only-of-type {\n",
       "        vertical-align: middle;\n",
       "    }\n",
       "\n",
       "    .dataframe tbody tr th {\n",
       "        vertical-align: top;\n",
       "    }\n",
       "\n",
       "    .dataframe thead th {\n",
       "        text-align: right;\n",
       "    }\n",
       "</style>\n",
       "<table border=\"1\" class=\"dataframe\">\n",
       "  <thead>\n",
       "    <tr style=\"text-align: right;\">\n",
       "      <th></th>\n",
       "      <th>Gene</th>\n",
       "      <th>Pearson correlation</th>\n",
       "      <th>Slide</th>\n",
       "      <th>Method</th>\n",
       "    </tr>\n",
       "  </thead>\n",
       "  <tbody>\n",
       "    <tr>\n",
       "      <th>0</th>\n",
       "      <td>CD4</td>\n",
       "      <td>NaN</td>\n",
       "      <td>s</td>\n",
       "      <td>Hist2ST</td>\n",
       "    </tr>\n",
       "    <tr>\n",
       "      <th>1</th>\n",
       "      <td>TRAC</td>\n",
       "      <td>NaN</td>\n",
       "      <td>s</td>\n",
       "      <td>Hist2ST</td>\n",
       "    </tr>\n",
       "    <tr>\n",
       "      <th>2</th>\n",
       "      <td>CXCR4</td>\n",
       "      <td>NaN</td>\n",
       "      <td>s</td>\n",
       "      <td>Hist2ST</td>\n",
       "    </tr>\n",
       "  </tbody>\n",
       "</table>\n",
       "</div>"
      ],
      "text/plain": [
       "    Gene  Pearson correlation Slide   Method\n",
       "0    CD4                  NaN     s  Hist2ST\n",
       "1   TRAC                  NaN     s  Hist2ST\n",
       "2  CXCR4                  NaN     s  Hist2ST"
      ]
     },
     "execution_count": 30,
     "metadata": {},
     "output_type": "execute_result"
    }
   ],
   "source": [
    "df\n"
   ]
  },
  {
   "cell_type": "code",
   "execution_count": null,
   "id": "67243f40-2ad9-4995-966f-847230b4ccf0",
   "metadata": {},
   "outputs": [],
   "source": []
  }
 ],
 "metadata": {
  "kernelspec": {
   "display_name": "Python 3 (ipykernel)",
   "language": "python",
   "name": "python3"
  },
  "language_info": {
   "codemirror_mode": {
    "name": "ipython",
    "version": 3
   },
   "file_extension": ".py",
   "mimetype": "text/x-python",
   "name": "python",
   "nbconvert_exporter": "python",
   "pygments_lexer": "ipython3",
   "version": "3.8.16"
  }
 },
 "nbformat": 4,
 "nbformat_minor": 5
}
